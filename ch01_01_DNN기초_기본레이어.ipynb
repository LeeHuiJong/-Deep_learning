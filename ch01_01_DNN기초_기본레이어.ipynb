{
  "nbformat": 4,
  "nbformat_minor": 0,
  "metadata": {
    "colab": {
      "name": "ch01_01_DNN기초_기본레이어.ipynb",
      "provenance": [],
      "collapsed_sections": [],
      "include_colab_link": true
    },
    "kernelspec": {
      "name": "python3",
      "display_name": "Python 3"
    },
    "language_info": {
      "name": "python"
    }
  },
  "cells": [
    {
      "cell_type": "markdown",
      "metadata": {
        "id": "view-in-github",
        "colab_type": "text"
      },
      "source": [
        "<a href=\"https://colab.research.google.com/github/LeeHuiJong/-Deep_learning/blob/main/ch01_01_DNN%EA%B8%B0%EC%B4%88_%EA%B8%B0%EB%B3%B8%EB%A0%88%EC%9D%B4%EC%96%B4.ipynb\" target=\"_parent\"><img src=\"https://colab.research.google.com/assets/colab-badge.svg\" alt=\"Open In Colab\"/></a>"
      ]
    },
    {
      "cell_type": "markdown",
      "source": [
        "# 01. DNN기초 - 기본 레이어\n",
        "---\n",
        "* 날짜:\n",
        "* 이름:\n",
        "\n",
        "## 학습내용\n",
        "    - 딥러닝을 구성하는 레이어에 대해 이해한다.\n",
        "    - 활성화 함수 종류를 구현하고 특징을 정리한다.\n",
        "    - 그래디언트 소실에 대해 이해한다.\n",
        "\n",
        "## 학습자료\n",
        "\n",
        "\n",
        "- 케라스 창시자에게 배우는 딥러닝\n"
      ],
      "metadata": {
        "id": "9Q1yeunDnbDS"
      }
    },
    {
      "cell_type": "code",
      "source": [
        "import numpy as np\n",
        "import matplotlib.pyplot as plt\n",
        "import pandas as pd"
      ],
      "metadata": {
        "id": "FH_uBeAD1qZ1"
      },
      "execution_count": 1,
      "outputs": []
    },
    {
      "cell_type": "markdown",
      "source": [
        "## 선형 함수 (Linear)\n",
        "---\n",
        "\n",
        "<p align='center'>\n",
        "<img src=https://github.com/yebiny/SkillTreePython-DeepLearning/blob/main/imgs/ch0101-07.png?raw=true width=700>\n",
        "\n"
      ],
      "metadata": {
        "id": "TE4OOCmn02qg"
      }
    },
    {
      "cell_type": "markdown",
      "source": [
        "### **| 모델 생성**"
      ],
      "metadata": {
        "id": "otUGNnfHAMHh"
      }
    },
    {
      "cell_type": "code",
      "source": [
        "class LinearLayer():\n",
        "  # 학습파라미터 설정 w,b 의 shape는 인풋과 아웃풋에 의해 정해진다.\n",
        "  def __init__(self, d_in, d_out):\n",
        "    W_shape = (d_in, d_out)\n",
        "    B_shape = (d_out)\n",
        "\n",
        "    # 행렬 만들기\n",
        "    self.W = np.random.normal(0,1, W_shape) # 정규분포를 따르는 랜덤값 생성(평균 0, 표준편차 1)\n",
        "    self.B = np.zeros(B_shape) # Bias 는 덧셈해주는 값. 디폴트 값을 0\n",
        "\n",
        "  def forward(self, X):\n",
        "    # X : (n_sample, d_in)\n",
        "    return X@self.W + self.B\n",
        "layer1 = LinearLayer(d_in = 3, d_out = 3)\n",
        "layer2 = LinearLayer(d_in = 3, d_out = 2)\n",
        "print(layer1.W, layer1.B)\n",
        "print(layer2.W, layer2.B)\n",
        "X = np.array([[1, 2, 1]])\n",
        "print(f'X: {X} shape: {X.shape}')\n",
        "print(f'첫번째 레이어 계산결과: { layer1.forward(X) }')\n",
        "print(f'두번째 레이어 계산결과: { layer2.forward(layer1.forward(X)) }')"
      ],
      "metadata": {
        "id": "nG4eK5_61AEy",
        "colab": {
          "base_uri": "https://localhost:8080/"
        },
        "outputId": "c04d55f7-e062-4dbe-f873-2594426ae6e4"
      },
      "execution_count": 5,
      "outputs": [
        {
          "output_type": "stream",
          "name": "stdout",
          "text": [
            "[[ 1.9166126   0.0727731   2.03713949]\n",
            " [ 1.5236519  -1.92876913 -0.05515307]\n",
            " [ 1.01107759 -0.42076907  0.67470128]] [0. 0. 0.]\n",
            "[[ 1.52179636  1.85380577]\n",
            " [-0.11931202  0.96760605]\n",
            " [ 0.14615176 -0.08871171]] [0. 0.]\n",
            "X: [[1 2 1]] shape: (1, 3)\n",
            "첫번째 레이어 계산결과: [[ 5.97499399 -4.20553423  2.60153463]]\n",
            "두번째 레이어 계산결과: [[9.97471374 6.77639136]]\n"
          ]
        }
      ]
    },
    {
      "cell_type": "code",
      "source": [
        "class Model():\n",
        "  def __init__(self):\n",
        "    self.layer1 = LinearLayer(d_in = 3, d_out = 3)\n",
        "    self.layer2 = LinearLayer(d_in = 3, d_out = 2)\n",
        "\n",
        "  def predict(self, x):\n",
        "    z = self.layer1.forward(x)\n",
        "    y = self.layer2.forward(z)\n",
        "    return y\n",
        "  \n",
        "  # 학습파라미터를 반환하는 함수\n",
        "  def get_weights(self):\n",
        "    return [self.layer1.W, self.layer1.B, self.layer2.W, self.layer2.B]\n",
        "\n",
        "  # 학습파라미터를 직접 정해주는 함수\n",
        "  def set_weights(self, new_weight_list):\n",
        "    self.layer1.W = new_weight_list[0]\n",
        "    self.layer1.B = new_weight_list[1]\n",
        "    self.layer2.W = new_weight_list[2]\n",
        "    self.layer2.B = new_weight_list[3]"
      ],
      "metadata": {
        "id": "FYoL-mRbnSeC"
      },
      "execution_count": 6,
      "outputs": []
    },
    {
      "cell_type": "markdown",
      "source": [
        "* 모델 불러오기"
      ],
      "metadata": {
        "id": "NDY8-kbSCcGj"
      }
    },
    {
      "cell_type": "code",
      "source": [
        "model = Model()\n",
        "model.predict(X)"
      ],
      "metadata": {
        "id": "nwJeEInq6_P7",
        "colab": {
          "base_uri": "https://localhost:8080/"
        },
        "outputId": "4cedb634-a95c-44b9-95c9-8e3b1cf0d244"
      },
      "execution_count": 7,
      "outputs": [
        {
          "output_type": "execute_result",
          "data": {
            "text/plain": [
              "array([[8.42657598, 0.93048615]])"
            ]
          },
          "metadata": {},
          "execution_count": 7
        }
      ]
    },
    {
      "cell_type": "markdown",
      "source": [
        "### **| 순전파 계산**\n",
        "\n",
        "데이터와 학습파라미터의 값이 아래와 같을 때 Y값을 구하세요.\n",
        "\n",
        "<p align='center'>\n",
        "<img src=https://github.com/yebiny/SkillTreePython-DeepLearning/blob/main/imgs/ch0101-11.png?raw=true width=800>\n",
        "</p>"
      ],
      "metadata": {
        "id": "aQLEzz4e80It"
      }
    },
    {
      "cell_type": "markdown",
      "source": [
        "* 파라미터 정의"
      ],
      "metadata": {
        "id": "2jpPu_1ACdlt"
      }
    },
    {
      "cell_type": "code",
      "source": [
        "X = np.array([[1, 2, 1]])\n",
        "W1_ = np.array([1,1,-1,1,0.5,-1,1,1,1]).reshape(3,3)\n",
        "B1_ = np.array([0,0,0]).reshape(1,3)\n",
        "W2_ = np.array([1,0.5,-1,0.5,0,1]).reshape(3,2)\n",
        "B2_ = np.array([1, -0.5]).reshape(1,2)\n",
        "\n",
        "print(f'{X} X shape: {X.shape}')\n",
        "print(f'{W1_} W1 shape: {W1_.shape}')\n",
        "print(f'{B1_} B1 shape: {B1_.shape}')\n",
        "print(f'{W2_} W2 shape: {W2_.shape}')\n",
        "print(f'{B2_} B2 shape: {B2_.shape}')"
      ],
      "metadata": {
        "id": "0aZbsZGP6XVH",
        "colab": {
          "base_uri": "https://localhost:8080/"
        },
        "outputId": "f977bfd2-85f5-4c1d-fa40-b2c28fccfd73"
      },
      "execution_count": 8,
      "outputs": [
        {
          "output_type": "stream",
          "name": "stdout",
          "text": [
            "[[1 2 1]] X shape: (1, 3)\n",
            "[[ 1.   1.  -1. ]\n",
            " [ 1.   0.5 -1. ]\n",
            " [ 1.   1.   1. ]] W1 shape: (3, 3)\n",
            "[[0 0 0]] B1 shape: (1, 3)\n",
            "[[ 1.   0.5]\n",
            " [-1.   0.5]\n",
            " [ 0.   1. ]] W2 shape: (3, 2)\n",
            "[[ 1.  -0.5]] B2 shape: (1, 2)\n"
          ]
        }
      ]
    },
    {
      "cell_type": "markdown",
      "source": [
        "* 학습 파라미터 확인"
      ],
      "metadata": {
        "id": "Yj1j1WVlCfEL"
      }
    },
    {
      "cell_type": "code",
      "source": [
        "model.get_weights()"
      ],
      "metadata": {
        "id": "-KS1Snwg60FH",
        "colab": {
          "base_uri": "https://localhost:8080/"
        },
        "outputId": "81ef989f-0c9c-41cf-b7cc-030072d75d69"
      },
      "execution_count": 9,
      "outputs": [
        {
          "output_type": "execute_result",
          "data": {
            "text/plain": [
              "[array([[-0.87551565,  0.27646454,  0.30428114],\n",
              "        [ 0.69888651,  0.91192104,  0.81835272],\n",
              "        [ 0.65566066,  1.13134598,  0.31877531]]),\n",
              " array([0., 0., 0.]),\n",
              " array([[ 0.77122882, -1.23867454],\n",
              "        [ 0.20168362,  0.41931451],\n",
              "        [ 3.03853264,  0.45777583]]),\n",
              " array([0., 0.])]"
            ]
          },
          "metadata": {},
          "execution_count": 9
        }
      ]
    },
    {
      "cell_type": "markdown",
      "source": [
        "* 학습 파라미터 세팅"
      ],
      "metadata": {
        "id": "eUOF6xYgClzp"
      }
    },
    {
      "cell_type": "code",
      "source": [
        "model.set_weights([W1_, B1_, W2_, B2_])\n",
        "model.get_weights()"
      ],
      "metadata": {
        "id": "DvoBSK086gxm",
        "colab": {
          "base_uri": "https://localhost:8080/"
        },
        "outputId": "81e2acd5-aeac-4aa0-d2ad-cc58dc032b3d"
      },
      "execution_count": 10,
      "outputs": [
        {
          "output_type": "execute_result",
          "data": {
            "text/plain": [
              "[array([[ 1. ,  1. , -1. ],\n",
              "        [ 1. ,  0.5, -1. ],\n",
              "        [ 1. ,  1. ,  1. ]]), array([[0, 0, 0]]), array([[ 1. ,  0.5],\n",
              "        [-1. ,  0.5],\n",
              "        [ 0. ,  1. ]]), array([[ 1. , -0.5]])]"
            ]
          },
          "metadata": {},
          "execution_count": 10
        }
      ]
    },
    {
      "cell_type": "markdown",
      "source": [
        "* 예측 (순전파)"
      ],
      "metadata": {
        "id": "V-dCS6zTCjD2"
      }
    },
    {
      "cell_type": "code",
      "source": [
        "model.predict(X)"
      ],
      "metadata": {
        "id": "Ag3K-NO97FzD",
        "colab": {
          "base_uri": "https://localhost:8080/"
        },
        "outputId": "2604f7f8-9fac-4b55-b8f6-f318fdfb423c"
      },
      "execution_count": 11,
      "outputs": [
        {
          "output_type": "execute_result",
          "data": {
            "text/plain": [
              "array([[2., 1.]])"
            ]
          },
          "metadata": {},
          "execution_count": 11
        }
      ]
    },
    {
      "cell_type": "markdown",
      "source": [
        "## 활성 함수 (Activation)\n",
        "---\n",
        "\n",
        "<p align='center'>\n",
        "<img src=https://github.com/yebiny/SkillTreePython-DeepLearning/blob/main/imgs/ch0101-08.png?raw=true width=800>\n",
        "\n",
        "* 비선형 함수를 사용하는 이유\n",
        "\n",
        "> 선형함수인 $h(x)=cx$를 활성화함수로 사용한 3층 네트워크를 떠올려 보세요.\n",
        "이를 식으로 나타내면 $y(x)=h(h(h(x)))$가 됩니다. 이는 실은 $y(x)=ax$와 똑같은 식입니다.\n",
        "$a=c3$이라고만 하면 끝이죠. 즉, 은닉층이 없는 네트워크로 표현할 수 있습니다.\n",
        "뉴럴네트워크에서 층을 쌓는 혜택을 얻고 싶다면 활성화함수로는 반드시 비선형 함수를 사용해야 합니다. **출처: [밑바닥부터 시작하는 딥러닝]**\n",
        " \n",
        "* 어떤 활성화 함수를 써야할까\n",
        "\n",
        "> ELU → LeakyReLU → ReLU → tanh → sigmoid 순으로 사용하라는 얘기도 있고, cs231n 강의에서는 ReLU를 먼저 쓰고 , 그다음으로 LeakyReLU나 ELU 같은 ReLU Family를 쓰며, sigmoid는 사용하지 말라고 하고 있다.\n",
        "**출처: https://excelsior-cjh.tistory.com/177 [EXCELSIOR:티스토리]**\n",
        "\n",
        "* 딥러닝에서 사용되는 활성화 함수의 종류\n",
        "\n",
        "```\n",
        "- Step Function # 예외(쓰이지 않음)\n",
        "- Sigmoid : 예측 결과가 두개중 하나\n",
        "- Softmax : 예측 결과가 세개 이상 클래스 중 하나\n",
        "만약 마지막층에서 활성화 안쓰면 회귀\n",
        "_________마지막층 사용_____\n",
        "- Tanh\n",
        "- ReLU\n",
        "- Leaky ReLU\n",
        "- PReLU\n",
        "- ELU\n",
        "______ 중간층 사용_______\n",
        "중간층에서 사용될 때는 gradient(미분) 값이 중요\n",
        "```\n"
      ],
      "metadata": {
        "id": "BARbnIMRzMRC"
      }
    },
    {
      "cell_type": "markdown",
      "source": [
        "* 시각화를 위한 플롯팅 함수"
      ],
      "metadata": {
        "id": "SFciXyKSJG9q"
      }
    },
    {
      "cell_type": "code",
      "source": [
        "plt.rcParams['figure.figsize'] = (8, 2)\n",
        "def plot_func(xs, ys, title=''):\n",
        "  plt.plot(xs, ys)\n",
        "  plt.title(title)\n",
        "  plt.ylim(-1, 2)\n",
        "  plt.hlines(xmin=-5, xmax=5, y=0, colors='r', linestyles=':')\n",
        "  plt.grid()\n",
        "\n",
        "plot_func(xs=[1], ys=[1])"
      ],
      "metadata": {
        "id": "joqmI6sxJOIO",
        "colab": {
          "base_uri": "https://localhost:8080/",
          "height": 161
        },
        "outputId": "4385119b-5055-4432-952c-681a7fc4e03f"
      },
      "execution_count": 2,
      "outputs": [
        {
          "output_type": "display_data",
          "data": {
            "text/plain": [
              "<Figure size 576x144 with 1 Axes>"
            ],
            "image/png": "[encoded data removed]"
          },
          "metadata": {
            "needs_background": "light"
          }
        }
      ]
    },
    {
      "cell_type": "markdown",
      "source": [
        "### **| Sigmoid**\n",
        "\n",
        "<p align='center'>\n",
        "<img src=https://github.com/yebiny/SkillTreePython-DeepLearning/blob/main/imgs/ch0101-15.png?raw=true width=500>\n",
        "\n",
        "\n",
        "\n"
      ],
      "metadata": {
        "id": "qCVwE0VGdEya"
      }
    },
    {
      "cell_type": "markdown",
      "source": [
        "* 구현\n",
        "\\begin{align}\n",
        "sigmoid(x) = \\frac{1}{1+e^{-x}}\n",
        "\\end{align}\n"
      ],
      "metadata": {
        "id": "lZ-BqoaMI_zr"
      }
    },
    {
      "cell_type": "code",
      "source": [
        "# 함수의 인풋, 아웃풋이 숫자 하나 : 0차 텐서\n",
        "def sigmoid(x):\n",
        "  return 1/(1+np.exp(-x))\n",
        "\n",
        "sigmoid(5)"
      ],
      "metadata": {
        "id": "lykqtbIuzXlS",
        "colab": {
          "base_uri": "https://localhost:8080/"
        },
        "outputId": "5b0ce707-4219-455b-ae80-2fbc784407b5"
      },
      "execution_count": 12,
      "outputs": [
        {
          "output_type": "execute_result",
          "data": {
            "text/plain": [
              "0.9933071490757153"
            ]
          },
          "metadata": {},
          "execution_count": 12
        }
      ]
    },
    {
      "cell_type": "markdown",
      "source": [
        "* 미분\n",
        "\\begin{align}\n",
        "\\frac{d}{dx} sigmoid(x) = sigmoid(x)(1-sigmoid(x))\n",
        "\\end{align}\n"
      ],
      "metadata": {
        "id": "RwWVqA0ddJvx"
      }
    },
    {
      "cell_type": "code",
      "source": [
        "def sigmoid_grad(x):\n",
        "  return sigmoid(x)*(1-sigmoid(x))\n",
        "\n",
        "sigmoid_grad(1)"
      ],
      "metadata": {
        "id": "Oqb7TLZGzXnh",
        "colab": {
          "base_uri": "https://localhost:8080/"
        },
        "outputId": "de7561ac-6862-43ff-9b34-d4d594c3aa31"
      },
      "execution_count": 13,
      "outputs": [
        {
          "output_type": "execute_result",
          "data": {
            "text/plain": [
              "0.19661193324148185"
            ]
          },
          "metadata": {},
          "execution_count": 13
        }
      ]
    },
    {
      "cell_type": "markdown",
      "source": [
        "* 시각화"
      ],
      "metadata": {
        "id": "05K5suyKJhCH"
      }
    },
    {
      "cell_type": "code",
      "source": [
        "# xs = np.array([-2, -1, 0, 1, 2])\n",
        "xs = np.linspace(-5, 5, 100) # -5 부터 5 까지 100개의 숫자\n",
        "plt.subplot(121); plot_func(xs, sigmoid(xs), title = 'sigmoid')\n",
        "plt.subplot(122); plot_func(xs, sigmoid_grad(xs), title = 'sigmoid(dev)')"
      ],
      "metadata": {
        "id": "y_27bU8kJCdO",
        "colab": {
          "base_uri": "https://localhost:8080/",
          "height": 173
        },
        "outputId": "7dd38248-0be2-435b-c7a1-423a6b46e80b"
      },
      "execution_count": 14,
      "outputs": [
        {
          "output_type": "display_data",
          "data": {
            "text/plain": [
              "<Figure size 576x144 with 2 Axes>"
            ],
            "image/png": "[encoded data removed]"
          },
          "metadata": {
            "needs_background": "light"
          }
        }
      ]
    },
    {
      "cell_type": "markdown",
      "source": [
        "\n",
        "\n",
        "**Sigmoid 소개**\n",
        "\n",
        "```\n",
        "- # 나오게 된 배경 : 정규분포를 해석하기 위해서 나왔다.\n",
        "- # 장단점 : 기울기가 급격히 변화해 발생하는 기울기 폭주를 막을수 있다. 하지만 기울기 소실등 기울기를 제대로 찾지못해 학습효율성이 감소한다는 단점을 지닌다.\n",
        "- # 특징 정리 (출력 범위: 0~1, 미분 값: 0.25, 0보다 작은값에서 볼록, 0보다 큰값에서 오목함)\n",
        "```\n"
      ],
      "metadata": {
        "id": "Oi2i3MEjIyhu"
      }
    },
    {
      "cell_type": "markdown",
      "source": [
        "### **| Softmax**\n",
        "\n",
        "<p align='center'>\n",
        "<img src=https://github.com/yebiny/SkillTreePython-DeepLearning/blob/main/imgs/ch0101-16.png?raw=true width=550>\n"
      ],
      "metadata": {
        "id": "oUb85RD1ds-H"
      }
    },
    {
      "cell_type": "markdown",
      "source": [
        "* 구현\n",
        "\n",
        "\\begin{align}\n",
        "softmax(x) = \\frac{e^{x_i}}{\\sum_je^{x_j}}\n",
        "\\end{align}"
      ],
      "metadata": {
        "id": "MAS3Q5qGkSnz"
      }
    },
    {
      "cell_type": "code",
      "source": [
        "# 함수의 인풋, 아웃풋이 1차 텐서 \n",
        "def softmax(xs):\n",
        "  exs = np.exp(xs) # [np.exp(1), np.exp(2), np.exp(1)]\n",
        "  sum_exs = np.sum(exs) # np.exp(1) + np.exp(2) + np.exp(3) # 0차 텐서\n",
        "  return exs / sum_exs # np.exp(1)/sum.exs, np.exp(2)/sum.exs, np.exp(3)/sum.exs\n",
        "# 아웃풋 요소들은 0~1 의 값이고 다 더하면 1이된다.\n",
        "\n",
        "softmax(np.array([1,2,1,1]))"
      ],
      "metadata": {
        "id": "V9OtdSfPkSn0",
        "colab": {
          "base_uri": "https://localhost:8080/"
        },
        "outputId": "90c0fb55-bd6b-4c96-89cd-7c6274567552"
      },
      "execution_count": 15,
      "outputs": [
        {
          "output_type": "execute_result",
          "data": {
            "text/plain": [
              "array([0.1748777 , 0.47536689, 0.1748777 , 0.1748777 ])"
            ]
          },
          "metadata": {},
          "execution_count": 15
        }
      ]
    },
    {
      "cell_type": "markdown",
      "source": [
        "* 미분\n",
        "\n",
        "\n",
        "\\begin{align}\n",
        "\\frac{x}{dx} Softmax(\\vec{x}) =  \n",
        "\\begin{cases}\n",
        "& Softmax(\\vec{x})(1-Softmax(\\vec{x})) \\;\\;\\;\\;\\;\\;\\; \\text{ if } i=j  \n",
        "\\\\ & 0 \\;\\;\\;\\;\\;\\;\\;\\;\\;\\;\\;\\;\\;\\;\\;\\;\\;\\;\\;\\;\\;\\;\\;\\;\\;\\;\\;\\;\\;\\;\\;\\;\\;\\;\\;\\;\\;\\;\\;\\;\\;\\;\\;\\;\\;\\;\\;\\;\\;\\;\\;\\;\\;\\;\\;\\; \\text{ if } i\\neq j \n",
        "\\end{cases}\n",
        "\\end{align}"
      ],
      "metadata": {
        "id": "DozuQe8ikSn0"
      }
    },
    {
      "cell_type": "code",
      "source": [
        "# 예측 [0.7, 0.2, 0.1] 실제 [1, 0, 0] -> 0번째 클래스가 정답(j=0)\n",
        "# 미분 -> [0.7 * softmax([1, 2, 1])]\n",
        "def softmax_grad(xs, j = 0):\n",
        "  return (softmax(xs) * (1-softmax(xs)) )[j]\n",
        "  \n",
        "softmax_grad(np.array([0.7, 0.2, 0.1]))"
      ],
      "metadata": {
        "id": "RsLPlGPckSn0",
        "colab": {
          "base_uri": "https://localhost:8080/"
        },
        "outputId": "5df4b218-9f73-40a2-de14-8a517f5e5146"
      },
      "execution_count": 16,
      "outputs": [
        {
          "output_type": "execute_result",
          "data": {
            "text/plain": [
              "0.24870136547595253"
            ]
          },
          "metadata": {},
          "execution_count": 16
        }
      ]
    },
    {
      "cell_type": "markdown",
      "source": [
        "* 시각화\n"
      ],
      "metadata": {
        "id": "z2ak5_tNQmu9"
      }
    },
    {
      "cell_type": "code",
      "source": [
        "ys = softmax(np.array([1,2,1,1]))\n",
        "pd.DataFrame(ys).plot(kind='bar')\n",
        "pd.DataFrame([ys]).plot(kind='barh', stacked = True)"
      ],
      "metadata": {
        "id": "s_LJOuOJQmu9",
        "colab": {
          "base_uri": "https://localhost:8080/",
          "height": 311
        },
        "outputId": "26b4cbd3-f11b-4e14-ca65-fa0f210c77a8"
      },
      "execution_count": 17,
      "outputs": [
        {
          "output_type": "execute_result",
          "data": {
            "text/plain": [
              "<matplotlib.axes._subplots.AxesSubplot at 0x7fadd3ca85d0>"
            ]
          },
          "metadata": {},
          "execution_count": 17
        },
        {
          "output_type": "display_data",
          "data": {
            "text/plain": [
              "<Figure size 576x144 with 1 Axes>"
            ],
            "image/png": "[encoded data removed]"
          },
          "metadata": {
            "needs_background": "light"
          }
        },
        {
          "output_type": "display_data",
          "data": {
            "text/plain": [
              "<Figure size 576x144 with 1 Axes>"
            ],
            "image/png": "[encoded data removed]"
          },
          "metadata": {
            "needs_background": "light"
          }
        }
      ]
    },
    {
      "cell_type": "code",
      "source": [
        "plot_func(xs, softmax(xs))"
      ],
      "metadata": {
        "colab": {
          "base_uri": "https://localhost:8080/",
          "height": 161
        },
        "id": "c5h_A_IVfPKr",
        "outputId": "87c24b6b-d2a7-46a5-bf2e-6b9fda3c268a"
      },
      "execution_count": 20,
      "outputs": [
        {
          "output_type": "display_data",
          "data": {
            "text/plain": [
              "<Figure size 576x144 with 1 Axes>"
            ],
            "image/png": "[encoded data removed]"
          },
          "metadata": {
            "needs_background": "light"
          }
        }
      ]
    },
    {
      "cell_type": "markdown",
      "source": [
        "\n",
        "**Softmax 소개**\n",
        "\n",
        "```\n",
        "- # 나오게 된 배경 : 시그모이드와 비슷하지만 이진분류가 아닌 다중분류를 위해 고안된 함수다.\n",
        "- # 장단점 : 확률 총합이 1이기 때문에 어떤 분류에 속할 확률이 높은지 쉽게 인지 가능하다. 하지만 지나치게 큰 값이 들어갈 경우 값이 너무커서 연산이 되지 않는 오버플로 문제를 일이킬 수 도 있다.\n",
        "- # 특징 정리 (출력 범위 : 0~1 사이의 확률값을 가진다, 미분 값 : 1차, 모든값의 합은 1이다. )\n",
        "```\n"
      ],
      "metadata": {
        "id": "ejR0PQYZtLSg"
      }
    },
    {
      "cell_type": "markdown",
      "source": [
        "### **| Tanh**\n",
        "\n"
      ],
      "metadata": {
        "id": "W78hLTGxdtK3"
      }
    },
    {
      "cell_type": "markdown",
      "source": [
        "* 구현\n",
        "\n",
        "\\begin{align}\n",
        "tanh(x) = \\frac{e^x - e^{-x}}{e^{x}+e^{-x}}\n",
        "\\end{align}"
      ],
      "metadata": {
        "id": "eBD4SPRLkTMl"
      }
    },
    {
      "cell_type": "code",
      "source": [
        "def tanh(x):\n",
        "  return (np.exp(x) - np.exp(-x)) / (np.exp(x) + np.exp(-x))"
      ],
      "metadata": {
        "id": "SHdGQkAhkTMl"
      },
      "execution_count": 18,
      "outputs": []
    },
    {
      "cell_type": "code",
      "source": [
        "plot_func(xs, tanh(xs))"
      ],
      "metadata": {
        "colab": {
          "base_uri": "https://localhost:8080/",
          "height": 161
        },
        "id": "kUZELcTkCG-W",
        "outputId": "92a2cf3b-3991-420e-e848-6820b557375c"
      },
      "execution_count": 19,
      "outputs": [
        {
          "output_type": "display_data",
          "data": {
            "text/plain": [
              "<Figure size 576x144 with 1 Axes>"
            ],
            "image/png": "[encoded data removed]"
          },
          "metadata": {
            "needs_background": "light"
          }
        }
      ]
    },
    {
      "cell_type": "markdown",
      "source": [
        "* 미분\n",
        "\n",
        "\n",
        "\\begin{align}\n",
        "\\frac{d}{dx} tanh(x) = (1-tanh(x))(1+tanh(x))) = 1-tanh(x)^2\n",
        "\\end{align}"
      ],
      "metadata": {
        "id": "nqlW5Q_7kTMl"
      }
    },
    {
      "cell_type": "code",
      "source": [
        "def tanh_grad(xs):\n",
        "  return (1-tanh(xs)**2)"
      ],
      "metadata": {
        "id": "NKy-cXGAkTMl"
      },
      "execution_count": null,
      "outputs": []
    },
    {
      "cell_type": "markdown",
      "source": [
        "* 시각화"
      ],
      "metadata": {
        "id": "wXi8E2T_INh4"
      }
    },
    {
      "cell_type": "code",
      "source": [
        "plt.subplot(121); plot_func(xs, tanh(xs), title = 'tanh')\n",
        "plt.subplot(122); plot_func(xs, tanh_grad(xs), title = 'tanh(dev)')"
      ],
      "metadata": {
        "id": "zli5iL01INh5",
        "colab": {
          "base_uri": "https://localhost:8080/",
          "height": 173
        },
        "outputId": "107923e4-252a-455c-9847-ba0c0e4bdacf"
      },
      "execution_count": null,
      "outputs": [
        {
          "output_type": "display_data",
          "data": {
            "text/plain": [
              "<Figure size 576x144 with 2 Axes>"
            ],
            "image/png": "[encoded data removed]"
          },
          "metadata": {
            "needs_background": "light"
          }
        }
      ]
    },
    {
      "cell_type": "markdown",
      "source": [
        "\n",
        "**Tanh 소개**\n",
        "\n",
        "```\n",
        "- # 나오게 된 배경 : 시그모이드 함수의 단점을 보완해서 나온 함수다.\n",
        "- # 장단점 : 기울기가 양수 음수 모두 나올수 있기 때문에 시그모이드 보다 학습효율성이 뛰어나고 출력값의 변화폭이 크기 때문에 기울기소실 현상이 적은 편이다. 하지만 시그모이드 보다 범위가 넓다 뿐이지 그 구간이 크지는 않으므로 x가 -5보다 작고 5보다 클 경우 기울기소실 현상문제는 여전히 존재함\n",
        "- # 특징 정리 (출력 범위 : -1~1, 미분 값 : 1, 시그모이드와 비슷하지만 최소범위가 -1로 확장되면서 출력범위가 넓어지고 경사면이 큰범위가 더 크기때문에 빠르게 수렴하여 학습할 수 있다. )\n",
        "```\n",
        "\n"
      ],
      "metadata": {
        "id": "aeS5x6QJINh5"
      }
    },
    {
      "cell_type": "markdown",
      "source": [
        "### **| ReLU**\n"
      ],
      "metadata": {
        "id": "3pvnp63ydtbv"
      }
    },
    {
      "cell_type": "markdown",
      "source": [
        "* 구현\n",
        "\n",
        "\\begin{align}\n",
        "ReLU(x) = max(0, x)\n",
        "\\end{align}"
      ],
      "metadata": {
        "id": "CoX6MmkZkU2s"
      }
    },
    {
      "cell_type": "code",
      "source": [
        "def relu(x):\n",
        "  return np.maximum(0,x)"
      ],
      "metadata": {
        "id": "pHdYyZY0kU2s"
      },
      "execution_count": null,
      "outputs": []
    },
    {
      "cell_type": "markdown",
      "source": [
        "* 미분\n",
        "\n",
        "\n",
        "\\begin{align}\n",
        "\\frac{x}{dx} ReLU(x) =  \n",
        "\\begin{cases}\n",
        "& 1 \\;\\; \\text{ if } x \\geq 0  \n",
        "\\\\ & 0 \\;\\; \\text{ if } x <0  \n",
        "\\end{cases}\n",
        "\\end{align}\n"
      ],
      "metadata": {
        "id": "i02vlzpOkU2s"
      }
    },
    {
      "cell_type": "code",
      "source": [
        "def relu_grad(x):\n",
        "  return np.where(x >= 0, 1, 0)"
      ],
      "metadata": {
        "id": "VVvwQ-LkkU2s"
      },
      "execution_count": null,
      "outputs": []
    },
    {
      "cell_type": "markdown",
      "source": [
        "* 시각화"
      ],
      "metadata": {
        "id": "kyDgaTsnImBJ"
      }
    },
    {
      "cell_type": "code",
      "source": [
        "plt.subplot(121); plot_func(xs, relu(xs), title = 'relu')\n",
        "plt.subplot(122); plot_func(xs, relu_grad(xs), title = 'relu(dev)')"
      ],
      "metadata": {
        "id": "Gus2PThvImBJ",
        "colab": {
          "base_uri": "https://localhost:8080/",
          "height": 173
        },
        "outputId": "beddfdd0-51d5-4d9a-8b1a-0042cf8479d1"
      },
      "execution_count": null,
      "outputs": [
        {
          "output_type": "display_data",
          "data": {
            "text/plain": [
              "<Figure size 576x144 with 2 Axes>"
            ],
            "image/png": "[encoded data removed]"
          },
          "metadata": {
            "needs_background": "light"
          }
        }
      ]
    },
    {
      "cell_type": "markdown",
      "source": [
        "\n",
        "\n",
        "**ReLU 소개**\n",
        "\n",
        "```\n",
        "- # 나오게 된 배경 : 시그모이드의 기울기 소실 문제를 해결하기 위해 고안되었던 함수들 중 하나이다.\n",
        "- # 장단점 : 다른 함수에 비해 학습속도가 매우빠르고 이전 함수에서 보았던 기울기소실 문제가 발생하지 않는다.하지만 음수가 들어가면 모두 0을 출력하기 때문에 가중치 업데이트가 안되는 현상이 발생할 수 도 있다.\n",
        "- # 특징 정리 (출력 범위 : 0<=x, 미분 값 = 1, 비선형 효과에 대한 모델설명 가능 )\n",
        "```\n",
        "\n"
      ],
      "metadata": {
        "id": "W7iYiMomImBJ"
      }
    },
    {
      "cell_type": "markdown",
      "source": [
        "### **| LeackyReLU & PReLU**\n",
        "\n"
      ],
      "metadata": {
        "id": "giYriuzFd2Y5"
      }
    },
    {
      "cell_type": "markdown",
      "source": [
        "* 구현\n",
        "\n",
        "\\begin{align}\n",
        "LeackyReLU(x) = max(0.01  x, x)\n",
        "\\\\\n",
        "\\\\\n",
        "\\end{align}\n",
        "\n",
        "\n",
        "\n",
        "\\begin{align}\n",
        "PReLU(x;\\alpha) = max(\\alpha  x, x)\n",
        "\\end{align}"
      ],
      "metadata": {
        "id": "0J0EQQr6kVyU"
      }
    },
    {
      "cell_type": "code",
      "source": [
        "def prelu(x, alpha = 0.01):\n",
        "  return np.maximum(alpha * x, x)"
      ],
      "metadata": {
        "id": "ZPn3pdYRkVyU"
      },
      "execution_count": null,
      "outputs": []
    },
    {
      "cell_type": "markdown",
      "source": [
        "* 미분\n",
        "\n",
        "\\begin{align}\n",
        "\\frac{x}{dx} PReLU(x;\\alpha) =  \n",
        "\\begin{cases}\n",
        "& 1 \\;\\; \\text{ if } x \\geq 0  \n",
        "\\\\ & \\alpha \\;\\; \\text{ if } x <0  \n",
        "\\end{cases}\n",
        "\\end{align}"
      ],
      "metadata": {
        "id": "GgkyM8S9kVyU"
      }
    },
    {
      "cell_type": "code",
      "source": [
        "def prelu_grad(x, alpha = 0.01):\n",
        "  return np.where(x >=0, 1, alpha)"
      ],
      "metadata": {
        "id": "SbkBD0IkkVyU"
      },
      "execution_count": null,
      "outputs": []
    },
    {
      "cell_type": "markdown",
      "source": [
        "* 시각화\n",
        "  * $\\alpha$ 값이 각각 0.01, 0.1, 0.2 일때 플롯을 그리세요."
      ],
      "metadata": {
        "id": "hEw-vFRiK_LP"
      }
    },
    {
      "cell_type": "code",
      "source": [
        "for alpha in [0.01, 0.1, 0.2]:\n",
        "  plt.subplot(121); plot_func(xs, prelu(xs, alpha = alpha), title = 'prelu')\n",
        "  plt.subplot(122); plot_func(xs, prelu_grad(xs, alpha = alpha), title = 'prelu(dev)')\n",
        "  plt.show()"
      ],
      "metadata": {
        "id": "NnSDkIONK_LP",
        "colab": {
          "base_uri": "https://localhost:8080/",
          "height": 485
        },
        "outputId": "3ac3ad82-2343-4817-eb0b-e413559f2781"
      },
      "execution_count": null,
      "outputs": [
        {
          "output_type": "display_data",
          "data": {
            "text/plain": [
              "<Figure size 576x144 with 2 Axes>"
            ],
            "image/png": "[encoded data removed]"
          },
          "metadata": {
            "needs_background": "light"
          }
        },
        {
          "output_type": "display_data",
          "data": {
            "text/plain": [
              "<Figure size 576x144 with 2 Axes>"
            ],
            "image/png": "[encoded data removed]"
          },
          "metadata": {
            "needs_background": "light"
          }
        },
        {
          "output_type": "display_data",
          "data": {
            "text/plain": [
              "<Figure size 576x144 with 2 Axes>"
            ],
            "image/png": "[encoded data removed]"
          },
          "metadata": {
            "needs_background": "light"
          }
        }
      ]
    },
    {
      "cell_type": "markdown",
      "source": [
        "\n",
        "\n",
        "**LeackReLU및 PReLU 소개**\n",
        "\n",
        "```\n",
        "- # 나오게 된 배경 : ReLU의 단점중 하나인 음수를 넣었을때 기울기가 모두 0이 된다는 점을 해결하기 위해 고안된 함수다.\n",
        "- # 장단점 : 음수 범위에서의 한계를 극복하긴 했지만 음수에서 선형성이 생기고 그로인해 복잡한 분류에서 사용할 수 없다는 단점이 있다.\n",
        "- # 특징 정리 (출력 범위 : 0<=x, 미분 값 : 1, ReLU의 변형 함수 alpha 라는 파라미터를 이용해 0보다 작은 입력에 대해 기울기를 준 경우이다. )\n",
        "- # 알파 값은 보통 어떻게 정해지는가? : 목표로 구하는 값에 따라서 알파값을 정해준다.\n",
        "```\n",
        "\n"
      ],
      "metadata": {
        "id": "iBA1WZWSK_LQ"
      }
    },
    {
      "cell_type": "markdown",
      "source": [
        "### **| ELU & SELU**\n",
        "\n",
        "\n",
        "\\begin{align}\n",
        "ELU(x) =\n",
        "\\begin{cases}\n",
        "& x \\;\\;\\;\\;\\;\\;\\;\\;\\;\\;\\;\\;\\;\\;\\;\\;\\; \\text{ if } x \\geq 0  \n",
        "\\\\ & (e^x-1) \\;\\;\\;\\;\\;\\; \\text{ if } x <0  \n",
        "\\end{cases}\n",
        "\\\\\n",
        "\\\\\n",
        "\\end{align}\n",
        "\n",
        "\n",
        "\n",
        "\\begin{align}\n",
        "SELU(x;\\alpha) =\n",
        "\\begin{cases}\n",
        "& x \\;\\;\\;\\;\\;\\;\\;\\;\\;\\;\\;\\;\\;\\;\\; \\text{ if } x \\geq 0  \n",
        "\\\\ & \\alpha(e^x-1) \\;\\; \\text{ if } x <0  \n",
        "\\end{cases}\n",
        "\\end{align}"
      ],
      "metadata": {
        "id": "IuUR73Ytd-E3"
      }
    },
    {
      "cell_type": "markdown",
      "source": [
        "* 구현"
      ],
      "metadata": {
        "id": "gllJdWbrkYEn"
      }
    },
    {
      "cell_type": "code",
      "source": [
        "def elu(x, alpha = 1):\n",
        "  return np.where(x>=0, x, alpha*(np.exp(x)-1) )"
      ],
      "metadata": {
        "id": "bgm1hZG0kYEo"
      },
      "execution_count": null,
      "outputs": []
    },
    {
      "cell_type": "markdown",
      "source": [
        "* 미분\n",
        "\n",
        "\\begin{align}\n",
        "\\frac{x}{dx} ELU(x;\\alpha) =  \n",
        "\\begin{cases}\n",
        "& 1 \\;\\;\\;\\;\\;\\; \\text{ if } x \\geq 0  \n",
        "\\\\ & \\alpha e^{x} \\;\\; \\text{ if } x <0  \n",
        "\\end{cases}\n",
        "\\end{align}"
      ],
      "metadata": {
        "id": "w-f6CI2PkYEo"
      }
    },
    {
      "cell_type": "code",
      "source": [
        "def elu_grad(x, alpha = 1):\n",
        "  return np.where(x>=0, 1, alpha*np.exp(x) )"
      ],
      "metadata": {
        "id": "5DlHTv-VkYEo"
      },
      "execution_count": null,
      "outputs": []
    },
    {
      "cell_type": "markdown",
      "source": [
        "* 시각화\n",
        "  * $\\alpha$ 값이 각각 0.1, 1, 2 일때 플롯을 그리세요."
      ],
      "metadata": {
        "id": "9fQgzGW7MGXO"
      }
    },
    {
      "cell_type": "code",
      "source": [
        "for alpha in (0.1, 1, 2):\n",
        "  plt.subplot(121); plot_func(xs, elu(xs, alpha = alpha), title = 'elu')\n",
        "  plt.subplot(122); plot_func(xs, elu_grad(xs, alpha = alpha), title = 'elu(dev)')\n",
        "  plt.show()"
      ],
      "metadata": {
        "id": "PQsWOKX8MGXO",
        "colab": {
          "base_uri": "https://localhost:8080/",
          "height": 485
        },
        "outputId": "41792c7e-448f-4e5a-9ee0-42e496b5a4a5"
      },
      "execution_count": null,
      "outputs": [
        {
          "output_type": "display_data",
          "data": {
            "text/plain": [
              "<Figure size 576x144 with 2 Axes>"
            ],
            "image/png": "[encoded data removed]"
          },
          "metadata": {
            "needs_background": "light"
          }
        },
        {
          "output_type": "display_data",
          "data": {
            "text/plain": [
              "<Figure size 576x144 with 2 Axes>"
            ],
            "image/png": "[encoded data removed]"
          },
          "metadata": {
            "needs_background": "light"
          }
        },
        {
          "output_type": "display_data",
          "data": {
            "text/plain": [
              "<Figure size 576x144 with 2 Axes>"
            ],
            "image/png": "[encoded data removed]"
          },
          "metadata": {
            "needs_background": "light"
          }
        }
      ]
    },
    {
      "cell_type": "markdown",
      "source": [
        "\n",
        "\n",
        "**ELU 및 ReLU 소개**\n",
        "\n",
        "```\n",
        "- # 나오게 된 배경 : 각져 있는 ReLU함수를 exp를 사용해 부드러운 곡선형태로 만든것이다.\n",
        "- # 장단점 : 비선형적이기 때문에 복잡한 분류에서도 사용가능하다. 그러나 ReLU에 비해 크게 성능이 증가하지는 않았고 exp의 존재로 연산량이 많아서 ReLU에 비해 느리다.\n",
        "- # 특징 정리 (alpha 값에 따라서 출력값의 범위가 달라진다. 곡선형태를 취하기 때문에 미분시 끊어지는 부분이 없다.)\n",
        "- # 알파 값은 보통 어떻게 정해지는가? : 알파값은 상황에 따라 바뀌긴 하지만 출력하려는 범위와 구하는 값의 특징으로 고려해 그래프를 확인하며 알파값을 구해야 한다.\n",
        "```\n",
        "\n"
      ],
      "metadata": {
        "id": "lScBXtP4MGXO"
      }
    },
    {
      "cell_type": "markdown",
      "source": [
        "## 그래디언트 소실 (Vaniching Gradient)\n",
        "---\n",
        "다음 질문에 답할 수 있도록 내용을 정리하세요.\n",
        "\n",
        "1. 그래디언트 소실 개념\n",
        "2. 딥러닝에서 그래디언트 값이 중요한 이유\n",
        "3. 그래디언트 소실을 방지하기 위한 딥러닝 기법\n",
        "\n",
        "```\n",
        "1. 신경망 아래쪽으로 갈수록 그레디언트가 작아지거나 소실되는 경우가 생긴다. 이것을 그레디언트 소실이라 부른다.\n",
        "\n",
        "2. 그레디언트를 이용해 오차를 구할수 있고, 오차는 딥러닝을 실행하는 아주 중요한 요소다. 성능과 더불어 예측값의 정확도를 올리는 요소기 때문이다.\n",
        "\n",
        "3. 하이퍼볼릭 탄젠트(Tanh), ReLU 활성화 함수\n",
        "\n",
        "\n",
        "```"
      ],
      "metadata": {
        "id": "jmJI0rPcK0Lg"
      }
    }
  ]
}