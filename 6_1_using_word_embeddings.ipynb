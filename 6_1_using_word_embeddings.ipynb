{
  "nbformat": 4,
  "nbformat_minor": 0,
  "metadata": {
    "colab": {
      "name": "6-1_using_word_embeddings.ipynb",
      "provenance": [],
      "machine_shape": "hm",
      "authorship_tag": "ABX9TyPjOsaxQjDgCu/7bptURAwT",
      "include_colab_link": true
    },
    "kernelspec": {
      "name": "python3",
      "display_name": "Python 3"
    },
    "language_info": {
      "name": "python"
    },
    "accelerator": "GPU",
    "gpuClass": "standard"
  },
  "cells": [
    {
      "cell_type": "markdown",
      "metadata": {
        "id": "view-in-github",
        "colab_type": "text"
      },
      "source": [
        "<a href=\"https://colab.research.google.com/github/LeeHuiJong/-Deep_learning/blob/main/6_1_using_word_embeddings.ipynb\" target=\"_parent\"><img src=\"https://colab.research.google.com/assets/colab-badge.svg\" alt=\"Open In Colab\"/></a>"
      ]
    },
    {
      "cell_type": "code",
      "execution_count": 2,
      "metadata": {
        "colab": {
          "base_uri": "https://localhost:8080/",
          "height": 35
        },
        "id": "NmN-Ou52ZM1N",
        "outputId": "30601c89-6934-46e9-b5cb-5b631afc763c"
      },
      "outputs": [
        {
          "output_type": "execute_result",
          "data": {
            "text/plain": [
              "'2.8.0'"
            ],
            "application/vnd.google.colaboratory.intrinsic+json": {
              "type": "string"
            }
          },
          "metadata": {},
          "execution_count": 2
        }
      ],
      "source": [
        "import keras\n",
        "keras.__version__"
      ]
    },
    {
      "cell_type": "code",
      "source": [
        "! git clone https://github.com/yebiny/SkillTreePython-DeepLearning"
      ],
      "metadata": {
        "colab": {
          "base_uri": "https://localhost:8080/"
        },
        "id": "gS3DpDVSeuzB",
        "outputId": "172f7001-0e68-451d-e266-db673e3db7ae"
      },
      "execution_count": 1,
      "outputs": [
        {
          "output_type": "stream",
          "name": "stdout",
          "text": [
            "Cloning into 'SkillTreePython-DeepLearning'...\n",
            "remote: Enumerating objects: 710, done.\u001b[K\n",
            "remote: Counting objects: 100% (283/283), done.\u001b[K\n",
            "remote: Compressing objects: 100% (127/127), done.\u001b[K\n",
            "remote: Total 710 (delta 174), reused 255 (delta 155), pack-reused 427\u001b[K\n",
            "Receiving objects: 100% (710/710), 38.09 MiB | 35.98 MiB/s, done.\n",
            "Resolving deltas: 100% (367/367), done.\n"
          ]
        }
      ]
    },
    {
      "cell_type": "code",
      "source": [
        "import sys\n",
        "sys.path.append('/content/SkillTreePython-DeepLearning/scripts')\n",
        "from import_lib import *"
      ],
      "metadata": {
        "id": "aBwGJuWsev9R"
      },
      "execution_count": 3,
      "outputs": []
    },
    {
      "cell_type": "markdown",
      "source": [
        "# 단어 임베딩 사용하기\n",
        "\n",
        "임베딩은 단어와 벡터를 연관짓는 방법이다. 원핫 인코딩은 희소(대부분 0으로 채워짐)하고 고차원입니다(딕셔너리에 있는 단어수와 차원이 같음) 반면 단어 임베딩은 저차원 실수형 벡터"
      ],
      "metadata": {
        "id": "kVl9ABD0dhYF"
      }
    },
    {
      "cell_type": "code",
      "source": [
        "from keras.layers import Embedding\n",
        "\n",
        "# Embedding 층은 적어도 두 개의 매개변수를 받습니다.\n",
        "# 가능한 토큰의 개수(여기서는 1,000으로 단어 인덱스 최댓값 + 1입니다)와 임베딩 차원(여기서는 64)입니다\n",
        "embedding_layer = Embedding(1000, 64)"
      ],
      "metadata": {
        "id": "M38GZRf9ZZOb"
      },
      "execution_count": null,
      "outputs": []
    },
    {
      "cell_type": "code",
      "source": [
        "from keras.datasets import imdb\n",
        "from tensorflow.keras.preprocessing.sequence import pad_sequences\n",
        "\n",
        "# 특성으로 사용할 단어의 수\n",
        "max_features = 10000\n",
        "# 사용할 텍스트의 길이(가장 빈번한 max_features 개의 단어만 사용합니다)\n",
        "maxlen = 20\n",
        "\n",
        "# 정수 리스트로 데이터를 로드합니다.\n",
        "(x_train, y_train), (x_test, y_test) = imdb.load_data(num_words=max_features)\n",
        "\n",
        "# 리스트를 (samples, maxlen) 크기의 2D 정수 텐서로 변환합니다.\n",
        "x_train = pad_sequences(x_train, maxlen=maxlen)\n",
        "x_test = pad_sequences(x_test, maxlen=maxlen)"
      ],
      "metadata": {
        "id": "lokqL8UehRQW"
      },
      "execution_count": null,
      "outputs": []
    },
    {
      "cell_type": "code",
      "source": [
        "from keras.models import Sequential\n",
        "from keras.layers import Flatten, Dense, Embedding\n",
        "\n",
        "# 임의의 모델을 생성\n",
        "model = Sequential()\n",
        "# 나중에 임베딩된 입력을 Flatten 층에서 펼치기 위해 Embedding 층에 input_length를 지정합니다.\n",
        "model.add(Embedding(10000, 8, input_length=maxlen)) # 출력값 (samples, maxlen, 8)\n",
        "\n",
        "model.add(Flatten()) # 3D 임베딩 텐서를 (samples, maxlen * 8) 크기의 2D 텐서로 변형.\n",
        "\n",
        "model.add(Dense(1, activation='sigmoid')) # sigmoid 를 사용해 이진분류 (부정 = 0, 긍정 = 1)\n",
        "\n",
        "model.compile(optimizer='rmsprop', loss='binary_crossentropy', metrics=['acc']) # 모델 컴파일\n",
        "model.summary() # 모델 구조 요약\n",
        "\n",
        "history = model.fit(x_train, y_train,\n",
        "                    epochs=10,\n",
        "                    batch_size=32,\n",
        "                    validation_split=0.2)"
      ],
      "metadata": {
        "colab": {
          "base_uri": "https://localhost:8080/"
        },
        "id": "iQICtLNrhTIF",
        "outputId": "c692e107-b4c7-40e9-faad-fe302d276cc5"
      },
      "execution_count": null,
      "outputs": [
        {
          "output_type": "stream",
          "name": "stdout",
          "text": [
            "Model: \"sequential_1\"\n",
            "_________________________________________________________________\n",
            " Layer (type)                Output Shape              Param #   \n",
            "=================================================================\n",
            " embedding_2 (Embedding)     (None, 20, 8)             80000     \n",
            "                                                                 \n",
            " flatten_1 (Flatten)         (None, 160)               0         \n",
            "                                                                 \n",
            " dense_1 (Dense)             (None, 1)                 161       \n",
            "                                                                 \n",
            "=================================================================\n",
            "Total params: 80,161\n",
            "Trainable params: 80,161\n",
            "Non-trainable params: 0\n",
            "_________________________________________________________________\n",
            "Epoch 1/10\n",
            "625/625 [==============================] - 3s 4ms/step - loss: 0.6637 - acc: 0.6340 - val_loss: 0.6074 - val_acc: 0.7020\n",
            "Epoch 2/10\n",
            "625/625 [==============================] - 3s 4ms/step - loss: 0.5348 - acc: 0.7542 - val_loss: 0.5219 - val_acc: 0.7352\n",
            "Epoch 3/10\n",
            "625/625 [==============================] - 1s 2ms/step - loss: 0.4582 - acc: 0.7884 - val_loss: 0.4984 - val_acc: 0.7454\n",
            "Epoch 4/10\n",
            "625/625 [==============================] - 2s 2ms/step - loss: 0.4196 - acc: 0.8093 - val_loss: 0.4917 - val_acc: 0.7538\n",
            "Epoch 5/10\n",
            "625/625 [==============================] - 1s 2ms/step - loss: 0.3930 - acc: 0.8227 - val_loss: 0.4917 - val_acc: 0.7572\n",
            "Epoch 6/10\n",
            "625/625 [==============================] - 2s 2ms/step - loss: 0.3710 - acc: 0.8332 - val_loss: 0.4949 - val_acc: 0.7608\n",
            "Epoch 7/10\n",
            "625/625 [==============================] - 1s 2ms/step - loss: 0.3512 - acc: 0.8464 - val_loss: 0.4984 - val_acc: 0.7570\n",
            "Epoch 8/10\n",
            "625/625 [==============================] - 2s 3ms/step - loss: 0.3332 - acc: 0.8576 - val_loss: 0.5039 - val_acc: 0.7562\n",
            "Epoch 9/10\n",
            "625/625 [==============================] - 1s 2ms/step - loss: 0.3161 - acc: 0.8655 - val_loss: 0.5093 - val_acc: 0.7552\n",
            "Epoch 10/10\n",
            "625/625 [==============================] - 2s 2ms/step - loss: 0.2996 - acc: 0.8748 - val_loss: 0.5196 - val_acc: 0.7564\n"
          ]
        }
      ]
    },
    {
      "cell_type": "markdown",
      "source": [
        "# 사전훈련된 단어 임베딩 하기\n",
        "데이터가 부족하면 임베딩을 진행하는데 어려움이 있다 그렇기 때문에 임베딩을 학습하는 대신 이미 학습이 완료되어 있는 임베딩 벡터를 불러와서 쓸수 있다. 이는 우리가 사용하는 데이터에 맞춰진 임베딩은 아닌 일반적인 임베딩이다 "
      ],
      "metadata": {
        "id": "-LHLMBT7ctsA"
      }
    },
    {
      "cell_type": "code",
      "source": [
        "# 학습에 사용할 imdb 데이터셋을 가져오고 전처리\n",
        "from tensorflow.keras.datasets import imdb\n",
        "\n",
        "# FCN : 흔히 사용하는 Dense layer\n",
        "max_features = 500 # 많은 단어를 사용할 수록 성능 향상 -> 다차원 데이터를 다루기 위해서는 FCN으로는 어렵다\n",
        "max_len = 100 # 문장안에 존재할 최대 단어수\n",
        "# 문장 -> (단어의 개수, 각 단어의 벡터길이)\n",
        "(x_train, y_train), (x_test, y_test) = imdb.load_data(num_words = max_features) # 몇개의 단어를 사용할 것인가\n",
        "print(x_train.shape, y_train.shape, x_test.shape, y_test.shape)\n",
        "\n",
        "print('패딩 전:', x_train.shape, y_test.shape)\n",
        "x_train = preprocessing.sequence.pad_sequences(x_train, maxlen = max_len)\n",
        "x_test = preprocessing.sequence.pad_sequences(x_test, maxlen = max_len)\n",
        "print('패딩 후:', x_train.shape, y_test.shape)"
      ],
      "metadata": {
        "colab": {
          "base_uri": "https://localhost:8080/"
        },
        "id": "ORcepCeaeJje",
        "outputId": "c4bbe37e-5728-4125-e643-da9440a9e55e"
      },
      "execution_count": 4,
      "outputs": [
        {
          "output_type": "stream",
          "name": "stdout",
          "text": [
            "Downloading data from https://storage.googleapis.com/tensorflow/tf-keras-datasets/imdb.npz\n",
            "17465344/17464789 [==============================] - 0s 0us/step\n",
            "17473536/17464789 [==============================] - 0s 0us/step\n",
            "(25000,) (25000,) (25000,) (25000,)\n",
            "패딩 전: (25000,) (25000,)\n",
            "패딩 후: (25000, 100) (25000,)\n"
          ]
        }
      ]
    },
    {
      "cell_type": "code",
      "source": [
        "word2index = imdb.get_word_index()\n",
        "index2word = {}\n",
        "for word, idx in word2index.items():\n",
        "  index2word[idx+3] = word"
      ],
      "metadata": {
        "colab": {
          "base_uri": "https://localhost:8080/"
        },
        "id": "-MdIdzESlG1M",
        "outputId": "566cc0fe-2c51-4224-d87c-34dcafdab9ad"
      },
      "execution_count": 12,
      "outputs": [
        {
          "output_type": "stream",
          "name": "stdout",
          "text": [
            "Downloading data from https://storage.googleapis.com/tensorflow/tf-keras-datasets/imdb_word_index.json\n",
            "1646592/1641221 [==============================] - 0s 0us/step\n",
            "1654784/1641221 [==============================] - 0s 0us/step\n"
          ]
        }
      ]
    },
    {
      "cell_type": "code",
      "source": [
        "! gdown https://drive.google.com/u/0/uc?id=1ams5_zp8NrfmbxSzTDCglRpAvjFGi5JY&export=download"
      ],
      "metadata": {
        "colab": {
          "base_uri": "https://localhost:8080/"
        },
        "id": "2AwOFtfnedMJ",
        "outputId": "3bf85711-2e59-480e-8284-722d0a8c9def"
      },
      "execution_count": 5,
      "outputs": [
        {
          "output_type": "stream",
          "name": "stdout",
          "text": [
            "Downloading...\n",
            "From: https://drive.google.com/u/0/uc?id=1ams5_zp8NrfmbxSzTDCglRpAvjFGi5JY\n",
            "To: /content/glove.6B.zip\n",
            "100% 862M/862M [00:10<00:00, 82.5MB/s]\n"
          ]
        }
      ]
    },
    {
      "cell_type": "code",
      "source": [
        "! unzip /content/glove.6B.zip"
      ],
      "metadata": {
        "colab": {
          "base_uri": "https://localhost:8080/"
        },
        "id": "6j8CZlH_fUtN",
        "outputId": "128fe5cf-aeef-4055-f1e5-c6767947db05"
      },
      "execution_count": 6,
      "outputs": [
        {
          "output_type": "stream",
          "name": "stdout",
          "text": [
            "Archive:  /content/glove.6B.zip\n",
            "  inflating: glove.6B.50d.txt        \n",
            "  inflating: glove.6B.100d.txt       \n",
            "  inflating: glove.6B.200d.txt       \n",
            "  inflating: glove.6B.300d.txt       \n"
          ]
        }
      ]
    },
    {
      "cell_type": "code",
      "source": [
        "# 임베딩 전처리 각각의 단어와 이에 상응하는 벡터(100차원, 200차원,300차원 등등)를 배당하는(매핑) 인덱스를 만든다.\n",
        "word2embedding = {}\n",
        "f = open('/content/glove.6B.100d.txt', encoding = 'utf8')\n",
        "for line in f:\n",
        "  word = line.split()[0] # 가장 첫번째 단어,\n",
        "  vec = line.split()[1:] # 그 후는 단어에 대한 벡터\n",
        "  vec = np.asarray(vec, dtype = 'float32') # 문자였던 것('') 실수로 변환, asarray -> 리스트를 벡터로 변환\n",
        "  #print(word, len(vec), vec)\n",
        "  #break\n",
        "  word2embedding[word] = vec\n",
        "f.close()\n",
        "len(word2embedding) # 40만개의 단어"
      ],
      "metadata": {
        "colab": {
          "base_uri": "https://localhost:8080/"
        },
        "id": "qUJMwCiXfZXM",
        "outputId": "d92a7bab-d800-44e8-a844-27a0787fef97"
      },
      "execution_count": 7,
      "outputs": [
        {
          "output_type": "execute_result",
          "data": {
            "text/plain": [
              "400000"
            ]
          },
          "metadata": {},
          "execution_count": 7
        }
      ]
    },
    {
      "cell_type": "markdown",
      "source": [
        "## 임베딩 메트릭스 생성(임베딩 층에 적용시킬 w에 해당하는 행렬을 제작하는것)\n",
        "## 이후 모델에 메트릭스를 적용해서 훈련"
      ],
      "metadata": {
        "id": "H6nT73xslNvL"
      }
    },
    {
      "cell_type": "code",
      "source": [
        "# 임베딩 적용할 모델 생성\n",
        "def create_embeded_model(max_len, max_features, emb_dims):\n",
        "  x = layers.Input(shape = max_len)\n",
        "  y = layers.Embedding(max_features, emb_dims)(x)\n",
        "  y = layers.Flatten()(y)\n",
        "  y = layers.Dense(32, activation = 'relu')(y)\n",
        "  y = layers.Dense(1, activation = 'sigmoid')(y) # 이진분류\n",
        "  return models.Model(x, y)"
      ],
      "metadata": {
        "id": "i4mZDPKsiLk6"
      },
      "execution_count": 24,
      "outputs": []
    },
    {
      "cell_type": "code",
      "source": [
        "model = create_embeded_model(max_len, max_features, 100)\n",
        "model.summary()"
      ],
      "metadata": {
        "colab": {
          "base_uri": "https://localhost:8080/"
        },
        "id": "cOT0zCaGiPoZ",
        "outputId": "7f4c3329-19df-44b3-ef96-b0574263b020"
      },
      "execution_count": 25,
      "outputs": [
        {
          "output_type": "stream",
          "name": "stdout",
          "text": [
            "Model: \"model_2\"\n",
            "_________________________________________________________________\n",
            " Layer (type)                Output Shape              Param #   \n",
            "=================================================================\n",
            " input_3 (InputLayer)        [(None, 100)]             0         \n",
            "                                                                 \n",
            " embedding_2 (Embedding)     (None, 100, 100)          50000     \n",
            "                                                                 \n",
            " flatten_2 (Flatten)         (None, 10000)             0         \n",
            "                                                                 \n",
            " dense_4 (Dense)             (None, 32)                320032    \n",
            "                                                                 \n",
            " dense_5 (Dense)             (None, 1)                 33        \n",
            "                                                                 \n",
            "=================================================================\n",
            "Total params: 370,065\n",
            "Trainable params: 370,065\n",
            "Non-trainable params: 0\n",
            "_________________________________________________________________\n"
          ]
        }
      ]
    },
    {
      "cell_type": "code",
      "source": [
        "# 임베딩 메트릭스\n",
        "embed_mx = np.zeros((max_features, 100))\n",
        "# 매트릭스의 크기 : (500, 100)\n",
        "\n",
        "for idx in range(4, 504):\n",
        "  word = index2word[idx]\n",
        "  embed = word2embedding.get(word) # 딕셔너리.get 함수는 없으면 none값 반환\n",
        "  #print(word, embed)\n",
        "  if embed is not None:\n",
        "    embed_mx[idx-4] = embed"
      ],
      "metadata": {
        "id": "XoShnB2zkYnD"
      },
      "execution_count": 32,
      "outputs": []
    },
    {
      "cell_type": "code",
      "source": [
        "model.layers[1].set_weights([embed_mx]) # 가중치를 Glove 값으로 초기화(위에서 제작한 메트릭스 적용)"
      ],
      "metadata": {
        "id": "9_i_LSJqjPzn"
      },
      "execution_count": 33,
      "outputs": []
    },
    {
      "cell_type": "code",
      "source": [
        "# 컴파일 및 학습\n",
        "model.compile(optimizer = 'rmsprop',\n",
        "              loss = 'binary_crossentropy',\n",
        "              metrics = ['acc'])\n",
        "history = model.fit(x_train, y_train,\n",
        "                    epochs = 20,\n",
        "                    batch_size = 32,\n",
        "                    validation_split = 0.2)"
      ],
      "metadata": {
        "colab": {
          "base_uri": "https://localhost:8080/"
        },
        "id": "7ak4ASjaisKU",
        "outputId": "17a403a6-7c27-4bec-88f6-35c65a0a6f86"
      },
      "execution_count": 34,
      "outputs": [
        {
          "output_type": "stream",
          "name": "stdout",
          "text": [
            "Epoch 1/20\n",
            "625/625 [==============================] - 3s 4ms/step - loss: 2.9069 - acc: 0.5313 - val_loss: 1.1635 - val_acc: 0.5768\n",
            "Epoch 2/20\n",
            "625/625 [==============================] - 2s 3ms/step - loss: 0.9753 - acc: 0.6425 - val_loss: 0.9187 - val_acc: 0.6448\n",
            "Epoch 3/20\n",
            "625/625 [==============================] - 2s 4ms/step - loss: 0.6628 - acc: 0.7286 - val_loss: 1.0386 - val_acc: 0.6394\n",
            "Epoch 4/20\n",
            "625/625 [==============================] - 2s 3ms/step - loss: 0.5155 - acc: 0.7840 - val_loss: 0.6955 - val_acc: 0.7138\n",
            "Epoch 5/20\n",
            "625/625 [==============================] - 2s 3ms/step - loss: 0.4192 - acc: 0.8220 - val_loss: 0.7307 - val_acc: 0.7104\n",
            "Epoch 6/20\n",
            "625/625 [==============================] - 2s 3ms/step - loss: 0.3493 - acc: 0.8508 - val_loss: 0.7263 - val_acc: 0.7290\n",
            "Epoch 7/20\n",
            "625/625 [==============================] - 2s 3ms/step - loss: 0.2966 - acc: 0.8759 - val_loss: 0.6765 - val_acc: 0.7436\n",
            "Epoch 8/20\n",
            "625/625 [==============================] - 2s 3ms/step - loss: 0.2589 - acc: 0.8941 - val_loss: 0.8317 - val_acc: 0.7248\n",
            "Epoch 9/20\n",
            "625/625 [==============================] - 2s 3ms/step - loss: 0.2146 - acc: 0.9132 - val_loss: 0.8854 - val_acc: 0.7240\n",
            "Epoch 10/20\n",
            "625/625 [==============================] - 2s 3ms/step - loss: 0.1833 - acc: 0.9265 - val_loss: 1.0694 - val_acc: 0.7040\n",
            "Epoch 11/20\n",
            "625/625 [==============================] - 2s 3ms/step - loss: 0.1541 - acc: 0.9410 - val_loss: 0.8490 - val_acc: 0.7310\n",
            "Epoch 12/20\n",
            "625/625 [==============================] - 2s 3ms/step - loss: 0.1210 - acc: 0.9541 - val_loss: 1.3090 - val_acc: 0.7244\n",
            "Epoch 13/20\n",
            "625/625 [==============================] - 2s 3ms/step - loss: 0.0912 - acc: 0.9661 - val_loss: 1.1392 - val_acc: 0.7296\n",
            "Epoch 14/20\n",
            "625/625 [==============================] - 2s 3ms/step - loss: 0.0715 - acc: 0.9751 - val_loss: 1.2707 - val_acc: 0.7330\n",
            "Epoch 15/20\n",
            "625/625 [==============================] - 2s 3ms/step - loss: 0.0599 - acc: 0.9790 - val_loss: 1.6768 - val_acc: 0.7128\n",
            "Epoch 16/20\n",
            "625/625 [==============================] - 2s 3ms/step - loss: 0.0426 - acc: 0.9853 - val_loss: 1.7037 - val_acc: 0.7236\n",
            "Epoch 17/20\n",
            "625/625 [==============================] - 2s 3ms/step - loss: 0.0343 - acc: 0.9892 - val_loss: 1.7067 - val_acc: 0.7256\n",
            "Epoch 18/20\n",
            "625/625 [==============================] - 2s 3ms/step - loss: 0.0274 - acc: 0.9905 - val_loss: 1.8609 - val_acc: 0.7294\n",
            "Epoch 19/20\n",
            "625/625 [==============================] - 2s 3ms/step - loss: 0.0249 - acc: 0.9925 - val_loss: 2.6764 - val_acc: 0.7124\n",
            "Epoch 20/20\n",
            "625/625 [==============================] - 2s 3ms/step - loss: 0.0201 - acc: 0.9939 - val_loss: 2.2197 - val_acc: 0.7260\n"
          ]
        }
      ]
    },
    {
      "cell_type": "code",
      "source": [
        "# 학습 결과 그래프 그리기\n",
        "from plot_result import plot_lcurve\n",
        "plot_lcurve([history], [''], ['dodgerblue'])"
      ],
      "metadata": {
        "colab": {
          "base_uri": "https://localhost:8080/",
          "height": 280
        },
        "id": "8l0JYgEBlrlV",
        "outputId": "e348a149-e071-41a0-fa17-a24e2d9d9644"
      },
      "execution_count": 35,
      "outputs": [
        {
          "output_type": "display_data",
          "data": {
            "text/plain": [
              "<Figure size 864x288 with 2 Axes>"
            ],
            "image/png": "[encoded data removed]"
          },
          "metadata": {
            "needs_background": "light"
          }
        }
      ]
    },
    {
      "cell_type": "code",
      "source": [
        "# 임베딩 적용 전의 학습결과 그래프와 비교해보자."
      ],
      "metadata": {
        "id": "DvEygBgSqR0-"
      },
      "execution_count": null,
      "outputs": []
    },
    {
      "cell_type": "markdown",
      "source": [
        "## 임베딩 적용 전의 학습 결과 그리기"
      ],
      "metadata": {
        "id": "2ELwM0LCmCZl"
      }
    },
    {
      "cell_type": "code",
      "source": [
        "# 모델 생성\n",
        "def create_model(max_len, max_features, emb_dims):\n",
        "  x = layers.Input(shape = max_len)\n",
        "  y = layers.Embedding(max_features, emb_dims)(x)\n",
        "  y = layers.Flatten()(y)\n",
        "  y = layers.Dense(32, activation = 'relu')(y)\n",
        "  y = layers.Dense(1, activation = 'sigmoid')(y) # 이진분류\n",
        "  return models.Model(x, y)"
      ],
      "metadata": {
        "id": "2tkOBWatl2Bm"
      },
      "execution_count": 28,
      "outputs": []
    },
    {
      "cell_type": "code",
      "source": [
        "model = create_model(max_len, max_features, 100)\n",
        "model.summary()"
      ],
      "metadata": {
        "colab": {
          "base_uri": "https://localhost:8080/"
        },
        "id": "9JucysHSmiwG",
        "outputId": "6788c4d5-5d02-4513-fea9-477b790b4231"
      },
      "execution_count": 29,
      "outputs": [
        {
          "output_type": "stream",
          "name": "stdout",
          "text": [
            "Model: \"model_3\"\n",
            "_________________________________________________________________\n",
            " Layer (type)                Output Shape              Param #   \n",
            "=================================================================\n",
            " input_4 (InputLayer)        [(None, 100)]             0         \n",
            "                                                                 \n",
            " embedding_3 (Embedding)     (None, 100, 100)          50000     \n",
            "                                                                 \n",
            " flatten_3 (Flatten)         (None, 10000)             0         \n",
            "                                                                 \n",
            " dense_6 (Dense)             (None, 32)                320032    \n",
            "                                                                 \n",
            " dense_7 (Dense)             (None, 1)                 33        \n",
            "                                                                 \n",
            "=================================================================\n",
            "Total params: 370,065\n",
            "Trainable params: 370,065\n",
            "Non-trainable params: 0\n",
            "_________________________________________________________________\n"
          ]
        }
      ]
    },
    {
      "cell_type": "code",
      "source": [
        "# 컴파일 및 학습\n",
        "model.compile(optimizer = 'rmsprop',\n",
        "              loss = 'binary_crossentropy',\n",
        "              metrics = ['acc'])\n",
        "history2 = model.fit(x_train, y_train,\n",
        "                    epochs = 20,\n",
        "                    batch_size = 32,\n",
        "                    validation_split = 0.2)"
      ],
      "metadata": {
        "colab": {
          "base_uri": "https://localhost:8080/"
        },
        "id": "ky8lnXIsmZsP",
        "outputId": "50d6a015-0b6e-4b4b-d870-48d36fe930e4"
      },
      "execution_count": 30,
      "outputs": [
        {
          "output_type": "stream",
          "name": "stdout",
          "text": [
            "Epoch 1/20\n",
            "625/625 [==============================] - 3s 4ms/step - loss: 0.5223 - acc: 0.7248 - val_loss: 0.4446 - val_acc: 0.7948\n",
            "Epoch 2/20\n",
            "625/625 [==============================] - 2s 4ms/step - loss: 0.3659 - acc: 0.8376 - val_loss: 0.4752 - val_acc: 0.7818\n",
            "Epoch 3/20\n",
            "625/625 [==============================] - 2s 4ms/step - loss: 0.2404 - acc: 0.9015 - val_loss: 0.5765 - val_acc: 0.7640\n",
            "Epoch 4/20\n",
            "625/625 [==============================] - 2s 4ms/step - loss: 0.1327 - acc: 0.9492 - val_loss: 0.7664 - val_acc: 0.7538\n",
            "Epoch 5/20\n",
            "625/625 [==============================] - 2s 4ms/step - loss: 0.0613 - acc: 0.9776 - val_loss: 1.1107 - val_acc: 0.7360\n",
            "Epoch 6/20\n",
            "625/625 [==============================] - 2s 3ms/step - loss: 0.0310 - acc: 0.9894 - val_loss: 1.3304 - val_acc: 0.7344\n",
            "Epoch 7/20\n",
            "625/625 [==============================] - 2s 4ms/step - loss: 0.0199 - acc: 0.9931 - val_loss: 1.5965 - val_acc: 0.7394\n",
            "Epoch 8/20\n",
            "625/625 [==============================] - 2s 4ms/step - loss: 0.0144 - acc: 0.9949 - val_loss: 1.7481 - val_acc: 0.7404\n",
            "Epoch 9/20\n",
            "625/625 [==============================] - 2s 4ms/step - loss: 0.0098 - acc: 0.9962 - val_loss: 1.9677 - val_acc: 0.7364\n",
            "Epoch 10/20\n",
            "625/625 [==============================] - 2s 4ms/step - loss: 0.0086 - acc: 0.9970 - val_loss: 2.1730 - val_acc: 0.7388\n",
            "Epoch 11/20\n",
            "625/625 [==============================] - 2s 3ms/step - loss: 0.0072 - acc: 0.9973 - val_loss: 2.3194 - val_acc: 0.7404\n",
            "Epoch 12/20\n",
            "625/625 [==============================] - 2s 3ms/step - loss: 0.0060 - acc: 0.9980 - val_loss: 2.4306 - val_acc: 0.7412\n",
            "Epoch 13/20\n",
            "625/625 [==============================] - 2s 3ms/step - loss: 0.0049 - acc: 0.9981 - val_loss: 2.5094 - val_acc: 0.7382\n",
            "Epoch 14/20\n",
            "625/625 [==============================] - 2s 3ms/step - loss: 0.0030 - acc: 0.9991 - val_loss: 2.6487 - val_acc: 0.7408\n",
            "Epoch 15/20\n",
            "625/625 [==============================] - 2s 3ms/step - loss: 0.0029 - acc: 0.9988 - val_loss: 2.8920 - val_acc: 0.7348\n",
            "Epoch 16/20\n",
            "625/625 [==============================] - 2s 3ms/step - loss: 0.0024 - acc: 0.9992 - val_loss: 2.9719 - val_acc: 0.7370\n",
            "Epoch 17/20\n",
            "625/625 [==============================] - 2s 3ms/step - loss: 0.0018 - acc: 0.9994 - val_loss: 3.2259 - val_acc: 0.7336\n",
            "Epoch 18/20\n",
            "625/625 [==============================] - 2s 4ms/step - loss: 0.0029 - acc: 0.9990 - val_loss: 3.2564 - val_acc: 0.7330\n",
            "Epoch 19/20\n",
            "625/625 [==============================] - 2s 4ms/step - loss: 0.0014 - acc: 0.9995 - val_loss: 3.4932 - val_acc: 0.7342\n",
            "Epoch 20/20\n",
            "625/625 [==============================] - 2s 4ms/step - loss: 0.0016 - acc: 0.9995 - val_loss: 3.6347 - val_acc: 0.7408\n"
          ]
        }
      ]
    },
    {
      "cell_type": "code",
      "source": [
        "# 학습 결과 그래프 그리기\n",
        "from plot_result import plot_lcurve\n",
        "plot_lcurve([history2], [''], ['dodgerblue'])"
      ],
      "metadata": {
        "colab": {
          "base_uri": "https://localhost:8080/",
          "height": 279
        },
        "id": "8_R_15EgmdU2",
        "outputId": "a6275d90-8130-4af3-9d1d-007877043d26"
      },
      "execution_count": 31,
      "outputs": [
        {
          "output_type": "display_data",
          "data": {
            "text/plain": [
              "<Figure size 864x288 with 2 Axes>"
            ],
            "image/png": "[encoded data removed]"
          },
          "metadata": {
            "needs_background": "light"
          }
        }
      ]
    },
    {
      "cell_type": "code",
      "source": [
        "# 임베딩 적용 후와 비교하면 과적합이 빠르게 일어나는것을 볼 수 있다. "
      ],
      "metadata": {
        "id": "C76el6RiqbDO"
      },
      "execution_count": null,
      "outputs": []
    }
  ]
}