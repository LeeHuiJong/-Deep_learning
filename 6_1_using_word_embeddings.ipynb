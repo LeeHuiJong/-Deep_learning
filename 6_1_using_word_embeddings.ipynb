{
  "nbformat": 4,
  "nbformat_minor": 0,
  "metadata": {
    "colab": {
      "name": "6-1_using_word_embeddings.ipynb",
      "provenance": [],
      "authorship_tag": "ABX9TyPClQMDl5q+oOk5cHA0/qBK",
      "include_colab_link": true
    },
    "kernelspec": {
      "name": "python3",
      "display_name": "Python 3"
    },
    "language_info": {
      "name": "python"
    }
  },
  "cells": [
    {
      "cell_type": "markdown",
      "metadata": {
        "id": "view-in-github",
        "colab_type": "text"
      },
      "source": [
        "<a href=\"https://colab.research.google.com/github/LeeHuiJong/-Deep_learning/blob/main/6_1_using_word_embeddings.ipynb\" target=\"_parent\"><img src=\"https://colab.research.google.com/assets/colab-badge.svg\" alt=\"Open In Colab\"/></a>"
      ]
    },
    {
      "cell_type": "code",
      "execution_count": 1,
      "metadata": {
        "colab": {
          "base_uri": "https://localhost:8080/",
          "height": 35
        },
        "id": "NmN-Ou52ZM1N",
        "outputId": "89c1f02e-e2d9-4287-b3df-87e40b7c103d"
      },
      "outputs": [
        {
          "output_type": "execute_result",
          "data": {
            "text/plain": [
              "'2.8.0'"
            ],
            "application/vnd.google.colaboratory.intrinsic+json": {
              "type": "string"
            }
          },
          "metadata": {},
          "execution_count": 1
        }
      ],
      "source": [
        "import keras\n",
        "keras.__version__"
      ]
    },
    {
      "cell_type": "markdown",
      "source": [
        "# 단어 임베딩 사용하기\n",
        "\n",
        "임베딩은 단어와 벡터를 연관짓는 방법이다. 원핫 인코딩은 희소(대부분 0으로 채워짐)하고 고차원입니다(딕셔너리에 있는 단어수와 차원이 같음) 반면 단어 임베딩은 저차원 실수형 벡터"
      ],
      "metadata": {
        "id": "kVl9ABD0dhYF"
      }
    },
    {
      "cell_type": "code",
      "source": [
        "from keras.layers import Embedding\n",
        "\n",
        "# Embedding 층은 적어도 두 개의 매개변수를 받습니다.\n",
        "# 가능한 토큰의 개수(여기서는 1,000으로 단어 인덱스 최댓값 + 1입니다)와 임베딩 차원(여기서는 64)입니다\n",
        "embedding_layer = Embedding(1000, 64)"
      ],
      "metadata": {
        "id": "M38GZRf9ZZOb"
      },
      "execution_count": 2,
      "outputs": []
    },
    {
      "cell_type": "code",
      "source": [
        "from keras.datasets import imdb\n",
        "from tensorflow.keras.preprocessing.sequence import pad_sequences\n",
        "\n",
        "# 특성으로 사용할 단어의 수\n",
        "max_features = 10000\n",
        "# 사용할 텍스트의 길이(가장 빈번한 max_features 개의 단어만 사용합니다)\n",
        "maxlen = 20\n",
        "\n",
        "# 정수 리스트로 데이터를 로드합니다.\n",
        "(x_train, y_train), (x_test, y_test) = imdb.load_data(num_words=max_features)\n",
        "\n",
        "# 리스트를 (samples, maxlen) 크기의 2D 정수 텐서로 변환합니다.\n",
        "x_train = pad_sequences(x_train, maxlen=maxlen)\n",
        "x_test = pad_sequences(x_test, maxlen=maxlen)"
      ],
      "metadata": {
        "id": "lokqL8UehRQW"
      },
      "execution_count": 6,
      "outputs": []
    },
    {
      "cell_type": "code",
      "source": [
        "from keras.models import Sequential\n",
        "from keras.layers import Flatten, Dense, Embedding\n",
        "\n",
        "# 임의의 모델을 생성\n",
        "model = Sequential()\n",
        "# 나중에 임베딩된 입력을 Flatten 층에서 펼치기 위해 Embedding 층에 input_length를 지정합니다.\n",
        "model.add(Embedding(10000, 8, input_length=maxlen)) # 출력값 (samples, maxlen, 8)\n",
        "\n",
        "model.add(Flatten()) # 3D 임베딩 텐서를 (samples, maxlen * 8) 크기의 2D 텐서로 변형.\n",
        "\n",
        "model.add(Dense(1, activation='sigmoid')) # sigmoid 를 사용해 이진분류 (부정 = 0, 긍정 = 1)\n",
        "\n",
        "model.compile(optimizer='rmsprop', loss='binary_crossentropy', metrics=['acc']) # 모델 컴파일\n",
        "model.summary() # 모델 구조 요약\n",
        "\n",
        "history = model.fit(x_train, y_train,\n",
        "                    epochs=10,\n",
        "                    batch_size=32,\n",
        "                    validation_split=0.2)"
      ],
      "metadata": {
        "colab": {
          "base_uri": "https://localhost:8080/"
        },
        "id": "iQICtLNrhTIF",
        "outputId": "c692e107-b4c7-40e9-faad-fe302d276cc5"
      },
      "execution_count": 7,
      "outputs": [
        {
          "output_type": "stream",
          "name": "stdout",
          "text": [
            "Model: \"sequential_1\"\n",
            "_________________________________________________________________\n",
            " Layer (type)                Output Shape              Param #   \n",
            "=================================================================\n",
            " embedding_2 (Embedding)     (None, 20, 8)             80000     \n",
            "                                                                 \n",
            " flatten_1 (Flatten)         (None, 160)               0         \n",
            "                                                                 \n",
            " dense_1 (Dense)             (None, 1)                 161       \n",
            "                                                                 \n",
            "=================================================================\n",
            "Total params: 80,161\n",
            "Trainable params: 80,161\n",
            "Non-trainable params: 0\n",
            "_________________________________________________________________\n",
            "Epoch 1/10\n",
            "625/625 [==============================] - 3s 4ms/step - loss: 0.6637 - acc: 0.6340 - val_loss: 0.6074 - val_acc: 0.7020\n",
            "Epoch 2/10\n",
            "625/625 [==============================] - 3s 4ms/step - loss: 0.5348 - acc: 0.7542 - val_loss: 0.5219 - val_acc: 0.7352\n",
            "Epoch 3/10\n",
            "625/625 [==============================] - 1s 2ms/step - loss: 0.4582 - acc: 0.7884 - val_loss: 0.4984 - val_acc: 0.7454\n",
            "Epoch 4/10\n",
            "625/625 [==============================] - 2s 2ms/step - loss: 0.4196 - acc: 0.8093 - val_loss: 0.4917 - val_acc: 0.7538\n",
            "Epoch 5/10\n",
            "625/625 [==============================] - 1s 2ms/step - loss: 0.3930 - acc: 0.8227 - val_loss: 0.4917 - val_acc: 0.7572\n",
            "Epoch 6/10\n",
            "625/625 [==============================] - 2s 2ms/step - loss: 0.3710 - acc: 0.8332 - val_loss: 0.4949 - val_acc: 0.7608\n",
            "Epoch 7/10\n",
            "625/625 [==============================] - 1s 2ms/step - loss: 0.3512 - acc: 0.8464 - val_loss: 0.4984 - val_acc: 0.7570\n",
            "Epoch 8/10\n",
            "625/625 [==============================] - 2s 3ms/step - loss: 0.3332 - acc: 0.8576 - val_loss: 0.5039 - val_acc: 0.7562\n",
            "Epoch 9/10\n",
            "625/625 [==============================] - 1s 2ms/step - loss: 0.3161 - acc: 0.8655 - val_loss: 0.5093 - val_acc: 0.7552\n",
            "Epoch 10/10\n",
            "625/625 [==============================] - 2s 2ms/step - loss: 0.2996 - acc: 0.8748 - val_loss: 0.5196 - val_acc: 0.7564\n"
          ]
        }
      ]
    }
  ]
}