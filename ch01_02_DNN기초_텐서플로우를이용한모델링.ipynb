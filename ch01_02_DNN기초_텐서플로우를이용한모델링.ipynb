{
  "nbformat": 4,
  "nbformat_minor": 0,
  "metadata": {
    "colab": {
      "name": "ch01_02_DNN기초_텐서플로우를이용한모델링.ipynb",
      "provenance": [],
      "collapsed_sections": [],
      "include_colab_link": true
    },
    "kernelspec": {
      "name": "python3",
      "display_name": "Python 3"
    },
    "language_info": {
      "name": "python"
    }
  },
  "cells": [
    {
      "cell_type": "markdown",
      "metadata": {
        "id": "view-in-github",
        "colab_type": "text"
      },
      "source": [
        "<a href=\"https://colab.research.google.com/github/LeeHuiJong/-Deep_learning/blob/main/ch01_02_DNN%EA%B8%B0%EC%B4%88_%ED%85%90%EC%84%9C%ED%94%8C%EB%A1%9C%EC%9A%B0%EB%A5%BC%EC%9D%B4%EC%9A%A9%ED%95%9C%EB%AA%A8%EB%8D%B8%EB%A7%81.ipynb\" target=\"_parent\"><img src=\"https://colab.research.google.com/assets/colab-badge.svg\" alt=\"Open In Colab\"/></a>"
      ]
    },
    {
      "cell_type": "markdown",
      "source": [
        "# ch01_02_DNN기초-텐서플로우를 이용한 모델링\n",
        "\n",
        "---\n",
        "* 날짜:\n",
        "* 이름:\n",
        "\n",
        "## 학습내용\n",
        "    - 텐서플로우를 이용해 모델을 구현한다.\n",
        "    - 생성한 모델을 이용해 순전파 계산을 진행한다.\n",
        "    - 텐서플로우로 모델을 구현하는 여러 방법에 대핼 배워본다. \n",
        "\n",
        "## 학습자료\n",
        "\n",
        "\n",
        "- 케라스 창시자에게 배우는 딥러닝\n",
        "- 텐서플로우 케라스 : https://www.tensorflow.org/?hl=ko\n"
      ],
      "metadata": {
        "id": "ARxSsvgZFhdx"
      }
    },
    {
      "cell_type": "code",
      "source": [
        "import numpy as np\n",
        "import tensorflow as tf"
      ],
      "metadata": {
        "id": "FH_uBeAD1qZ1"
      },
      "execution_count": 3,
      "outputs": []
    },
    {
      "cell_type": "markdown",
      "source": [
        "## DNN 기본 이해\n",
        "---"
      ],
      "metadata": {
        "id": "MzqveLvV0dks"
      }
    },
    {
      "cell_type": "markdown",
      "source": [
        "\n",
        "### | 모델링 (1)\n",
        "\n",
        "\n",
        "<p align='center'>\n",
        "<img src=https://github.com/yebiny/SkillTreePython-DeepLearning/blob/main/imgs/ch0101-01.png?raw=true width=450>\n",
        "</p>\n"
      ],
      "metadata": {
        "id": "5f0taefIrVkW"
      }
    },
    {
      "cell_type": "markdown",
      "source": [
        "#### **모델 구현**"
      ],
      "metadata": {
        "id": "Spn6iy6TMZLE"
      }
    },
    {
      "cell_type": "code",
      "source": [
        "# 레이어는 tensorflow.kears에 있다.\n",
        "from tensorflow.keras import layers, models\n",
        "\n",
        "x = layers.Input(shape = (3), name = 'input_layer') # X : 1,3 #   (데이터 개수,3)\n",
        "y = layers.Dense(1, name = 'output_layer')(x) # Linear 함수 : w,b 존재 Dense(output_shape)\n",
        "\n",
        "model1 = models.Model(inputs = x, outputs = y, name = 'Model1_1')"
      ],
      "metadata": {
        "id": "ol1G6zFpzzQy"
      },
      "execution_count": 12,
      "outputs": []
    },
    {
      "cell_type": "markdown",
      "source": [
        "* 모델 시각화\n",
        "  * `.summary()`\n",
        "  * `tensorflow.keras.utils.plot_model()`"
      ],
      "metadata": {
        "id": "buNi5cvx6s_f"
      }
    },
    {
      "cell_type": "code",
      "source": [
        "from tensorflow.keras import utils\n",
        "\n",
        "#output shape : 데이터 변환과정\n",
        "# param : 파라미터 개수\n",
        "# None은 데이터의 개수\n",
        "model1.summary() \n",
        "utils.plot_model(model1, show_shapes = True)\n",
        "# Trainable param : 학습 가능한 파라미터(역전파를 통해서 업데이트)\n",
        "# non trainable param : 학습 불가 파라미터 "
      ],
      "metadata": {
        "id": "DALpoYDrmlGi",
        "colab": {
          "base_uri": "https://localhost:8080/",
          "height": 440
        },
        "outputId": "21efc2dd-6073-435b-f4ca-efec902697ef"
      },
      "execution_count": 56,
      "outputs": [
        {
          "output_type": "stream",
          "name": "stdout",
          "text": [
            "Model: \"Model1_1\"\n",
            "_________________________________________________________________\n",
            " Layer (type)                Output Shape              Param #   \n",
            "=================================================================\n",
            " input_layer (InputLayer)    [(None, 3)]               0         \n",
            "                                                                 \n",
            " output_layer (Dense)        (None, 1)                 4         \n",
            "                                                                 \n",
            "=================================================================\n",
            "Total params: 4\n",
            "Trainable params: 4\n",
            "Non-trainable params: 0\n",
            "_________________________________________________________________\n"
          ]
        },
        {
          "output_type": "execute_result",
          "data": {
            "text/plain": [
              "<IPython.core.display.Image object>"
            ],
            "image/png": "[encoded data removed]"
          },
          "metadata": {},
          "execution_count": 56
        }
      ]
    },
    {
      "cell_type": "markdown",
      "source": [
        "#### **파라미터** \n",
        "\n",
        "<p align='center'>\n",
        "<img src=https://github.com/yebiny/SkillTreePython-DeepLearning/blob/main/imgs/ch0101-04.png?raw=true width=900>\n",
        "</p>\n"
      ],
      "metadata": {
        "id": "NYFWTExFqYH_"
      }
    },
    {
      "cell_type": "markdown",
      "source": [
        "* 데이터 플로우 : 데이터의 변환 과정을 확인하세요.\n",
        "  * `model.layers.output`\n"
      ],
      "metadata": {
        "id": "wWF_aUpbklsa"
      }
    },
    {
      "cell_type": "code",
      "source": [
        "# 데이터 변환 과정\n",
        "for layer in model1.layers:\n",
        "  print(layer.name) # 각 레이어의 이름 \n",
        "  print(layer.output.shape) # 각 레이어의 아웃풋"
      ],
      "metadata": {
        "id": "DlBj87Rtklsa",
        "colab": {
          "base_uri": "https://localhost:8080/"
        },
        "outputId": "3da605ef-4edf-431c-bd33-c1ecf75231d2"
      },
      "execution_count": 16,
      "outputs": [
        {
          "output_type": "stream",
          "name": "stdout",
          "text": [
            "input_layer\n",
            "(None, 3)\n",
            "output_layer\n",
            "(None, 1)\n"
          ]
        }
      ]
    },
    {
      "cell_type": "markdown",
      "source": [
        "* 학습 파라미터 : 학습 파라미터의 shape를 확인하세요.\n",
        "  * `.get_weights()`"
      ],
      "metadata": {
        "id": "psYEdHG8rHT-"
      }
    },
    {
      "cell_type": "code",
      "source": [
        "'''\n",
        "W : (3,1)\n",
        "B : (1, )\n",
        "'''\n",
        "for param in model1.get_weights():\n",
        "  print(param.shape)\n",
        "print(model1.get_weights())"
      ],
      "metadata": {
        "id": "LamoOVNRrLKe",
        "colab": {
          "base_uri": "https://localhost:8080/"
        },
        "outputId": "f680c1e9-65da-4171-e2b0-dfb2f23a1fe8"
      },
      "execution_count": 19,
      "outputs": [
        {
          "output_type": "stream",
          "name": "stdout",
          "text": [
            "(3, 1)\n",
            "(1,)\n",
            "[array([[ 0.64340794],\n",
            "       [-0.5156459 ],\n",
            "       [-0.9393991 ]], dtype=float32), array([0.], dtype=float32)]\n"
          ]
        }
      ]
    },
    {
      "cell_type": "markdown",
      "source": [
        "#### **순전파 계산**\n",
        "\n",
        "현재 초기화되어 있는 학습파라미터를 이용해 Y를 계산해 보세요.\n",
        "X는 랜덤한 숫자로 적용하세요.\n",
        "* `np.random.normal`"
      ],
      "metadata": {
        "id": "RE9XeArWBMoh"
      }
    },
    {
      "cell_type": "code",
      "source": [
        "X = np.random.normal(size =(1,3))\n",
        "print(X)\n",
        "Y_pred = model1.predict(X)\n",
        "print(Y_pred)"
      ],
      "metadata": {
        "id": "DC0otNklBMoh",
        "colab": {
          "base_uri": "https://localhost:8080/"
        },
        "outputId": "d78e0ecf-ccd1-4ba6-bd59-2adb3f8bfe45"
      },
      "execution_count": 27,
      "outputs": [
        {
          "output_type": "stream",
          "name": "stdout",
          "text": [
            "[[ 0.73503106 -1.18573902  1.44689019]]\n",
            "[[-0.27486113]]\n"
          ]
        }
      ]
    },
    {
      "cell_type": "markdown",
      "source": [
        "### | 모델링 (2)\n",
        "\n",
        "<p align='center'>\n",
        "<img src=https://github.com/yebiny/SkillTreePython-DeepLearning/blob/main/imgs/ch0101-02.png?raw=true width=450>\n",
        "</p>\n"
      ],
      "metadata": {
        "id": "CLRoUfPKvQRp"
      }
    },
    {
      "cell_type": "markdown",
      "source": [
        "#### **모델 구현**"
      ],
      "metadata": {
        "id": "-Ae5REJwMaTd"
      }
    },
    {
      "cell_type": "code",
      "source": [
        "x = layers.Input(shape = (3,))\n",
        "y = layers.Dense(2)(x)\n",
        "model2 = models.Model(inputs = x, outputs = y, name ='Model_2')"
      ],
      "metadata": {
        "id": "ds6Y10NIDPX4"
      },
      "execution_count": 57,
      "outputs": []
    },
    {
      "cell_type": "markdown",
      "source": [
        "* 모델 시각화\n",
        "  * `.summary()`\n",
        "  * `tensorflow.keras.utils.plot_model()`"
      ],
      "metadata": {
        "id": "cqllNVUpDPX4"
      }
    },
    {
      "cell_type": "code",
      "source": [
        "model2.summary()\n",
        "utils.plot_model(model2, show_shapes = True)"
      ],
      "metadata": {
        "id": "JtYmoeGqDPX4",
        "colab": {
          "base_uri": "https://localhost:8080/",
          "height": 440
        },
        "outputId": "e539cd90-48e8-457e-9400-f056cabebec8"
      },
      "execution_count": 58,
      "outputs": [
        {
          "output_type": "stream",
          "name": "stdout",
          "text": [
            "Model: \"Model_2\"\n",
            "_________________________________________________________________\n",
            " Layer (type)                Output Shape              Param #   \n",
            "=================================================================\n",
            " input_7 (InputLayer)        [(None, 3)]               0         \n",
            "                                                                 \n",
            " dense_16 (Dense)            (None, 2)                 8         \n",
            "                                                                 \n",
            "=================================================================\n",
            "Total params: 8\n",
            "Trainable params: 8\n",
            "Non-trainable params: 0\n",
            "_________________________________________________________________\n"
          ]
        },
        {
          "output_type": "execute_result",
          "data": {
            "text/plain": [
              "<IPython.core.display.Image object>"
            ],
            "image/png": "[encoded data removed]"
          },
          "metadata": {},
          "execution_count": 58
        }
      ]
    },
    {
      "cell_type": "markdown",
      "source": [
        "#### **파라미터** \n",
        "\n",
        "<p align='center'>\n",
        "<img src=https://github.com/yebiny/SkillTreePython-DeepLearning/blob/main/imgs/ch0101-05.png?raw=true width=900>\n",
        "</p>\n"
      ],
      "metadata": {
        "id": "FiQBcveRvQRq"
      }
    },
    {
      "cell_type": "markdown",
      "source": [
        "* 데이터 플로우 : 데이터의 변환 과정을 확인하세요.\n",
        "  * `layer.output`\n"
      ],
      "metadata": {
        "id": "47Bi4i9LDPX5"
      }
    },
    {
      "cell_type": "code",
      "source": [
        "'''\n",
        "X : (N,3) N은 데이터 개수\n",
        "Y : (N,2)\n",
        "'''\n",
        "\n",
        "for layer in model2.layers:\n",
        "  print(layer.output.shape)"
      ],
      "metadata": {
        "id": "5NBk9svKDPX5",
        "colab": {
          "base_uri": "https://localhost:8080/"
        },
        "outputId": "e1096e41-3a95-4e19-c66f-d5e6106404e9"
      },
      "execution_count": 59,
      "outputs": [
        {
          "output_type": "stream",
          "name": "stdout",
          "text": [
            "(None, 3)\n",
            "(None, 2)\n"
          ]
        }
      ]
    },
    {
      "cell_type": "markdown",
      "source": [
        "* 학습 파라미터 : 학습 파라미터의 shape를 확인하세요.\n",
        "  * `.get_weights()`"
      ],
      "metadata": {
        "id": "s5XkjLJMDPX5"
      }
    },
    {
      "cell_type": "code",
      "source": [
        "'''\n",
        "W : (3, 2) \n",
        "B : (2,)\n",
        "'''\n",
        "\n",
        "for param in model2.get_weights():\n",
        "  print(param.shape)\n",
        "\n",
        "print(model2.get_weights())"
      ],
      "metadata": {
        "id": "XHMP6-qxDPX5",
        "colab": {
          "base_uri": "https://localhost:8080/"
        },
        "outputId": "56e7c631-e5da-4823-a935-8e0c7aab0b79"
      },
      "execution_count": 74,
      "outputs": [
        {
          "output_type": "stream",
          "name": "stdout",
          "text": [
            "(3, 2)\n",
            "(2,)\n",
            "[array([[-0.07294261, -0.10345149],\n",
            "       [ 0.95228267, -0.4983384 ],\n",
            "       [ 0.8066429 ,  0.7519772 ]], dtype=float32), array([0., 0.], dtype=float32)]\n"
          ]
        }
      ]
    },
    {
      "cell_type": "markdown",
      "source": [
        "#### **순전파 계산**\n",
        "\n",
        "현재 초기화되어 있는 학습파라미터를 이용해 Y를 계산해 보세요.\n",
        "X는 랜덤한 숫자로 적용하세요.\n",
        "* `np.random.normal`"
      ],
      "metadata": {
        "id": "PXaQ_U9hBKD4"
      }
    },
    {
      "cell_type": "code",
      "source": [
        "X = np.random.normal(size =(1,3))\n",
        "print(X)\n",
        "Y_pred = model1.predict(X)\n",
        "print(Y_pred)"
      ],
      "metadata": {
        "id": "f0PpJMe-BKD4",
        "colab": {
          "base_uri": "https://localhost:8080/"
        },
        "outputId": "58c93186-5c15-484f-afb7-f87ab69b09c2"
      },
      "execution_count": 61,
      "outputs": [
        {
          "output_type": "stream",
          "name": "stdout",
          "text": [
            "[[-1.32321246 -0.91241636 -0.6510496 ]]\n",
            "[[0.23071374]]\n"
          ]
        }
      ]
    },
    {
      "cell_type": "markdown",
      "source": [
        "### | 모델링 (3)\n",
        "\n",
        "<p align='center'>\n",
        "<img src=https://github.com/yebiny/SkillTreePython-DeepLearning/blob/main/imgs/ch0101-03.png?raw=true width=550>\n",
        "</p>\n"
      ],
      "metadata": {
        "id": "pdq32nZCwMiL"
      }
    },
    {
      "cell_type": "markdown",
      "source": [
        "#### **모델 구현**"
      ],
      "metadata": {
        "id": "MMR9-36eJQbl"
      }
    },
    {
      "cell_type": "code",
      "source": [
        "x = layers.Input(shape = (3,))\n",
        "z1 = layers.Dense(3)(x)\n",
        "y = layers.Dense(2)(z1)\n",
        "model3 = models.Model(inputs = x, outputs = y, name ='Model_3')"
      ],
      "metadata": {
        "id": "Z2IuUrLswMiL"
      },
      "execution_count": 62,
      "outputs": []
    },
    {
      "cell_type": "markdown",
      "source": [
        "* 모델 시각화\n",
        "  * `.summary()`\n",
        "  * `tensorflow.keras.utils.plot_model()`"
      ],
      "metadata": {
        "id": "7O3UAyO1Fs9U"
      }
    },
    {
      "cell_type": "code",
      "source": [
        "model3.summary()\n",
        "utils.plot_model(model3, show_shapes = True)"
      ],
      "metadata": {
        "id": "fM20ihdrFs9U",
        "colab": {
          "base_uri": "https://localhost:8080/",
          "height": 587
        },
        "outputId": "26d107df-8020-4e1e-86b9-91846d66bc07"
      },
      "execution_count": 63,
      "outputs": [
        {
          "output_type": "stream",
          "name": "stdout",
          "text": [
            "Model: \"Model_3\"\n",
            "_________________________________________________________________\n",
            " Layer (type)                Output Shape              Param #   \n",
            "=================================================================\n",
            " input_8 (InputLayer)        [(None, 3)]               0         \n",
            "                                                                 \n",
            " dense_17 (Dense)            (None, 3)                 12        \n",
            "                                                                 \n",
            " dense_18 (Dense)            (None, 2)                 8         \n",
            "                                                                 \n",
            "=================================================================\n",
            "Total params: 20\n",
            "Trainable params: 20\n",
            "Non-trainable params: 0\n",
            "_________________________________________________________________\n"
          ]
        },
        {
          "output_type": "execute_result",
          "data": {
            "text/plain": [
              "<IPython.core.display.Image object>"
            ],
            "image/png": "[encoded data removed]"
          },
          "metadata": {},
          "execution_count": 63
        }
      ]
    },
    {
      "cell_type": "markdown",
      "source": [
        "#### **파라미터** \n",
        "\n",
        "<p align='center'>\n",
        "<img src=https://github.com/yebiny/SkillTreePython-DeepLearning/blob/main/imgs/ch0101-06.png?raw=true width=900>\n",
        "</p>\n"
      ],
      "metadata": {
        "id": "b6McWfzgwMiL"
      }
    },
    {
      "cell_type": "markdown",
      "source": [
        "* 데이터 플로우 : 데이터의 변환 과정을 확인하세요.\n",
        "  * `layer.output`\n",
        "\n"
      ],
      "metadata": {
        "id": "iJlWs5SPGPY1"
      }
    },
    {
      "cell_type": "code",
      "source": [
        "'''\n",
        "X : (N,3) N은 데이터 개수\n",
        "Z : (N,3)\n",
        "Y : (N,2)\n",
        "'''\n",
        "\n",
        "for layer in model3.layers:\n",
        "  print(layer.output.shape)"
      ],
      "metadata": {
        "id": "mCGGTr0vGPY2",
        "colab": {
          "base_uri": "https://localhost:8080/"
        },
        "outputId": "3b1e63a0-a89e-4a8a-b763-bb7fb6f71c2a"
      },
      "execution_count": 64,
      "outputs": [
        {
          "output_type": "stream",
          "name": "stdout",
          "text": [
            "(None, 3)\n",
            "(None, 3)\n",
            "(None, 2)\n"
          ]
        }
      ]
    },
    {
      "cell_type": "markdown",
      "source": [
        "* 학습 파라미터 : 학습 파라미터의 shape를 확인하세요.\n",
        "  * `.get_weights()`"
      ],
      "metadata": {
        "id": "wcXGgS5wGPY2"
      }
    },
    {
      "cell_type": "code",
      "source": [
        "'''\n",
        "W1 : (3, 3) \n",
        "B1 : (3,)\n",
        "W2 : (3, 2)\n",
        "B2 : (2,)\n",
        "'''\n",
        "\n",
        "for param in model3.get_weights():\n",
        "  print(param.shape)\n",
        "\n",
        "print(model3.get_weights())"
      ],
      "metadata": {
        "id": "_dHFFVP9GPY2",
        "colab": {
          "base_uri": "https://localhost:8080/"
        },
        "outputId": "9ff2f60c-6b5c-4d03-edb7-a7921a24397a"
      },
      "execution_count": 65,
      "outputs": [
        {
          "output_type": "stream",
          "name": "stdout",
          "text": [
            "(3, 3)\n",
            "(3,)\n",
            "(3, 2)\n",
            "(2,)\n",
            "[array([[-0.515234  , -0.26173377, -0.07011485],\n",
            "       [ 0.54533553, -0.65458894, -0.08688378],\n",
            "       [-0.07279181, -0.9773824 , -0.63006115]], dtype=float32), array([0., 0., 0.], dtype=float32), array([[ 0.87677026,  0.0172143 ],\n",
            "       [ 0.8689774 ,  0.61266017],\n",
            "       [-1.093729  ,  0.9516065 ]], dtype=float32), array([0., 0.], dtype=float32)]\n"
          ]
        }
      ]
    },
    {
      "cell_type": "markdown",
      "source": [
        "#### **순전파 계산**\n",
        "\n",
        "현재 초기화되어 있는 학습파라미터를 이용해 Y를 계산해 보세요.\n",
        "X는 랜덤한 숫자로 적용하세요.\n",
        "* `np.random.normal`"
      ],
      "metadata": {
        "id": "QXBhbZTdBF_f"
      }
    },
    {
      "cell_type": "code",
      "source": [
        "X = np.random.normal(size =(1,3))\n",
        "print(X)\n",
        "Y_pred = model1.predict(X)\n",
        "print(Y_pred)"
      ],
      "metadata": {
        "id": "mFLI_U-BBF_g"
      },
      "execution_count": null,
      "outputs": []
    },
    {
      "cell_type": "markdown",
      "source": [
        "### | 모델링 (4)\n",
        "\n",
        "<p align='center'>\n",
        "<img src=https://github.com/yebiny/SkillTreePython-DeepLearning/blob/main/imgs/ch0101-12.png?raw=true width=820>"
      ],
      "metadata": {
        "id": "iF1Pr3EaoAF7"
      }
    },
    {
      "cell_type": "markdown",
      "source": [
        "#### **모델 구현**"
      ],
      "metadata": {
        "id": "B5AjRa732e7p"
      }
    },
    {
      "cell_type": "code",
      "source": [
        "#from tensorflow.keras import layers, models utils\n",
        "x = layers.Input(shape = (4,))\n",
        "z1 = layers.Dense(8)(x)\n",
        "z2 = layers.Dense(8)(z1)\n",
        "y = layers.Dense(3)(z2)\n",
        "model4 = models.Model(inputs = x, outputs = y, name ='Model_4')\n",
        "model4.summary()\n",
        "utils.plot_model(model4, show_shapes = True)"
      ],
      "metadata": {
        "id": "CgMWjNgu2e7y",
        "colab": {
          "base_uri": "https://localhost:8080/",
          "height": 734
        },
        "outputId": "1f19673d-1f45-49fc-9068-49d07e8a9266"
      },
      "execution_count": 33,
      "outputs": [
        {
          "output_type": "stream",
          "name": "stdout",
          "text": [
            "Model: \"Model_4\"\n",
            "_________________________________________________________________\n",
            " Layer (type)                Output Shape              Param #   \n",
            "=================================================================\n",
            " input_4 (InputLayer)        [(None, 4)]               0         \n",
            "                                                                 \n",
            " dense_7 (Dense)             (None, 8)                 40        \n",
            "                                                                 \n",
            " dense_8 (Dense)             (None, 8)                 72        \n",
            "                                                                 \n",
            " dense_9 (Dense)             (None, 3)                 27        \n",
            "                                                                 \n",
            "=================================================================\n",
            "Total params: 139\n",
            "Trainable params: 139\n",
            "Non-trainable params: 0\n",
            "_________________________________________________________________\n"
          ]
        },
        {
          "output_type": "execute_result",
          "data": {
            "text/plain": [
              "<IPython.core.display.Image object>"
            ],
            "image/png": "[encoded data removed]"
          },
          "metadata": {},
          "execution_count": 33
        }
      ]
    },
    {
      "cell_type": "markdown",
      "source": [
        "#### **파라미터** \n",
        "\n"
      ],
      "metadata": {
        "id": "SANpL92z1-bd"
      }
    },
    {
      "cell_type": "markdown",
      "source": [
        "* 데이터 플로우 : 데이터의 변환 과정을 확인하세요.\n",
        "  * `layer.output`\n",
        "\n"
      ],
      "metadata": {
        "id": "pBcmDE8ZybwG"
      }
    },
    {
      "cell_type": "code",
      "source": [
        "'''\n",
        "X : (N,4) N은 데이터 개수\n",
        "Z1 : (N,8)\n",
        "Z2 : (N,8)\n",
        "Y : (N,3)\n",
        "'''\n",
        "\n",
        "for layer in model4.layers:\n",
        "  print(layer.output.shape)"
      ],
      "metadata": {
        "id": "lc2W98-amfyP",
        "colab": {
          "base_uri": "https://localhost:8080/"
        },
        "outputId": "cf989067-4c88-4697-ba59-1d312328aef0"
      },
      "execution_count": 34,
      "outputs": [
        {
          "output_type": "stream",
          "name": "stdout",
          "text": [
            "(None, 4)\n",
            "(None, 8)\n",
            "(None, 8)\n",
            "(None, 3)\n"
          ]
        }
      ]
    },
    {
      "cell_type": "markdown",
      "source": [
        "* 학습 파라미터 : 학습 파라미터의 shape를 확인하세요.\n",
        "  * `.get_weights()`"
      ],
      "metadata": {
        "id": "1f3wtqGoyz4n"
      }
    },
    {
      "cell_type": "code",
      "source": [
        "'''\n",
        "W1 : (4, 8) \n",
        "B1 : (8,)\n",
        "W2 : (8, 8)\n",
        "B2 : (8,)\n",
        "W3 : (8, 3)\n",
        "B3 : (3,)\n",
        "'''\n",
        "\n",
        "for param in model4.get_weights():\n",
        "  print(param.shape)\n",
        "\n",
        "print(model4.get_weights())"
      ],
      "metadata": {
        "id": "YGL2joIdyz4o",
        "colab": {
          "base_uri": "https://localhost:8080/"
        },
        "outputId": "9a246572-100a-420d-b602-95e21b22a032"
      },
      "execution_count": 36,
      "outputs": [
        {
          "output_type": "stream",
          "name": "stdout",
          "text": [
            "(4, 8)\n",
            "(8,)\n",
            "(8, 8)\n",
            "(8,)\n",
            "(8, 3)\n",
            "(3,)\n",
            "[array([[-0.0745244 ,  0.434259  ,  0.6757328 , -0.25601158, -0.10877192,\n",
            "        -0.70585215, -0.63903016,  0.40369326],\n",
            "       [-0.41876298,  0.57294136,  0.05620992,  0.16789705,  0.06567842,\n",
            "        -0.27312288,  0.50442344, -0.15494514],\n",
            "       [ 0.21998549, -0.2530957 ,  0.13797325,  0.24444449, -0.27378407,\n",
            "        -0.25155514, -0.10619789,  0.63567287],\n",
            "       [ 0.1380992 ,  0.5835852 ,  0.22590137,  0.02864772,  0.5898605 ,\n",
            "         0.33080083, -0.03012776, -0.35457352]], dtype=float32), array([0., 0., 0., 0., 0., 0., 0., 0.], dtype=float32), array([[-0.42790973, -0.10557532,  0.31474847, -0.4436003 , -0.4118343 ,\n",
            "         0.08883369,  0.02764279,  0.56943005],\n",
            "       [-0.24513766,  0.04475296,  0.5870406 , -0.5647506 , -0.10595626,\n",
            "         0.27990735,  0.02815455, -0.52913743],\n",
            "       [-0.09307402, -0.2707721 , -0.59242874, -0.0914458 ,  0.06649131,\n",
            "         0.36099792, -0.35585913, -0.3089531 ],\n",
            "       [-0.4902263 , -0.6055472 , -0.47664952,  0.05789292, -0.37186432,\n",
            "        -0.1479451 ,  0.46277398, -0.30320635],\n",
            "       [-0.01173687,  0.25690216,  0.5901206 , -0.07773018, -0.47449747,\n",
            "        -0.17661956, -0.5524636 , -0.3672999 ],\n",
            "       [-0.47075737, -0.00422615,  0.26098537, -0.47893736, -0.35650066,\n",
            "         0.53276485,  0.5589666 , -0.386239  ],\n",
            "       [-0.39207393, -0.4854379 ,  0.38163006,  0.35360354,  0.46994823,\n",
            "        -0.4298546 ,  0.57019454,  0.22604787],\n",
            "       [-0.14689785, -0.19292232,  0.49086827,  0.473123  ,  0.5096367 ,\n",
            "         0.56502396, -0.14351225, -0.45965338]], dtype=float32), array([0., 0., 0., 0., 0., 0., 0., 0.], dtype=float32), array([[ 1.5923327e-01,  3.7867755e-01,  4.4100219e-01],\n",
            "       [-6.8098325e-01, -6.5701741e-01, -2.6754117e-01],\n",
            "       [-2.3426819e-01, -1.7902142e-01, -7.0381165e-01],\n",
            "       [ 1.9559526e-01, -4.5658562e-01, -4.5342967e-01],\n",
            "       [ 6.3279039e-01, -1.1640787e-04, -1.5613455e-01],\n",
            "       [-1.6628206e-01, -2.0491964e-01,  2.4572611e-03],\n",
            "       [ 1.6370666e-01,  3.2470006e-01, -4.7006026e-01],\n",
            "       [ 1.8822336e-01,  5.0238961e-01,  7.1442455e-01]], dtype=float32), array([0., 0., 0.], dtype=float32)]\n"
          ]
        }
      ]
    },
    {
      "cell_type": "markdown",
      "source": [
        "#### **순전파 계산**\n",
        "\n",
        "현재 초기화되어 있는 학습파라미터를 이용해 Y를 계산해 보세요.\n",
        "X는 랜덤한 숫자로 적용하세요.\n",
        "* `np.random.normal`"
      ],
      "metadata": {
        "id": "EtkJfyepMfJk"
      }
    },
    {
      "cell_type": "code",
      "source": [
        "X = np.random.normal(size=(1,4))\n",
        "Y_pred = model4.predict(X)\n",
        "print('X:', X, X.shape)\n",
        "print('Y_pred:', Y_pred, Y_pred.shape)"
      ],
      "metadata": {
        "id": "al1XlzJuMf9-",
        "colab": {
          "base_uri": "https://localhost:8080/"
        },
        "outputId": "4ff726dd-2ae1-4f8d-c6e7-4526ca29e951"
      },
      "execution_count": 38,
      "outputs": [
        {
          "output_type": "stream",
          "name": "stdout",
          "text": [
            "X: [[ 0.54733321  0.92335105  0.11532198 -0.54379663]] (1, 4)\n",
            "Y_pred: [[ 0.8586933  -0.15502171  0.02210049]] (1, 3)\n"
          ]
        }
      ]
    },
    {
      "cell_type": "markdown",
      "source": [
        "### | 병렬연산\n",
        "\n",
        "\n",
        "<p align='center'>\n",
        "<img src=https://github.com/yebiny/SkillTreePython-DeepLearning/blob/main/imgs/ch0101-13.png?raw=true width=820>\n",
        "\n"
      ],
      "metadata": {
        "id": "2B95PNoM0O9a"
      }
    },
    {
      "cell_type": "markdown",
      "source": [
        "#### **순전파 계산**\n",
        "\n",
        "Model4를 이용하여 Y를 계산해 보세요.\n",
        "X는 랜덤한 숫자로 적용하세요. X의 샘플 개수는 10개 입니다.\n",
        "* `np.random.normal`"
      ],
      "metadata": {
        "id": "LZoN8fo-PboK"
      }
    },
    {
      "cell_type": "code",
      "source": [
        "# 위에는 샘플 하나만 들어간걸로 했음\n",
        "# 여기서는 10개의 샘플을 한번에 넣음\n",
        "# 실제 데이터 (1000~100000 중에 배치단위로 계산이 진행됨) 배치 사이즈 : 8, 16, 32, 64....\n",
        "X = np.random.normal(size=(10,4)) # 배치의 개수가 10개다\n",
        "Y_pred = model4.predict(X)\n",
        "print('X:', X, X.shape)\n",
        "print('Y_pred:', Y_pred, Y_pred.shape)"
      ],
      "metadata": {
        "id": "Vv1yq_uF4Vxu",
        "colab": {
          "base_uri": "https://localhost:8080/"
        },
        "outputId": "af019f48-dc5d-4cf9-89b4-f7b687953850"
      },
      "execution_count": 39,
      "outputs": [
        {
          "output_type": "stream",
          "name": "stdout",
          "text": [
            "X: [[-1.61830277 -1.73941527 -0.21801247 -0.49026172]\n",
            " [-0.59035324  0.84994215  0.36580151  1.02090701]\n",
            " [-1.5796041   1.31353467  0.18261624 -0.46896904]\n",
            " [ 0.84557844  0.80910524  1.10837964  0.99301471]\n",
            " [ 0.54357782 -0.11118652  0.13994008 -0.79446553]\n",
            " [-0.71314976 -1.88751437  1.19546563 -0.50435072]\n",
            " [ 0.51752878  0.70662968 -0.19177227 -1.72286626]\n",
            " [-0.17098097  1.0214869  -0.4208033   0.2062854 ]\n",
            " [-1.66783794  0.56773658  0.68044286 -0.21885211]\n",
            " [ 0.52490672  0.75433513 -2.57491961  0.43928595]] (10, 4)\n",
            "Y_pred: [[ 1.4433265e-03  1.0669729e+00  1.5165299e-01]\n",
            " [-5.0419199e-01  3.4124136e-02 -1.1280758e+00]\n",
            " [ 1.1886328e+00  1.0408804e+00 -1.4157476e+00]\n",
            " [-2.5305676e-01 -8.0605268e-01 -2.6989573e-01]\n",
            " [ 7.9120845e-01 -8.6612254e-02  6.4557523e-01]\n",
            " [ 6.2526011e-01  5.0279188e-01  7.6833582e-01]\n",
            " [ 1.8343557e+00  2.1306473e-01  5.2401423e-01]\n",
            " [-8.4676929e-02  5.8217421e-02 -7.0620549e-01]\n",
            " [ 9.6670645e-01  9.9768251e-01 -1.1581655e+00]\n",
            " [-1.6502156e+00 -3.3415091e-01 -2.8288400e-01]] (10, 3)\n"
          ]
        }
      ]
    },
    {
      "cell_type": "markdown",
      "source": [
        "## 텐서플로우 - 모델을 만드는 세가지 방법\n",
        "---"
      ],
      "metadata": {
        "id": "cxfkYRgEl_CM"
      }
    },
    {
      "cell_type": "markdown",
      "metadata": {
        "id": "ek-Z53ZpxD7P"
      },
      "source": [
        "1. keras Sequential API\n",
        "2. Keras Functional API\n",
        "3. Model Class Subsclassing\n"
      ]
    },
    {
      "cell_type": "code",
      "source": [
        "import tensorflow as tf\n",
        "from tensorflow.keras import models, layers, utils\n",
        "import numpy as np\n",
        "tf.__version__"
      ],
      "metadata": {
        "id": "ynYVT_G104eR",
        "colab": {
          "base_uri": "https://localhost:8080/",
          "height": 35
        },
        "outputId": "4761c2c0-1ef6-424f-85e3-4dedbc6be52e"
      },
      "execution_count": 40,
      "outputs": [
        {
          "output_type": "execute_result",
          "data": {
            "text/plain": [
              "'2.8.2'"
            ],
            "application/vnd.google.colaboratory.intrinsic+json": {
              "type": "string"
            }
          },
          "metadata": {},
          "execution_count": 40
        }
      ]
    },
    {
      "cell_type": "markdown",
      "source": [
        "아래 그림과 같은 모델을 텐서플로우를 이용해서 만들어 봅시다.\n",
        "\n",
        "<p align='center'>\n",
        "<img src=https://github.com/yebiny/NCS-lecture-deeplearning/blob/main/imgs/01-testmodel1.PNG?raw=true width=600>"
      ],
      "metadata": {
        "id": "9KCc_ZoOlxBy"
      }
    },
    {
      "cell_type": "markdown",
      "metadata": {
        "id": "6fB29iRAxyP_"
      },
      "source": [
        "### | Keras Functional API"
      ]
    },
    {
      "cell_type": "markdown",
      "source": [
        "* 모델 구현"
      ],
      "metadata": {
        "id": "_nHacE06bPwT"
      }
    },
    {
      "cell_type": "code",
      "metadata": {
        "id": "nzzxJsKfxwXS"
      },
      "source": [
        "# 이 함수를 실행하면 아래와 같은 구성을 가진 모델이 반환\n",
        "def build_model1():\n",
        "  x = layers.Input(shape = (3,))\n",
        "  z1 = layers.Dense(6)(x)\n",
        "  z2 = layers.Dense(6)(z1)\n",
        "  y = layers.Dense(1)(z2)\n",
        "  model = models.Model(x, y)\n",
        "  return model"
      ],
      "execution_count": 42,
      "outputs": []
    },
    {
      "cell_type": "markdown",
      "source": [
        "* 시각화"
      ],
      "metadata": {
        "id": "fu5N77ex1uJH"
      }
    },
    {
      "cell_type": "code",
      "metadata": {
        "id": "KMP3U9hj1uJH",
        "colab": {
          "base_uri": "https://localhost:8080/",
          "height": 734
        },
        "outputId": "391c6c51-7ce4-496b-cd99-8acbe00a569a"
      },
      "source": [
        "m1 = build_model1()\n",
        "m1.summary()\n",
        "utils.plot_model(m1, show_shapes=True)"
      ],
      "execution_count": 44,
      "outputs": [
        {
          "output_type": "stream",
          "name": "stdout",
          "text": [
            "Model: \"model_3\"\n",
            "_________________________________________________________________\n",
            " Layer (type)                Output Shape              Param #   \n",
            "=================================================================\n",
            " input_6 (InputLayer)        [(None, 3)]               0         \n",
            "                                                                 \n",
            " dense_13 (Dense)            (None, 6)                 24        \n",
            "                                                                 \n",
            " dense_14 (Dense)            (None, 6)                 42        \n",
            "                                                                 \n",
            " dense_15 (Dense)            (None, 1)                 7         \n",
            "                                                                 \n",
            "=================================================================\n",
            "Total params: 73\n",
            "Trainable params: 73\n",
            "Non-trainable params: 0\n",
            "_________________________________________________________________\n"
          ]
        },
        {
          "output_type": "execute_result",
          "data": {
            "text/plain": [
              "<IPython.core.display.Image object>"
            ],
            "image/png": "[encoded data removed]"
          },
          "metadata": {},
          "execution_count": 44
        }
      ]
    },
    {
      "cell_type": "markdown",
      "metadata": {
        "id": "8aFljiFtxGUP"
      },
      "source": [
        "### | Keras Sequential API\n",
        "\n"
      ]
    },
    {
      "cell_type": "markdown",
      "source": [
        "* 모델 구현: `Sequential()`"
      ],
      "metadata": {
        "id": "j5xvJ7e01rbx"
      }
    },
    {
      "cell_type": "code",
      "metadata": {
        "id": "8Id8VOEiw-nT"
      },
      "source": [
        "def build_model2():\n",
        "  model = tf.keras.Sequential.Model(x,y) # 빈 껍질을 만들어 놓은것\n",
        "  model.add(layers.Input(shape = (3,)))\n",
        "  model.add(layers.Dense(6))\n",
        "  model.add(layers.Dense(6))\n",
        "  model.add(layers.Dense(1))\n",
        "  return model"
      ],
      "execution_count": 54,
      "outputs": []
    },
    {
      "cell_type": "markdown",
      "source": [
        "* 모델 시각화"
      ],
      "metadata": {
        "id": "Xzmbgxa31oew"
      }
    },
    {
      "cell_type": "code",
      "metadata": {
        "id": "fc-0GKtqxopy",
        "colab": {
          "base_uri": "https://localhost:8080/",
          "height": 339
        },
        "outputId": "ed40ae79-b63c-4fa8-db10-f186637307b4"
      },
      "source": [
        "m2 = build_model2()\n",
        "m2.summary()\n",
        "utils.plot_model(m1, show_shapes=True)"
      ],
      "execution_count": 55,
      "outputs": [
        {
          "output_type": "error",
          "ename": "AttributeError",
          "evalue": "ignored",
          "traceback": [
            "\u001b[0;31m---------------------------------------------------------------------------\u001b[0m",
            "\u001b[0;31mAttributeError\u001b[0m                            Traceback (most recent call last)",
            "\u001b[0;32m<ipython-input-55-980b2f2b8084>\u001b[0m in \u001b[0;36m<module>\u001b[0;34m()\u001b[0m\n\u001b[0;32m----> 1\u001b[0;31m \u001b[0mm2\u001b[0m \u001b[0;34m=\u001b[0m \u001b[0mbuild_model2\u001b[0m\u001b[0;34m(\u001b[0m\u001b[0;34m)\u001b[0m\u001b[0;34m\u001b[0m\u001b[0;34m\u001b[0m\u001b[0m\n\u001b[0m\u001b[1;32m      2\u001b[0m \u001b[0mm2\u001b[0m\u001b[0;34m.\u001b[0m\u001b[0msummary\u001b[0m\u001b[0;34m(\u001b[0m\u001b[0;34m)\u001b[0m\u001b[0;34m\u001b[0m\u001b[0;34m\u001b[0m\u001b[0m\n\u001b[1;32m      3\u001b[0m \u001b[0mutils\u001b[0m\u001b[0;34m.\u001b[0m\u001b[0mplot_model\u001b[0m\u001b[0;34m(\u001b[0m\u001b[0mm1\u001b[0m\u001b[0;34m,\u001b[0m \u001b[0mshow_shapes\u001b[0m\u001b[0;34m=\u001b[0m\u001b[0;32mTrue\u001b[0m\u001b[0;34m)\u001b[0m\u001b[0;34m\u001b[0m\u001b[0;34m\u001b[0m\u001b[0m\n",
            "\u001b[0;32m<ipython-input-54-4129f08603e5>\u001b[0m in \u001b[0;36mbuild_model2\u001b[0;34m()\u001b[0m\n\u001b[1;32m      1\u001b[0m \u001b[0;32mdef\u001b[0m \u001b[0mbuild_model2\u001b[0m\u001b[0;34m(\u001b[0m\u001b[0;34m)\u001b[0m\u001b[0;34m:\u001b[0m\u001b[0;34m\u001b[0m\u001b[0;34m\u001b[0m\u001b[0m\n\u001b[0;32m----> 2\u001b[0;31m   \u001b[0mmodel\u001b[0m \u001b[0;34m=\u001b[0m \u001b[0mtf\u001b[0m\u001b[0;34m.\u001b[0m\u001b[0mkeras\u001b[0m\u001b[0;34m.\u001b[0m\u001b[0mSequential\u001b[0m\u001b[0;34m.\u001b[0m\u001b[0mModel\u001b[0m\u001b[0;34m(\u001b[0m\u001b[0mx\u001b[0m\u001b[0;34m,\u001b[0m\u001b[0my\u001b[0m\u001b[0;34m)\u001b[0m \u001b[0;31m# 빈 껍질을 만들어 놓은것\u001b[0m\u001b[0;34m\u001b[0m\u001b[0;34m\u001b[0m\u001b[0m\n\u001b[0m\u001b[1;32m      3\u001b[0m   \u001b[0mmodel\u001b[0m\u001b[0;34m.\u001b[0m\u001b[0madd\u001b[0m\u001b[0;34m(\u001b[0m\u001b[0mlayers\u001b[0m\u001b[0;34m.\u001b[0m\u001b[0mInput\u001b[0m\u001b[0;34m(\u001b[0m\u001b[0mshape\u001b[0m \u001b[0;34m=\u001b[0m \u001b[0;34m(\u001b[0m\u001b[0;36m3\u001b[0m\u001b[0;34m,\u001b[0m\u001b[0;34m)\u001b[0m\u001b[0;34m)\u001b[0m\u001b[0;34m)\u001b[0m\u001b[0;34m\u001b[0m\u001b[0;34m\u001b[0m\u001b[0m\n\u001b[1;32m      4\u001b[0m   \u001b[0mmodel\u001b[0m\u001b[0;34m.\u001b[0m\u001b[0madd\u001b[0m\u001b[0;34m(\u001b[0m\u001b[0mlayers\u001b[0m\u001b[0;34m.\u001b[0m\u001b[0mDense\u001b[0m\u001b[0;34m(\u001b[0m\u001b[0;36m6\u001b[0m\u001b[0;34m)\u001b[0m\u001b[0;34m)\u001b[0m\u001b[0;34m\u001b[0m\u001b[0;34m\u001b[0m\u001b[0m\n\u001b[1;32m      5\u001b[0m   \u001b[0mmodel\u001b[0m\u001b[0;34m.\u001b[0m\u001b[0madd\u001b[0m\u001b[0;34m(\u001b[0m\u001b[0mlayers\u001b[0m\u001b[0;34m.\u001b[0m\u001b[0mDense\u001b[0m\u001b[0;34m(\u001b[0m\u001b[0;36m6\u001b[0m\u001b[0;34m)\u001b[0m\u001b[0;34m)\u001b[0m\u001b[0;34m\u001b[0m\u001b[0;34m\u001b[0m\u001b[0m\n",
            "\u001b[0;31mAttributeError\u001b[0m: type object 'Sequential' has no attribute 'Model'"
          ]
        }
      ]
    },
    {
      "cell_type": "markdown",
      "metadata": {
        "id": "J3weqVyOymnn"
      },
      "source": [
        "### | Model Class Subclassing"
      ]
    },
    {
      "cell_type": "markdown",
      "source": [
        "* 모델 구현"
      ],
      "metadata": {
        "id": "k8A4RhsPbbnS"
      }
    },
    {
      "cell_type": "code",
      "metadata": {
        "id": "Y8pq4dLnykdS"
      },
      "source": [
        "class Model3(tf.keras.Model): # 이미 존재하는 클래스를 불러올때\n",
        "  def __init__(self):\n",
        "    super(Model3, self).__init__() # tf.keras.Model에 이미 정의되어있는(init) 파라미터 불러오기\n",
        "    self._name = 'Model3'\n",
        "    self._input_shape = (3)\n",
        "    self.dense1 = layers.Dense(6, name = 'dense1')\n",
        "    self.dense2 = layers.Dense(6, name = 'dense2')\n",
        "    self.dense3 = layers.Dense(3, name = 'dense3')\n",
        "  def call(self, x):\n",
        "    y = self.dense1(x)\n",
        "    y = self.dense2(y)\n",
        "    y = self.dense3(y)\n",
        "    return y"
      ],
      "execution_count": 49,
      "outputs": []
    },
    {
      "cell_type": "markdown",
      "source": [
        "* 모델 시각화"
      ],
      "metadata": {
        "id": "zgTALE5H17_3"
      }
    },
    {
      "cell_type": "code",
      "metadata": {
        "id": "HK0_O6i117_4",
        "colab": {
          "base_uri": "https://localhost:8080/",
          "height": 352
        },
        "outputId": "5363932d-9738-45f8-dcc7-b420161e4643"
      },
      "source": [
        "m3 = Model3()\n",
        "m3(np.array([[1,2,1]]))\n",
        "m3.summary()\n",
        "utils.plot_model(m3)"
      ],
      "execution_count": 53,
      "outputs": [
        {
          "output_type": "stream",
          "name": "stdout",
          "text": [
            "Model: \"Model3\"\n",
            "_________________________________________________________________\n",
            " Layer (type)                Output Shape              Param #   \n",
            "=================================================================\n",
            " dense1 (Dense)              multiple                  24        \n",
            "                                                                 \n",
            " dense2 (Dense)              multiple                  42        \n",
            "                                                                 \n",
            " dense3 (Dense)              multiple                  21        \n",
            "                                                                 \n",
            "=================================================================\n",
            "Total params: 87\n",
            "Trainable params: 87\n",
            "Non-trainable params: 0\n",
            "_________________________________________________________________\n"
          ]
        },
        {
          "output_type": "execute_result",
          "data": {
            "text/plain": [
              "<IPython.core.display.Image object>"
            ],
            "image/png": "[encoded data removed]"
          },
          "metadata": {},
          "execution_count": 53
        }
      ]
    },
    {
      "cell_type": "markdown",
      "source": [
        "### | 예제\n",
        "\n",
        "세가지 방법을 이용해 아래 모델을 구현하세요."
      ],
      "metadata": {
        "id": "gpBnK0J7cbpK"
      }
    },
    {
      "cell_type": "markdown",
      "source": [
        "#### **예제 01**\n",
        "\n",
        "<p align='center'>\n",
        "<img src=https://github.com/yebiny/NCS-lecture-deeplearning/blob/main/imgs/01-testmodel2.PNG?raw=true width=500>\n"
      ],
      "metadata": {
        "id": "e7DmmlbplmAa"
      }
    },
    {
      "cell_type": "markdown",
      "source": [
        "* Keras Functional API\n"
      ],
      "metadata": {
        "id": "5mnW29R1qK5u"
      }
    },
    {
      "cell_type": "code",
      "source": [
        "def build_model1():\n",
        "  x = layers.Input(shape = (4,))\n",
        "  z1 = layers.Dense(8)(x)\n",
        "  z2 = layers.Dense(8)(z1)\n",
        "  y = layers.Dense(3)(z2)\n",
        "  model = models.Model(x, y)\n",
        "  return model"
      ],
      "metadata": {
        "id": "BgLyz6HXqK5v"
      },
      "execution_count": 66,
      "outputs": []
    },
    {
      "cell_type": "markdown",
      "source": [
        "* keras Sequential API\n"
      ],
      "metadata": {
        "id": "q5ygabc2qI1P"
      }
    },
    {
      "cell_type": "code",
      "source": [
        "def build_model2():\n",
        "  model = tf.keras.Sequential.Model(x,y) # 뼈대에 부가적으로 붙이는 방법\n",
        "  model.add(layers.Input(shape = (4,)))\n",
        "  model.add(layers.Dense(8))\n",
        "  model.add(layers.Dense(8))\n",
        "  model.add(layers.Dense(3))\n",
        "  return model"
      ],
      "metadata": {
        "id": "I6qwU4_zlnN_"
      },
      "execution_count": 67,
      "outputs": []
    },
    {
      "cell_type": "markdown",
      "source": [
        "* Model Class Subsclassing\n",
        "\n",
        "\n"
      ],
      "metadata": {
        "id": "k9crENLAqLEW"
      }
    },
    {
      "cell_type": "code",
      "source": [
        "class Model3(tf.keras.Model): # 이미 존재하는 클래스를 불러올때\n",
        "  def __init__(self):\n",
        "    super(Model3, self).__init__() # tf.keras.Model에 이미 정의되어있는(init) 파라미터 불러오기\n",
        "    self._name = 'Model3'\n",
        "    self._input_shape = (4)\n",
        "    self.dense1 = layers.Dense(8, name = 'dense1')\n",
        "    self.dense2 = layers.Dense(8, name = 'dense2')\n",
        "    self.dense3 = layers.Dense(3, name = 'dense3')\n",
        "  def call(self, x):\n",
        "    y = self.dense1(x)\n",
        "    y = self.dense2(y)\n",
        "    y = self.dense3(y)\n",
        "    return y"
      ],
      "metadata": {
        "id": "hP3yZKS0qLEW"
      },
      "execution_count": 68,
      "outputs": []
    },
    {
      "cell_type": "markdown",
      "source": [
        "#### **예제 02**\n",
        "\n",
        "\n",
        "\n",
        "\n",
        "<p align='center'>\n",
        "<img src=https://github.com/yebiny/NCS-lecture-deeplearning/blob/main/imgs/01-testmodel3.PNG?raw=true width=700>\n"
      ],
      "metadata": {
        "id": "ZCd50-faAZg9"
      }
    },
    {
      "cell_type": "markdown",
      "source": [
        "* Keras Functional API\n"
      ],
      "metadata": {
        "id": "-TXHCeHZqZjF"
      }
    },
    {
      "cell_type": "code",
      "source": [
        "def build_model1():\n",
        "  x = layers.Input(shape = (3,))\n",
        "  z1 = layers.Dense(4)(x)\n",
        "  z2 = layers.Dense(8)(z1)\n",
        "  z3 = layers.Dense(4)(z2)\n",
        "  y = layers.Dense(1)(z3)\n",
        "  model = models.Model(x, y)\n",
        "  return model"
      ],
      "metadata": {
        "id": "Zekozc0QqZjG"
      },
      "execution_count": 70,
      "outputs": []
    },
    {
      "cell_type": "markdown",
      "source": [
        "* keras Sequential API\n"
      ],
      "metadata": {
        "id": "LQPscC7sqZjA"
      }
    },
    {
      "cell_type": "code",
      "source": [
        "def build_model2():\n",
        "  model = tf.keras.Sequential.Model(x,y) # 뼈대에 부가적으로 붙이는 방법\n",
        "  model.add(layers.Input(shape = (3,)))\n",
        "  model.add(layers.Dense(4))\n",
        "  model.add(layers.Dense(8))\n",
        "  model.add(layers.Dense(4))\n",
        "  model.add(layers.Dense(1))\n",
        "  return model"
      ],
      "metadata": {
        "id": "IO0chB0pqZjF"
      },
      "execution_count": 71,
      "outputs": []
    },
    {
      "cell_type": "markdown",
      "source": [
        "* Model Class Subsclassing\n",
        "\n"
      ],
      "metadata": {
        "id": "LKm8DvxSqZjG"
      }
    },
    {
      "cell_type": "code",
      "source": [
        "class Model3(tf.keras.Model): # 이미 존재하는 클래스를 불러올때\n",
        "  def __init__(self):\n",
        "    super(Model3, self).__init__() # tf.keras.Model에 이미 정의되어있는(init) 파라미터 불러오기\n",
        "    self._name = 'Model3'\n",
        "    self._input_shape = (3)\n",
        "    self.dense1 = layers.Dense(4, name = 'dense1')\n",
        "    self.dense2 = layers.Dense(8, name = 'dense2')\n",
        "    self.dense3 = layers.Dense(4, name = 'dense3')\n",
        "    self.dense4 = layers.Dense(1, name = 'dense4')\n",
        "  def call(self, x):\n",
        "    y = self.dense1(x)\n",
        "    y = self.dense2(y)\n",
        "    y = self.dense3(y)\n",
        "    y = self.dense4(y)\n",
        "    return y"
      ],
      "metadata": {
        "id": "fEOkBDe2qZjG"
      },
      "execution_count": 69,
      "outputs": []
    }
  ]
}