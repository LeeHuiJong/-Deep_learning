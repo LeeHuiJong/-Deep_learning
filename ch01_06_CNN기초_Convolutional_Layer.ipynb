{
  "nbformat": 4,
  "nbformat_minor": 0,
  "metadata": {
    "colab": {
      "name": "ch01_06_CNN기초_Convolutional_Layer.ipynb",
      "provenance": [],
      "collapsed_sections": [],
      "include_colab_link": true
    },
    "kernelspec": {
      "name": "python3",
      "display_name": "Python 3"
    },
    "language_info": {
      "name": "python"
    },
    "accelerator": "GPU",
    "gpuClass": "standard"
  },
  "cells": [
    {
      "cell_type": "markdown",
      "metadata": {
        "id": "view-in-github",
        "colab_type": "text"
      },
      "source": [
        "<a href=\"https://colab.research.google.com/github/LeeHuiJong/-Deep_learning/blob/main/ch01_06_CNN%EA%B8%B0%EC%B4%88_Convolutional_Layer.ipynb\" target=\"_parent\"><img src=\"https://colab.research.google.com/assets/colab-badge.svg\" alt=\"Open In Colab\"/></a>"
      ]
    },
    {
      "cell_type": "markdown",
      "source": [
        "# ch01.06 CNN기초 - Convolutional Layer\n",
        "---\n",
        "\n",
        "* 날짜:\n",
        "* 이름:\n",
        "\n",
        "## 학습내용\n",
        "    - CNN의 개념을 이해한다.\n",
        "    - 텐서플로우를 이용해 CNN을 구성한다.\n",
        "    - CNN 모델을 이용해 손글씨 이미지를 분류한다.\n",
        "    - CNN의 feature map에 대해 이해한다.\n",
        "\n",
        "## 데이터셋\n",
        "\n",
        "* MNIST\n",
        "\n",
        "```\n",
        "import numpy as np\n",
        "import tensorflow as tf\n",
        "import matplotlib.pyplot as plt\n",
        "```"
      ],
      "metadata": {
        "id": "sWs2kEC1_b-P"
      }
    },
    {
      "cell_type": "code",
      "source": [
        "import numpy as np\n",
        "import tensorflow as tf\n",
        "import matplotlib.pyplot as plt"
      ],
      "metadata": {
        "id": "7vXrksNr0m1v"
      },
      "execution_count": 1,
      "outputs": []
    },
    {
      "cell_type": "markdown",
      "source": [
        "## 이미지 데이터의 특징\n",
        "---\n",
        "\n",
        "<p align='center'>\n",
        "<img src=https://wikidocs.net/images/page/64066/conv1.png width=550>\n",
        "</p>\n",
        "\n",
        "다층 퍼셉트론을 이용하기 위해서는 데이터 샘플 한개의 차원이 1차원이여야 합니다. 그러나 1차원으로 변환된 결과는 사람이 보기에도 이게 원래 어떤 이미지였는지 알아보기가 어렵습니다. \n",
        "\n",
        "위와 같은 결과는 변환 전에 가지고 있던 **공간적인 구조**(spatial structure) 정보가 유실된 상태입니다.\n",
        "\n",
        "결국 이미지의 공간적인 구조 정보를 보존하면서 학습할 수 있는 방법이 필요해졌고, 이를 위해 합성곱 신경망을 사용합니다.\n"
      ],
      "metadata": {
        "id": "FuUR8DztmbId"
      }
    },
    {
      "cell_type": "markdown",
      "source": [
        "```\n",
        "X = np.array([[1,1,1,1,1],\n",
        "              [1,0,1,0,1],\n",
        "              [1,1,0,0,1],\n",
        "              [1,1,1,0,1],\n",
        "              [1,1,1,0,1],\n",
        "              [1,1,1,1,1],])\n",
        "```"
      ],
      "metadata": {
        "id": "dy4UcDermXkx"
      }
    },
    {
      "cell_type": "code",
      "source": [
        "X = np.array([[1,1,1,1,1],\n",
        "              [1,0,1,0,1],\n",
        "              [1,1,0,0,1],\n",
        "              [1,1,1,0,1],\n",
        "              [1,1,1,0,1],\n",
        "              [1,1,1,1,1],])\n",
        "X_flatten = X.flatten().reshape(1,30)\n",
        "\n",
        "print(X.shape)\n",
        "print(X_flatten.shape)\n",
        "\n",
        "plt.subplot(211);plt.imshow(X, cmap = 'gray')\n",
        "plt.subplot(212);plt.imshow(X_flatten, cmap = 'gray') # (30,) -> (1,30)"
      ],
      "metadata": {
        "id": "_affyE2BmWIl",
        "colab": {
          "base_uri": "https://localhost:8080/",
          "height": 277
        },
        "outputId": "9089d508-af59-477b-b984-ce351e513443"
      },
      "execution_count": 9,
      "outputs": [
        {
          "output_type": "stream",
          "name": "stdout",
          "text": [
            "(6, 5)\n",
            "(1, 30)\n"
          ]
        },
        {
          "output_type": "execute_result",
          "data": {
            "text/plain": [
              "<matplotlib.image.AxesImage at 0x7fc2d6721a90>"
            ]
          },
          "metadata": {},
          "execution_count": 9
        },
        {
          "output_type": "display_data",
          "data": {
            "text/plain": [
              "<Figure size 432x288 with 2 Axes>"
            ],
            "image/png": "[encoded data removed]"
          },
          "metadata": {
            "needs_background": "light"
          }
        }
      ]
    },
    {
      "cell_type": "markdown",
      "source": [
        "## 합성곱 층\n",
        "---"
      ],
      "metadata": {
        "id": "g-2VVA31UTnD"
      }
    },
    {
      "cell_type": "markdown",
      "source": [
        "### | 텐서플로우를 이용한 합성곱층 구현\n",
        "\n",
        "```\n",
        "tf.keras.layers.Conv2D(\n",
        "    filters,\n",
        "    kernel_size,\n",
        "    padding='valid',\n",
        "    strides=(1, 1),\n",
        "    activation=None,\n",
        ")\n",
        "\n",
        "```"
      ],
      "metadata": {
        "id": "QfP9HDu1g9kJ"
      }
    },
    {
      "cell_type": "code",
      "source": [
        "from tensorflow.keras.layers import Conv2D"
      ],
      "metadata": {
        "id": "_tygZa2jZg3q"
      },
      "execution_count": 10,
      "outputs": []
    },
    {
      "cell_type": "markdown",
      "source": [
        "#### **filters**\n",
        "\n",
        "* filter 개수에 따라 아웃풋의 shape가 어떻게 변화하는지 살펴봅니다.\n",
        "\n",
        "<p align='center'>\n",
        "<img src=https://github.com/yebiny/SkillTreePython-DeepLearning/blob/main/imgs/ch0106-01.PNG?raw=true\n",
        " width=450>\n",
        "</p>\n"
      ],
      "metadata": {
        "id": "Ir3O8uUr7vZp"
      }
    },
    {
      "cell_type": "code",
      "source": [
        "x = np.random.normal(0,1, size=(1, 8, 8, 4)) # resolution = (8,8) ch=(1)\n",
        "print(x.shape)\n",
        "for n in [1,2,3,4]:\n",
        "  y = Conv2D(filters=n, kernel_size=1)(x)\n",
        "  print(f'필터 개수가 {n}일 때 아웃풋의 shape: {y.shape}')\n",
        "# 필터 개수에 따라 아웃풋의 채널 (dimension)이 변화"
      ],
      "metadata": {
        "id": "jYfxDSgCg1im",
        "colab": {
          "base_uri": "https://localhost:8080/"
        },
        "outputId": "e874a035-3b0f-47c9-b93f-0af596c79da0"
      },
      "execution_count": 30,
      "outputs": [
        {
          "output_type": "stream",
          "name": "stdout",
          "text": [
            "(1, 8, 8, 4)\n",
            "필터 개수가 1일 때 아웃풋의 shape: (1, 8, 8, 1)\n",
            "필터 개수가 2일 때 아웃풋의 shape: (1, 8, 8, 2)\n",
            "필터 개수가 3일 때 아웃풋의 shape: (1, 8, 8, 3)\n",
            "필터 개수가 4일 때 아웃풋의 shape: (1, 8, 8, 4)\n"
          ]
        }
      ]
    },
    {
      "cell_type": "markdown",
      "source": [
        "#### **kernel size**\n",
        "\n",
        "* kernel size 에 따라 아웃풋의 shape가 어떻게 변화하는지 살펴봅니다.\n",
        "\n",
        "<p align='center'>\n",
        "<img src=https://github.com/yebiny/SkillTreePython-DeepLearning/blob/main/imgs/ch0106-02.PNG?raw=true\n",
        " width=450>\n",
        "</p>"
      ],
      "metadata": {
        "id": "GXwC2GIM8ekk"
      }
    },
    {
      "cell_type": "code",
      "source": [
        "x = np.random.normal(0.1, size = (1, 4, 4, 1)) # resolution = (4,4) ch =(1)\n",
        "print(x.shape)\n",
        "for n in [1,2,3,4]:\n",
        "  y = Conv2D(filters = 1, kernel_size = n)(x)\n",
        "  print(f'커널 사이즈가 {n}일 때 아웃풋의 shape: {y.shape}')\n",
        "# 커널 사이즈에 따라 아웃풋의 채널 resolution 이 변화(4-n+1)"
      ],
      "metadata": {
        "id": "ASGoNrRl8ekr",
        "colab": {
          "base_uri": "https://localhost:8080/"
        },
        "outputId": "6204f088-60a6-4ecd-c5c9-c279262b436a"
      },
      "execution_count": 31,
      "outputs": [
        {
          "output_type": "stream",
          "name": "stdout",
          "text": [
            "(1, 4, 4, 1)\n",
            "커널 사이즈가 1일 때 아웃풋의 shape: (1, 4, 4, 1)\n",
            "커널 사이즈가 2일 때 아웃풋의 shape: (1, 3, 3, 1)\n",
            "커널 사이즈가 3일 때 아웃풋의 shape: (1, 2, 2, 1)\n",
            "커널 사이즈가 4일 때 아웃풋의 shape: (1, 1, 1, 1)\n"
          ]
        }
      ]
    },
    {
      "cell_type": "markdown",
      "source": [
        "#### **padding**\n",
        "\n",
        "* padding 옵션에 따라 아웃풋의 shape가 어떻게 변화하는지 살펴봅니다.\n",
        "  * valid\n",
        "  * same\n",
        "\n",
        "<p align='center'>\n",
        "<img src=https://github.com/yebiny/SkillTreePython-DeepLearning/blob/main/imgs/ch0106-03.PNG?raw=true\n",
        " width=550>\n",
        "</p>"
      ],
      "metadata": {
        "id": "tDjyf9xG8m-i"
      }
    },
    {
      "cell_type": "code",
      "source": [
        "x = np.random.normal(0.1, size = (1, 4, 4, 1)) # resolution = (4,4) ch =(1)\n",
        "print(x.shape)\n",
        "for n in [1,2,3,4]:\n",
        "  for padding in ['valid', 'same']:\n",
        "    y = Conv2D(filters = 1, kernel_size = n, padding = padding)(x)\n",
        "    print(f'커널 사이즈가 {n}이고, 패딩이 {padding}일때, 아웃풋의 shape: {y.shape}')\n",
        "  print('-'*70)\n",
        "  \n",
        "# padding = same 이면 커널 사이즈에 따른 아웃풋 변화가 없다.\n",
        "# 대부분 경우 패딩 = 'same' -> 커널 사이즈가 아웃풋 크기 고려 안함"
      ],
      "metadata": {
        "id": "O5nMpYKr8m-j",
        "colab": {
          "base_uri": "https://localhost:8080/"
        },
        "outputId": "3d2bf4dd-30bf-4fa7-efc0-021e5d05d33b"
      },
      "execution_count": 23,
      "outputs": [
        {
          "output_type": "stream",
          "name": "stdout",
          "text": [
            "(1, 4, 4, 1)\n",
            "커널 사이즈가 1이고, 패딩이 valid일때, 아웃풋의 shape: (1, 4, 4, 1)\n",
            "커널 사이즈가 1이고, 패딩이 same일때, 아웃풋의 shape: (1, 4, 4, 1)\n",
            "----------------------------------------------------------------------\n",
            "커널 사이즈가 2이고, 패딩이 valid일때, 아웃풋의 shape: (1, 3, 3, 1)\n",
            "커널 사이즈가 2이고, 패딩이 same일때, 아웃풋의 shape: (1, 4, 4, 1)\n",
            "----------------------------------------------------------------------\n",
            "커널 사이즈가 3이고, 패딩이 valid일때, 아웃풋의 shape: (1, 2, 2, 1)\n",
            "커널 사이즈가 3이고, 패딩이 same일때, 아웃풋의 shape: (1, 4, 4, 1)\n",
            "----------------------------------------------------------------------\n",
            "커널 사이즈가 4이고, 패딩이 valid일때, 아웃풋의 shape: (1, 1, 1, 1)\n",
            "커널 사이즈가 4이고, 패딩이 same일때, 아웃풋의 shape: (1, 4, 4, 1)\n",
            "----------------------------------------------------------------------\n"
          ]
        }
      ]
    },
    {
      "cell_type": "markdown",
      "source": [
        "#### **strides**\n",
        "* strides 의 크기에 따라 아웃풋의 shape가 어떻게 변화하는지 살펴봅니다.\n",
        "\n",
        "<p align='center'>\n",
        "<img src=https://github.com/yebiny/SkillTreePython-DeepLearning/blob/main/imgs/ch0106-04.PNG?raw=true\n",
        " width=450>\n",
        "</p>"
      ],
      "metadata": {
        "id": "AhPvcOMS8-tT"
      }
    },
    {
      "cell_type": "code",
      "source": [
        "x = np.random.normal(0.1, size = (1, 24, 24, 1)) # resolution = (24,24) ch =(1)\n",
        "print(x.shape)\n",
        "for n in [1,2,3,4,6]: # 보통 1 또는 2정도, 크게 사용하지는 않는다\n",
        "  y = Conv2D(filters = 1, kernel_size = 3, padding = 'same', strides = n)(x)\n",
        "  print(f'스트라이드가 {n}일 때 아웃풋의 shape: {y.shape}')\n",
        "# 스트라이드에 따라 아웃풋의 채널 resolution 이 변화(resolution / n)"
      ],
      "metadata": {
        "id": "ejYHsGjW9Dxd",
        "colab": {
          "base_uri": "https://localhost:8080/"
        },
        "outputId": "3bab03a6-d26f-4a99-ea2c-31bb359865ad"
      },
      "execution_count": 24,
      "outputs": [
        {
          "output_type": "stream",
          "name": "stdout",
          "text": [
            "(1, 24, 24, 1)\n",
            "스트라이드가 1일 때 아웃풋의 shape: (1, 24, 24, 1)\n",
            "스트라이드가 2일 때 아웃풋의 shape: (1, 12, 12, 1)\n",
            "스트라이드가 3일 때 아웃풋의 shape: (1, 8, 8, 1)\n",
            "스트라이드가 4일 때 아웃풋의 shape: (1, 6, 6, 1)\n",
            "스트라이드가 6일 때 아웃풋의 shape: (1, 4, 4, 1)\n"
          ]
        }
      ]
    },
    {
      "cell_type": "markdown",
      "source": [
        "## CNN 실습: MNIST 손글씨 이미지 분류\n",
        "---\n",
        "\n",
        "```\n",
        "mnist = tf.keras.datasets.mnist\n",
        "(x_train, y_train), (x_test, y_test) = mnist.load_data()\n",
        "```"
      ],
      "metadata": {
        "id": "xLsMxkxi6fgp"
      }
    },
    {
      "cell_type": "markdown",
      "source": [
        "### **| CNN 모델을 이용한 분류**"
      ],
      "metadata": {
        "id": "BDcHGuNeaLPf"
      }
    },
    {
      "cell_type": "markdown",
      "source": [
        "####  **데이터 준비**"
      ],
      "metadata": {
        "id": "9XFyQs_Nm6w0"
      }
    },
    {
      "cell_type": "code",
      "source": [
        "mnist = tf.keras.datasets.mnist\n",
        "(x_train, y_train), (x_test, y_test) = mnist.load_data()\n",
        "\n",
        "# 전처리 - 정규화\n",
        "x_train = x_train/255.0 # (0~1)\n",
        "x_test = x_test/255.0\n",
        "\n",
        "# 전처리 -shape 맞추기\n",
        "x_train = np.expand_dims(x_train, 3)\n",
        "x_test = np.expand_dims(x_test, 3)\n",
        "\n",
        "print(x_train.shape, x_test.shape, y_train.shape, y_test.shape)"
      ],
      "metadata": {
        "id": "eFbUg6pkhV0I",
        "colab": {
          "base_uri": "https://localhost:8080/"
        },
        "outputId": "ed2b4095-ffea-4e78-a02a-7b8631439781"
      },
      "execution_count": 26,
      "outputs": [
        {
          "output_type": "stream",
          "name": "stdout",
          "text": [
            "(60000, 28, 28, 1) (10000, 28, 28, 1) (60000,) (10000,)\n"
          ]
        }
      ]
    },
    {
      "cell_type": "markdown",
      "source": [
        "#### **모델 구성**\n",
        "<p align='center'>\n",
        "<img src=https://github.com/yebiny/SkillTreePython-DeepLearning/blob/main/imgs/ch0106-05_2.PNG?raw=true\n",
        " width=650>\n",
        "</p>"
      ],
      "metadata": {
        "id": "Yr0WeGcxVYch"
      }
    },
    {
      "cell_type": "code",
      "source": [
        "from tensorflow.keras import models, layers, utils\n",
        "\n",
        "def build_model():\n",
        "  x = layers.Input(shape = (28,28,1))\n",
        "  # 모든 conv 레이어의 padding = 'same\n",
        "  z = Conv2D(filters = 8, kernel_size = 28, padding = 'same', strides = 1, activation = 'relu')(x)\n",
        "  z = Conv2D(filters = 8, kernel_size = 14, padding = 'same', strides = 2, activation = 'relu')(z)\n",
        "  z = Conv2D(filters = 3, kernel_size = 7, padding = 'same', strides = 2, activation = 'relu')(z)\n",
        "  z = layers.Flatten()(z)\n",
        "  y = layers.Dense(10, activation = 'softmax')(z)\n",
        "\n",
        "  model = models.Model(x, y)\n",
        "  return model"
      ],
      "metadata": {
        "id": "Luw4UdXprcOG"
      },
      "execution_count": 37,
      "outputs": []
    },
    {
      "cell_type": "code",
      "source": [
        "from tensorflow.keras import models, layers, utils\n",
        "\n",
        "def build_model():\n",
        "  x = layers.Input(shape = (28,28,1))\n",
        "  # 모든 conv 레이어의 padding = 'same\n",
        "  y = Conv2D(8, kernel_size = 3, padding = 'same', activation = 'relu')(x)\n",
        "  y = Conv2D(8, kernel_size = 3, padding = 'same', strides = 2, activation = 'relu')(y)\n",
        "  y = Conv2D(3, kernel_size = 3, padding = 'same', strides = 2, activation = 'relu')(y)\n",
        "  y = layers.Flatten()(y)\n",
        "  y = layers.Dense(10, activation = 'softmax')(y)\n",
        "\n",
        "  model = models.Model(x, y)\n",
        "  return model"
      ],
      "metadata": {
        "id": "imedkAN-KE-q"
      },
      "execution_count": 43,
      "outputs": []
    },
    {
      "cell_type": "markdown",
      "source": [
        "#### **학습 및 평가**"
      ],
      "metadata": {
        "id": "plLyxz6PaSMU"
      }
    },
    {
      "cell_type": "code",
      "source": [
        "model = build_model()\n",
        "model.summary()\n",
        "model.compile(loss = 'sparse_categorical_crossentropy',\n",
        "              optimizer = 'adam',\n",
        "              metrics = ['accuracy'])\n",
        "model.fit(x_train, y_train, epochs = 10)\n",
        "print('===테스트 스코어===')\n",
        "model.evaluate(x_test, y_test)"
      ],
      "metadata": {
        "id": "XJP8wbQVspks",
        "colab": {
          "base_uri": "https://localhost:8080/"
        },
        "outputId": "afed75de-a541-435f-e932-6492a2472b49"
      },
      "execution_count": 44,
      "outputs": [
        {
          "output_type": "stream",
          "name": "stdout",
          "text": [
            "Model: \"model_6\"\n",
            "_________________________________________________________________\n",
            " Layer (type)                Output Shape              Param #   \n",
            "=================================================================\n",
            " input_7 (InputLayer)        [(None, 28, 28, 1)]       0         \n",
            "                                                                 \n",
            " conv2d_93 (Conv2D)          (None, 28, 28, 8)         80        \n",
            "                                                                 \n",
            " conv2d_94 (Conv2D)          (None, 14, 14, 8)         584       \n",
            "                                                                 \n",
            " conv2d_95 (Conv2D)          (None, 7, 7, 3)           219       \n",
            "                                                                 \n",
            " flatten_6 (Flatten)         (None, 147)               0         \n",
            "                                                                 \n",
            " dense_6 (Dense)             (None, 10)                1480      \n",
            "                                                                 \n",
            "=================================================================\n",
            "Total params: 2,363\n",
            "Trainable params: 2,363\n",
            "Non-trainable params: 0\n",
            "_________________________________________________________________\n",
            "Epoch 1/10\n",
            "1875/1875 [==============================] - 7s 3ms/step - loss: 0.3652 - accuracy: 0.8842\n",
            "Epoch 2/10\n",
            "1875/1875 [==============================] - 5s 3ms/step - loss: 0.1536 - accuracy: 0.9544\n",
            "Epoch 3/10\n",
            "1875/1875 [==============================] - 6s 3ms/step - loss: 0.1245 - accuracy: 0.9622\n",
            "Epoch 4/10\n",
            "1875/1875 [==============================] - 6s 3ms/step - loss: 0.1111 - accuracy: 0.9664\n",
            "Epoch 5/10\n",
            "1875/1875 [==============================] - 6s 3ms/step - loss: 0.1039 - accuracy: 0.9690\n",
            "Epoch 6/10\n",
            "1875/1875 [==============================] - 5s 3ms/step - loss: 0.0981 - accuracy: 0.9707\n",
            "Epoch 7/10\n",
            "1875/1875 [==============================] - 5s 3ms/step - loss: 0.0926 - accuracy: 0.9726\n",
            "Epoch 8/10\n",
            "1875/1875 [==============================] - 5s 3ms/step - loss: 0.0894 - accuracy: 0.9737\n",
            "Epoch 9/10\n",
            "1875/1875 [==============================] - 5s 3ms/step - loss: 0.0869 - accuracy: 0.9742\n",
            "Epoch 10/10\n",
            "1875/1875 [==============================] - 5s 3ms/step - loss: 0.0849 - accuracy: 0.9747\n",
            "===테스트 스코어===\n",
            "313/313 [==============================] - 1s 2ms/step - loss: 0.0678 - accuracy: 0.9777\n"
          ]
        },
        {
          "output_type": "execute_result",
          "data": {
            "text/plain": [
              "[0.06784778088331223, 0.9776999950408936]"
            ]
          },
          "metadata": {},
          "execution_count": 44
        }
      ]
    },
    {
      "cell_type": "markdown",
      "source": [
        "### **| Feature map**"
      ],
      "metadata": {
        "id": "MDlSRAle6SKL"
      }
    },
    {
      "cell_type": "markdown",
      "source": [
        "#### **feature map 얻기**"
      ],
      "metadata": {
        "id": "Idw3nITWaaGb"
      }
    },
    {
      "cell_type": "code",
      "source": [
        "#for layer in model.layers:\n",
        "#  print(layer.output)\n",
        "layer_outputs = [layer.output for layer in model.layers] # 레이어의 아웃풋 = 데이터 변화과정\n",
        "model_output_by_layer = models.Model(inputs = model.input, outputs = layer_outputs) # 모든 레이어의 아웃풋 획득 가능\n",
        "print(len(layer_outputs))\n",
        "x_pred_maps = model_output_by_layer(x_test)\n",
        "for x_pred_map in x_pred_maps:\n",
        "  print(x_pred_map.shape)\n",
        "cnn_layers = [1,2,3]\n",
        "dnn_layers = [4,5] "
      ],
      "metadata": {
        "id": "sEFcCb5Btua2",
        "colab": {
          "base_uri": "https://localhost:8080/"
        },
        "outputId": "839ddccd-85f3-4af5-80b7-7f5f77c69328"
      },
      "execution_count": 50,
      "outputs": [
        {
          "output_type": "stream",
          "name": "stdout",
          "text": [
            "6\n",
            "(10000, 28, 28, 1)\n",
            "(10000, 28, 28, 8)\n",
            "(10000, 14, 14, 8)\n",
            "(10000, 7, 7, 3)\n",
            "(10000, 147)\n",
            "(10000, 10)\n"
          ]
        }
      ]
    },
    {
      "cell_type": "markdown",
      "source": [
        "#### **시각화**\n",
        "\n",
        "<p align='center'>\n",
        "<img src=https://github.com/yebiny/SkillTreePython-DeepLearning/blob/main/imgs/ch0106-05_2.PNG?raw=true\n",
        " width=650>\n",
        "</p>\n",
        "\n",
        "[시각화 함수 스크립트](https://github.com/yebiny/SkillTreePython-DeepLearning/blob/main/01.%EB%94%A5%EB%9F%AC%EB%8B%9Dwith%ED%85%90%EC%84%9C%ED%94%8C%EB%A1%9C%EC%9A%B0-basic/scripts/featuremap_dict.py)"
      ],
      "metadata": {
        "id": "KS8K45aqWbYb"
      }
    },
    {
      "cell_type": "code",
      "source": [
        "import numpy as numpy\n",
        "import tensorflow as tf\n",
        "import matplotlib.pyplot as plt\n",
        "\n",
        "def show_featuremap(sample_idx, fmaps, cnn_idxs, flatten_idxs):\n",
        "  for idx in cnn_idxs:\n",
        "    fmap = fmaps[idx][sample_idx]\n",
        "    chs = fmap.shape[2]\n",
        "    print(f'{idx} 번째 Convolutional 레이어 {fmap.shape}')\n",
        "    for ch in range(chs):\n",
        "      plt.subplot(1,chs,ch+1)\n",
        "      plt.imshow(fmap[:,:,ch], cmap='gray')\n",
        "      plt.xticks([]);plt.yticks([])\n",
        "    plt.show()\n",
        "\n",
        "  for idx in flatten_idxs:\n",
        "    fmap = fmaps[idx][sample_idx]\n",
        "    print(f'{idx} 번째 Dense 레이어 {fmap.shape}')\n",
        "    plt.figure(figsize=(int(len(fmap)/5),10))\n",
        "    plt.imshow(tf.reshape(fmap,(1,len(fmap))), cmap='gray')\n",
        "    plt.xticks(range(10));plt.yticks([]);plt.show()"
      ],
      "metadata": {
        "id": "noAT1fCmaxIK"
      },
      "execution_count": 51,
      "outputs": []
    },
    {
      "cell_type": "code",
      "source": [
        "sample_idx = 33\n",
        "show_featuremap(sample_idx,x_pred_maps, cnn_layers, dnn_layers)"
      ],
      "metadata": {
        "id": "lR5o-iP0znfa",
        "colab": {
          "base_uri": "https://localhost:8080/",
          "height": 395
        },
        "outputId": "2c8a013c-3212-408f-c95a-6ea1cd141c82"
      },
      "execution_count": 54,
      "outputs": [
        {
          "output_type": "stream",
          "name": "stdout",
          "text": [
            "1 번째 Convolutional 레이어 (28, 28, 8)\n"
          ]
        },
        {
          "output_type": "display_data",
          "data": {
            "text/plain": [
              "<Figure size 432x288 with 8 Axes>"
            ],
            "image/png": "[encoded data removed]"
          },
          "metadata": {}
        },
        {
          "output_type": "stream",
          "name": "stdout",
          "text": [
            "2 번째 Convolutional 레이어 (14, 14, 8)\n"
          ]
        },
        {
          "output_type": "display_data",
          "data": {
            "text/plain": [
              "<Figure size 432x288 with 8 Axes>"
            ],
            "image/png": "[encoded data removed]"
          },
          "metadata": {}
        },
        {
          "output_type": "stream",
          "name": "stdout",
          "text": [
            "3 번째 Convolutional 레이어 (7, 7, 3)\n"
          ]
        },
        {
          "output_type": "display_data",
          "data": {
            "text/plain": [
              "<Figure size 432x288 with 3 Axes>"
            ],
            "image/png": "[encoded data removed]"
          },
          "metadata": {}
        },
        {
          "output_type": "stream",
          "name": "stdout",
          "text": [
            "4 번째 Dense 레이어 (147,)\n"
          ]
        },
        {
          "output_type": "display_data",
          "data": {
            "text/plain": [
              "<Figure size 2088x720 with 1 Axes>"
            ],
            "image/png": "[encoded data removed]"
          },
          "metadata": {
            "needs_background": "light"
          }
        },
        {
          "output_type": "stream",
          "name": "stdout",
          "text": [
            "5 번째 Dense 레이어 (10,)\n"
          ]
        },
        {
          "output_type": "display_data",
          "data": {
            "text/plain": [
              "<Figure size 144x720 with 1 Axes>"
            ],
            "image/png": "[encoded data removed]"
          },
          "metadata": {
            "needs_background": "light"
          }
        }
      ]
    }
  ]
}