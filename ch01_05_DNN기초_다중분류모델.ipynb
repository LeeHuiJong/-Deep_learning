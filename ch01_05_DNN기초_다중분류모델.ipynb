{
  "nbformat": 4,
  "nbformat_minor": 0,
  "metadata": {
    "colab": {
      "name": "ch01_05_DNN기초_다중분류모델.ipynb",
      "provenance": [],
      "collapsed_sections": [],
      "machine_shape": "hm",
      "include_colab_link": true
    },
    "kernelspec": {
      "name": "python3",
      "display_name": "Python 3"
    },
    "language_info": {
      "name": "python"
    },
    "accelerator": "GPU",
    "gpuClass": "standard"
  },
  "cells": [
    {
      "cell_type": "markdown",
      "metadata": {
        "id": "view-in-github",
        "colab_type": "text"
      },
      "source": [
        "<a href=\"https://colab.research.google.com/github/LeeHuiJong/-Deep_learning/blob/main/ch01_05_DNN%EA%B8%B0%EC%B4%88_%EB%8B%A4%EC%A4%91%EB%B6%84%EB%A5%98%EB%AA%A8%EB%8D%B8.ipynb\" target=\"_parent\"><img src=\"https://colab.research.google.com/assets/colab-badge.svg\" alt=\"Open In Colab\"/></a>"
      ]
    },
    {
      "cell_type": "markdown",
      "source": [
        "# ch01.05. 딥러닝 다중 분류 모델\n",
        "---\n",
        "* 날짜:\n",
        "* 이름:\n",
        "\n",
        "## 학습내용\n",
        "    - 딥러닝을 이용한 멀티클래스 분류 진행\n",
        "    - 적절한 손실함수와 최적화 함수 정의\n",
        "    - 평가 및 예측\n",
        "    \n",
        "## 학습자료\n",
        "\n",
        "* 모두의딥러닝\n",
        "* 데이터\n",
        "  * `iris.csv`\n",
        "  * MNIST 데이터셋\n",
        "\n",
        "\n",
        "```\n",
        "import numpy as np\n",
        "import pandas as pd\n",
        "import tensorflow as tf\n",
        "import matplotlib.pyplot as plt\n",
        "import seaborn as sns\n",
        "seed=1\n",
        "np.random.seed(seed)\n",
        "tf.random.set_seed(seed)\n",
        "```\n",
        "\n",
        "```\n",
        "https://github.com/yebiny/SkillTreePython-DeepLearning.git\n",
        "```"
      ],
      "metadata": {
        "id": "sWs2kEC1_b-P"
      }
    },
    {
      "cell_type": "code",
      "source": [
        "import numpy as np\n",
        "import pandas as pd\n",
        "import tensorflow as tf\n",
        "import matplotlib.pyplot as plt\n",
        "import seaborn as sns\n",
        "seed=1\n",
        "np.random.seed(seed)\n",
        "tf.random.set_seed(seed)"
      ],
      "metadata": {
        "id": "HJqjPthwgTg-"
      },
      "execution_count": 1,
      "outputs": []
    },
    {
      "cell_type": "code",
      "source": [
        "!git clone https://github.com/LeeHuiJong/-Deep_learning"
      ],
      "metadata": {
        "id": "XiKfkQgYfoIE",
        "colab": {
          "base_uri": "https://localhost:8080/"
        },
        "outputId": "a95f8fd9-ede9-48a3-bd15-74fb54d8859d"
      },
      "execution_count": 2,
      "outputs": [
        {
          "output_type": "stream",
          "name": "stdout",
          "text": [
            "Cloning into '-Deep_learning'...\n",
            "remote: Enumerating objects: 160, done.\u001b[K\n",
            "remote: Counting objects: 100% (55/55), done.\u001b[K\n",
            "remote: Compressing objects: 100% (54/54), done.\u001b[K\n",
            "remote: Total 160 (delta 19), reused 1 (delta 1), pack-reused 105\u001b[K\n",
            "Receiving objects: 100% (160/160), 81.39 MiB | 17.00 MiB/s, done.\n",
            "Resolving deltas: 100% (60/60), done.\n"
          ]
        }
      ]
    },
    {
      "cell_type": "markdown",
      "source": [
        "## 아이리스 꽃 종류 예측\n",
        "---\n",
        "\n",
        "\n",
        "```\n",
        "- 0 sepal_length  꽃받침 길이\n",
        "- 1 sepal_width 꽃받침 너비\n",
        "- 2 petal_length 꽃임 길이\n",
        "- 3 petal_width 꽃잎 너비\n",
        "- 4 species 꽃의 종류 {setosa, versicolor virginica}\n",
        "```\n",
        "<p align='center'>\n",
        "<img src=https://github.com/yebiny/SkillTreePython-DeepLearning/blob/main/imgs/ch0105-01.PNG?raw=true width=550>\n",
        "</p>\n"
      ],
      "metadata": {
        "id": "4wsuH8GzftqZ"
      }
    },
    {
      "cell_type": "code",
      "execution_count": 84,
      "metadata": {
        "id": "68PCrczmzdId",
        "colab": {
          "base_uri": "https://localhost:8080/",
          "height": 424
        },
        "outputId": "59ad92ed-06ab-4aac-f7fc-2a9851116df2"
      },
      "outputs": [
        {
          "output_type": "execute_result",
          "data": {
            "text/plain": [
              "       0    1    2    3               4\n",
              "0    5.1  3.5  1.4  0.2     Iris-setosa\n",
              "1    4.9  3.0  1.4  0.2     Iris-setosa\n",
              "2    4.7  3.2  1.3  0.2     Iris-setosa\n",
              "3    4.6  3.1  1.5  0.2     Iris-setosa\n",
              "4    5.0  3.6  1.4  0.2     Iris-setosa\n",
              "..   ...  ...  ...  ...             ...\n",
              "145  6.7  3.0  5.2  2.3  Iris-virginica\n",
              "146  6.3  2.5  5.0  1.9  Iris-virginica\n",
              "147  6.5  3.0  5.2  2.0  Iris-virginica\n",
              "148  6.2  3.4  5.4  2.3  Iris-virginica\n",
              "149  5.9  3.0  5.1  1.8  Iris-virginica\n",
              "\n",
              "[150 rows x 5 columns]"
            ],
            "text/html": [
              "\n",
              "  <div id=\"df-195ab1e9-eee5-47cd-936e-5c1f210682e1\">\n",
              "    <div class=\"colab-df-container\">\n",
              "      <div>\n",
              "<style scoped>\n",
              "    .dataframe tbody tr th:only-of-type {\n",
              "        vertical-align: middle;\n",
              "    }\n",
              "\n",
              "    .dataframe tbody tr th {\n",
              "        vertical-align: top;\n",
              "    }\n",
              "\n",
              "    .dataframe thead th {\n",
              "        text-align: right;\n",
              "    }\n",
              "</style>\n",
              "<table border=\"1\" class=\"dataframe\">\n",
              "  <thead>\n",
              "    <tr style=\"text-align: right;\">\n",
              "      <th></th>\n",
              "      <th>0</th>\n",
              "      <th>1</th>\n",
              "      <th>2</th>\n",
              "      <th>3</th>\n",
              "      <th>4</th>\n",
              "    </tr>\n",
              "  </thead>\n",
              "  <tbody>\n",
              "    <tr>\n",
              "      <th>0</th>\n",
              "      <td>5.1</td>\n",
              "      <td>3.5</td>\n",
              "      <td>1.4</td>\n",
              "      <td>0.2</td>\n",
              "      <td>Iris-setosa</td>\n",
              "    </tr>\n",
              "    <tr>\n",
              "      <th>1</th>\n",
              "      <td>4.9</td>\n",
              "      <td>3.0</td>\n",
              "      <td>1.4</td>\n",
              "      <td>0.2</td>\n",
              "      <td>Iris-setosa</td>\n",
              "    </tr>\n",
              "    <tr>\n",
              "      <th>2</th>\n",
              "      <td>4.7</td>\n",
              "      <td>3.2</td>\n",
              "      <td>1.3</td>\n",
              "      <td>0.2</td>\n",
              "      <td>Iris-setosa</td>\n",
              "    </tr>\n",
              "    <tr>\n",
              "      <th>3</th>\n",
              "      <td>4.6</td>\n",
              "      <td>3.1</td>\n",
              "      <td>1.5</td>\n",
              "      <td>0.2</td>\n",
              "      <td>Iris-setosa</td>\n",
              "    </tr>\n",
              "    <tr>\n",
              "      <th>4</th>\n",
              "      <td>5.0</td>\n",
              "      <td>3.6</td>\n",
              "      <td>1.4</td>\n",
              "      <td>0.2</td>\n",
              "      <td>Iris-setosa</td>\n",
              "    </tr>\n",
              "    <tr>\n",
              "      <th>...</th>\n",
              "      <td>...</td>\n",
              "      <td>...</td>\n",
              "      <td>...</td>\n",
              "      <td>...</td>\n",
              "      <td>...</td>\n",
              "    </tr>\n",
              "    <tr>\n",
              "      <th>145</th>\n",
              "      <td>6.7</td>\n",
              "      <td>3.0</td>\n",
              "      <td>5.2</td>\n",
              "      <td>2.3</td>\n",
              "      <td>Iris-virginica</td>\n",
              "    </tr>\n",
              "    <tr>\n",
              "      <th>146</th>\n",
              "      <td>6.3</td>\n",
              "      <td>2.5</td>\n",
              "      <td>5.0</td>\n",
              "      <td>1.9</td>\n",
              "      <td>Iris-virginica</td>\n",
              "    </tr>\n",
              "    <tr>\n",
              "      <th>147</th>\n",
              "      <td>6.5</td>\n",
              "      <td>3.0</td>\n",
              "      <td>5.2</td>\n",
              "      <td>2.0</td>\n",
              "      <td>Iris-virginica</td>\n",
              "    </tr>\n",
              "    <tr>\n",
              "      <th>148</th>\n",
              "      <td>6.2</td>\n",
              "      <td>3.4</td>\n",
              "      <td>5.4</td>\n",
              "      <td>2.3</td>\n",
              "      <td>Iris-virginica</td>\n",
              "    </tr>\n",
              "    <tr>\n",
              "      <th>149</th>\n",
              "      <td>5.9</td>\n",
              "      <td>3.0</td>\n",
              "      <td>5.1</td>\n",
              "      <td>1.8</td>\n",
              "      <td>Iris-virginica</td>\n",
              "    </tr>\n",
              "  </tbody>\n",
              "</table>\n",
              "<p>150 rows × 5 columns</p>\n",
              "</div>\n",
              "      <button class=\"colab-df-convert\" onclick=\"convertToInteractive('df-195ab1e9-eee5-47cd-936e-5c1f210682e1')\"\n",
              "              title=\"Convert this dataframe to an interactive table.\"\n",
              "              style=\"display:none;\">\n",
              "        \n",
              "  <svg xmlns=\"http://www.w3.org/2000/svg\" height=\"24px\"viewBox=\"0 0 24 24\"\n",
              "       width=\"24px\">\n",
              "    <path d=\"M0 0h24v24H0V0z\" fill=\"none\"/>\n",
              "    <path d=\"M18.56 5.44l.94 2.06.94-2.06 2.06-.94-2.06-.94-.94-2.06-.94 2.06-2.06.94zm-11 1L8.5 8.5l.94-2.06 2.06-.94-2.06-.94L8.5 2.5l-.94 2.06-2.06.94zm10 10l.94 2.06.94-2.06 2.06-.94-2.06-.94-.94-2.06-.94 2.06-2.06.94z\"/><path d=\"M17.41 7.96l-1.37-1.37c-.4-.4-.92-.59-1.43-.59-.52 0-1.04.2-1.43.59L10.3 9.45l-7.72 7.72c-.78.78-.78 2.05 0 2.83L4 21.41c.39.39.9.59 1.41.59.51 0 1.02-.2 1.41-.59l7.78-7.78 2.81-2.81c.8-.78.8-2.07 0-2.86zM5.41 20L4 18.59l7.72-7.72 1.47 1.35L5.41 20z\"/>\n",
              "  </svg>\n",
              "      </button>\n",
              "      \n",
              "  <style>\n",
              "    .colab-df-container {\n",
              "      display:flex;\n",
              "      flex-wrap:wrap;\n",
              "      gap: 12px;\n",
              "    }\n",
              "\n",
              "    .colab-df-convert {\n",
              "      background-color: #E8F0FE;\n",
              "      border: none;\n",
              "      border-radius: 50%;\n",
              "      cursor: pointer;\n",
              "      display: none;\n",
              "      fill: #1967D2;\n",
              "      height: 32px;\n",
              "      padding: 0 0 0 0;\n",
              "      width: 32px;\n",
              "    }\n",
              "\n",
              "    .colab-df-convert:hover {\n",
              "      background-color: #E2EBFA;\n",
              "      box-shadow: 0px 1px 2px rgba(60, 64, 67, 0.3), 0px 1px 3px 1px rgba(60, 64, 67, 0.15);\n",
              "      fill: #174EA6;\n",
              "    }\n",
              "\n",
              "    [theme=dark] .colab-df-convert {\n",
              "      background-color: #3B4455;\n",
              "      fill: #D2E3FC;\n",
              "    }\n",
              "\n",
              "    [theme=dark] .colab-df-convert:hover {\n",
              "      background-color: #434B5C;\n",
              "      box-shadow: 0px 1px 3px 1px rgba(0, 0, 0, 0.15);\n",
              "      filter: drop-shadow(0px 1px 2px rgba(0, 0, 0, 0.3));\n",
              "      fill: #FFFFFF;\n",
              "    }\n",
              "  </style>\n",
              "\n",
              "      <script>\n",
              "        const buttonEl =\n",
              "          document.querySelector('#df-195ab1e9-eee5-47cd-936e-5c1f210682e1 button.colab-df-convert');\n",
              "        buttonEl.style.display =\n",
              "          google.colab.kernel.accessAllowed ? 'block' : 'none';\n",
              "\n",
              "        async function convertToInteractive(key) {\n",
              "          const element = document.querySelector('#df-195ab1e9-eee5-47cd-936e-5c1f210682e1');\n",
              "          const dataTable =\n",
              "            await google.colab.kernel.invokeFunction('convertToInteractive',\n",
              "                                                     [key], {});\n",
              "          if (!dataTable) return;\n",
              "\n",
              "          const docLinkHtml = 'Like what you see? Visit the ' +\n",
              "            '<a target=\"_blank\" href=https://colab.research.google.com/notebooks/data_table.ipynb>data table notebook</a>'\n",
              "            + ' to learn more about interactive tables.';\n",
              "          element.innerHTML = '';\n",
              "          dataTable['output_type'] = 'display_data';\n",
              "          await google.colab.output.renderOutput(dataTable, element);\n",
              "          const docLink = document.createElement('div');\n",
              "          docLink.innerHTML = docLinkHtml;\n",
              "          element.appendChild(docLink);\n",
              "        }\n",
              "      </script>\n",
              "    </div>\n",
              "  </div>\n",
              "  "
            ]
          },
          "metadata": {},
          "execution_count": 84
        }
      ],
      "source": [
        "data_path = '/content/-Deep_learning/dataset/iris.csv'\n",
        "df = pd.read_csv(data_path, header = None)\n",
        "df"
      ]
    },
    {
      "cell_type": "code",
      "source": [
        "sns.countplot(x = df[4]);plt.title('all dataset')"
      ],
      "metadata": {
        "id": "PoXYFIE9_mTS",
        "colab": {
          "base_uri": "https://localhost:8080/",
          "height": 313
        },
        "outputId": "480fce68-a776-4647-90d6-76204c444c70"
      },
      "execution_count": 9,
      "outputs": [
        {
          "output_type": "execute_result",
          "data": {
            "text/plain": [
              "Text(0.5, 1.0, 'all dataset')"
            ]
          },
          "metadata": {},
          "execution_count": 9
        },
        {
          "output_type": "display_data",
          "data": {
            "text/plain": [
              "<Figure size 432x288 with 1 Axes>"
            ],
            "image/png": "[encoded data removed]"
          },
          "metadata": {
            "needs_background": "light"
          }
        }
      ]
    },
    {
      "cell_type": "code",
      "source": [
        "from sklearn.preprocessing import StandardScaler, OneHotEncoder\n",
        "from sklearn.model_selection import train_test_split\n",
        "\n",
        "def iris_preprocess(df, seed = 1):\n",
        "  # x,y 분할\n",
        "  x = df.values[:, :-1] # (전체샘플, 마지막 변수 전까지)\n",
        "  y = df.values[:, -1] # (전체샘플, 마지막 변수)\n",
        "\n",
        "  # 정규화 (x 데이터만 정규화)\n",
        "  ss = StandardScaler()\n",
        "  x = ss.fit_transform(x)\n",
        "\n",
        "  # 3개이상의 y분류는 원핫인코딩\n",
        "  oh = OneHotEncoder(sparse = False)\n",
        "  y = oh.fit_transform(np.expand_dims(y, 1)) # 인풋이 무조건 행렬 (150, ) -> (150, 1) \n",
        "  print(f'원핫 변환 순서: {oh.categories_}')\n",
        "  \n",
        "  # train-test 분할\n",
        "  x_train, x_test, y_train, y_test = train_test_split(x, y, test_size = 0.3,\n",
        "                                                      random_state = seed,\n",
        "                                                      stratify = y)\n",
        "  return x_train, x_test, y_train, y_test\n",
        "\n",
        "x_train, x_test, y_train, y_test = iris_preprocess(df)\n",
        "print(f'데이터 형태: {x_train.shape}, {x_test.shape}, {y_train.shape}, {y_test.shape}')\n",
        "print(f'첫번째 샘플 x: {x_train[0]} y: {y_train[0]}')"
      ],
      "metadata": {
        "id": "BkDCCMLBgawg",
        "colab": {
          "base_uri": "https://localhost:8080/"
        },
        "outputId": "d5a35909-8236-4bef-8a43-1ca8010e7d5b"
      },
      "execution_count": 85,
      "outputs": [
        {
          "output_type": "stream",
          "name": "stdout",
          "text": [
            "원핫 변환 순서: [array(['Iris-setosa', 'Iris-versicolor', 'Iris-virginica'], dtype=object)]\n",
            "데이터 형태: (105, 4), (45, 4), (105, 3), (45, 3)\n",
            "첫번째 샘플 x: [ 0.55333328 -0.58776353  0.76275864  0.39617188] y: [0. 0. 1.]\n"
          ]
        }
      ]
    },
    {
      "cell_type": "markdown",
      "source": [
        "* 예측값 분포 확인"
      ],
      "metadata": {
        "id": "87SJwUDWglBP"
      }
    },
    {
      "cell_type": "code",
      "source": [
        "plt.subplot(121);sns.countplot(x = np.argmax(y_train, axis = 1));plt.title('train dataset')\n",
        "plt.subplot(121);sns.countplot(x = np.argmax(y_test, axis = 1));plt.title('test dataset')"
      ],
      "metadata": {
        "id": "hLNYhitOgf0o",
        "colab": {
          "base_uri": "https://localhost:8080/",
          "height": 356
        },
        "outputId": "532b23e8-9ea9-49ef-fdd0-374d254855d0"
      },
      "execution_count": 86,
      "outputs": [
        {
          "output_type": "stream",
          "name": "stderr",
          "text": [
            "/usr/local/lib/python3.7/dist-packages/ipykernel_launcher.py:2: MatplotlibDeprecationWarning: Adding an axes using the same arguments as a previous axes currently reuses the earlier instance.  In a future version, a new instance will always be created and returned.  Meanwhile, this warning can be suppressed, and the future behavior ensured, by passing a unique label to each axes instance.\n",
            "  \n"
          ]
        },
        {
          "output_type": "execute_result",
          "data": {
            "text/plain": [
              "Text(0.5, 1.0, 'test dataset')"
            ]
          },
          "metadata": {},
          "execution_count": 86
        },
        {
          "output_type": "display_data",
          "data": {
            "text/plain": [
              "<Figure size 432x288 with 1 Axes>"
            ],
            "image/png": "[encoded data removed]"
          },
          "metadata": {
            "needs_background": "light"
          }
        }
      ]
    },
    {
      "cell_type": "markdown",
      "source": [
        "### | 모델\n",
        "\n",
        "\n",
        "<p align='center'>\n",
        "<img src=https://github.com/yebiny/SkillTreePython-DeepLearning/blob/main/imgs/ch0105-02.PNG?raw=true width=800>\n",
        "</p>\n"
      ],
      "metadata": {
        "id": "DHshtWB9r0be"
      }
    },
    {
      "cell_type": "markdown",
      "source": [
        "#### **모델 생성**"
      ],
      "metadata": {
        "id": "J94jFpWyr2k9"
      }
    },
    {
      "cell_type": "code",
      "source": [
        "from tensorflow.keras import models, layers, utils\n",
        "\n",
        "def build_model():\n",
        "  x = layers.Input(shape = (4,))\n",
        "  z = layers.Dense(12, activation = 'relu')(x)\n",
        "  z = layers.Dense(8, activation = 'relu')(z)\n",
        "  y = layers.Dense(3, activation = 'softmax')(z) \n",
        "  model = models.Model(x, y, name='iris_clasification')\n",
        "\n",
        "  return model"
      ],
      "metadata": {
        "id": "5BZG1z90rsGc"
      },
      "execution_count": 87,
      "outputs": []
    },
    {
      "cell_type": "markdown",
      "source": [
        "#### **모델 시각화**\n",
        "\n",
        "* `model.summary()`\n",
        "* `utils.plot_model()`"
      ],
      "metadata": {
        "id": "1yqXLbEyx5QK"
      }
    },
    {
      "cell_type": "code",
      "source": [
        "model = build_model()\n",
        "model.summary()\n",
        "utils.plot_model(model, show_shapes = True)"
      ],
      "metadata": {
        "id": "dKCT38Fsr6dF",
        "colab": {
          "base_uri": "https://localhost:8080/",
          "height": 734
        },
        "outputId": "e854e1cc-776f-43cd-bf93-c4131949d471"
      },
      "execution_count": 88,
      "outputs": [
        {
          "output_type": "stream",
          "name": "stdout",
          "text": [
            "Model: \"iris_clasification\"\n",
            "_________________________________________________________________\n",
            " Layer (type)                Output Shape              Param #   \n",
            "=================================================================\n",
            " input_9 (InputLayer)        [(None, 4)]               0         \n",
            "                                                                 \n",
            " dense_24 (Dense)            (None, 12)                60        \n",
            "                                                                 \n",
            " dense_25 (Dense)            (None, 8)                 104       \n",
            "                                                                 \n",
            " dense_26 (Dense)            (None, 3)                 27        \n",
            "                                                                 \n",
            "=================================================================\n",
            "Total params: 191\n",
            "Trainable params: 191\n",
            "Non-trainable params: 0\n",
            "_________________________________________________________________\n"
          ]
        },
        {
          "output_type": "execute_result",
          "data": {
            "text/plain": [
              "<IPython.core.display.Image object>"
            ],
            "image/png": "[encoded data removed]"
          },
          "metadata": {},
          "execution_count": 88
        }
      ]
    },
    {
      "cell_type": "markdown",
      "source": [
        "### | 학습"
      ],
      "metadata": {
        "id": "gLuvsUFmwzPa"
      }
    },
    {
      "cell_type": "markdown",
      "source": [
        "#### **모델 컴파일**\n",
        "\n",
        "```\n",
        "model.compile(loss, optimizer, metrics) \n",
        "```\n",
        "* `loss` : 다중분류 문제, 'categorical_crossentropy'\n",
        "* `optimizer` : 문제와 상관없음. 'adam'\n",
        "* `metrics`: accuracy\n"
      ],
      "metadata": {
        "id": "fwQboNHp3EHe"
      }
    },
    {
      "cell_type": "code",
      "source": [
        "model.compile(loss = 'categorical_crossentropy',\n",
        "              optimizer = 'adam',\n",
        "              metrics = ['accuracy'])"
      ],
      "metadata": {
        "id": "SASPIskxgfRY"
      },
      "execution_count": 26,
      "outputs": []
    },
    {
      "cell_type": "markdown",
      "source": [
        "#### **학습**\n",
        "\n",
        "```\n",
        "model.fit(x_train, y_train, epochs, batch_size)\n",
        "```\n",
        "* `x_train` : 넘파이 혹은 텐서 형식의 인풋 데이터\n",
        "* `y_train` : 넘파이 혹은 텐서 형식의 아웃풋 데이터\n",
        "* `epochs` : 학습 횟수\n",
        "* `batch_size` : 배치 사이즈 ((업데이트 한번에 사용될 샘플 개수)"
      ],
      "metadata": {
        "id": "JukUpWB4gfRY"
      }
    },
    {
      "cell_type": "code",
      "source": [
        "model.fit(x_train, y_train, epochs = 100, batch_size = 8)"
      ],
      "metadata": {
        "id": "9bgbpUhogfRY"
      },
      "execution_count": null,
      "outputs": []
    },
    {
      "cell_type": "markdown",
      "source": [
        "### | 검증 및 예측\n"
      ],
      "metadata": {
        "id": "DyFOnqyNw5_q"
      }
    },
    {
      "cell_type": "markdown",
      "source": [
        "#### **검증**\n",
        "\n",
        "```\n",
        "model.evaluate(x_test, y_test)\n",
        "```\n",
        "* `x_test` : 넘파이 혹은 텐서 형식의 인풋 테스트 데이터\n",
        "* `y_test` : 넘파이 혹은 텐서 형식의 아웃풋 테스트 데이터"
      ],
      "metadata": {
        "id": "qlalKZ-a04c3"
      }
    },
    {
      "cell_type": "code",
      "source": [
        "model.evaluate(x_test, y_test)"
      ],
      "metadata": {
        "id": "uHGyMlf60zng",
        "colab": {
          "base_uri": "https://localhost:8080/"
        },
        "outputId": "580cff29-3fcc-4e8f-e93f-ad4ab9e52a05"
      },
      "execution_count": 29,
      "outputs": [
        {
          "output_type": "stream",
          "name": "stdout",
          "text": [
            "2/2 [==============================] - 0s 8ms/step - loss: 0.1052 - accuracy: 0.9778\n"
          ]
        },
        {
          "output_type": "execute_result",
          "data": {
            "text/plain": [
              "[0.10521200299263, 0.9777777791023254]"
            ]
          },
          "metadata": {},
          "execution_count": 29
        }
      ]
    },
    {
      "cell_type": "markdown",
      "source": [
        "#### **예측**\n",
        "\n",
        "```\n",
        "model.predict(x_test)\n",
        "```\n",
        "* `x_test` : 넘파이 혹은 텐서 형식의 인풋 테스트 데이터\n",
        "* `y_test` : 넘파이 혹은 텐서 형식의 아웃풋 테스트 데이터"
      ],
      "metadata": {
        "id": "BITPUIOj07Uv"
      }
    },
    {
      "cell_type": "code",
      "source": [
        "y_pred = model.predict(x_test)\n",
        "print(y_test.shape, y_pred.shape)\n",
        "print(y_test[0], y_pred[0])\n",
        "# 원핫 인코딩 -> 라벨\n",
        "y_pred = np.argmax(y_pred, axis = 1)\n",
        "y_test = np.argmax(y_test, axis = 1)\n",
        "print(y_test.shape, y_pred.shape)\n",
        "print(y_test[0], y_pred[0])"
      ],
      "metadata": {
        "id": "KfDHL4PRv8YD",
        "colab": {
          "base_uri": "https://localhost:8080/"
        },
        "outputId": "8ba2b6bc-7fb3-4946-b75a-df5daa4b4644"
      },
      "execution_count": 31,
      "outputs": [
        {
          "output_type": "stream",
          "name": "stdout",
          "text": [
            "(45, 3) (45, 3)\n",
            "[1. 0. 0.] [9.9977273e-01 2.2718302e-04 1.2569585e-07]\n",
            "(45,) (45,)\n",
            "0 0\n"
          ]
        }
      ]
    },
    {
      "cell_type": "markdown",
      "source": [
        "* 예측 시각화"
      ],
      "metadata": {
        "id": "gThN4RCR0_HI"
      }
    },
    {
      "cell_type": "code",
      "source": [
        "from sklearn.metrics import confusion_matrix, ConfusionMatrixDisplay\n",
        "\n",
        "cm = confusion_matrix(y_test, y_pred)\n",
        "#print(cm)\n",
        "ConfusionMatrixDisplay(cm).plot(cmap = 'Blues')"
      ],
      "metadata": {
        "id": "TG533VyLwDaK",
        "colab": {
          "base_uri": "https://localhost:8080/",
          "height": 297
        },
        "outputId": "6196e608-979d-41ae-cf81-aa3f7f2440dd"
      },
      "execution_count": 35,
      "outputs": [
        {
          "output_type": "execute_result",
          "data": {
            "text/plain": [
              "<sklearn.metrics._plot.confusion_matrix.ConfusionMatrixDisplay at 0x7eff967e03d0>"
            ]
          },
          "metadata": {},
          "execution_count": 35
        },
        {
          "output_type": "display_data",
          "data": {
            "text/plain": [
              "<Figure size 432x288 with 2 Axes>"
            ],
            "image/png": "[encoded data removed]"
          },
          "metadata": {
            "needs_background": "light"
          }
        }
      ]
    },
    {
      "cell_type": "markdown",
      "source": [
        "## 과제\n",
        "---"
      ],
      "metadata": {
        "id": "ZFrRTgcyipYg"
      }
    },
    {
      "cell_type": "markdown",
      "source": [
        "### | 과제1. 다중분류 문제 정리\n",
        "\n",
        "* 예측값의 범위 : 0~1 사이 모든 분류된 예측값들을 더하면 1이 된다.\n",
        "* 예측값의 shape : (샘플개수,), or (샘플개수,3)\n",
        "* 아웃풋 레이어의 노드 개수 : 3\n",
        "* 아웃풋 레이어의 activation : 'softmax', 이중분류면 sigmoid를 사용함\n",
        "* 손실함수 (loss) : 'categorical_corssentropy'\n",
        "* 평가함수 (metrics) : 'accuracy'"
      ],
      "metadata": {
        "id": "xjnJSLgXK_Pp"
      }
    },
    {
      "cell_type": "markdown",
      "source": [
        "### | 과제2. 한 셀에 코드 정리하기\n",
        "\n",
        "* 추가 연습\n",
        "  * 모델의 깊이(depth)를 늘려가며 학습해 보세요.\n",
        "  * 모델의 너비(width)를 늘려가며 학습해 보세요."
      ],
      "metadata": {
        "id": "ZvFAB78P1B_Q"
      }
    },
    {
      "cell_type": "code",
      "source": [
        "data_path = '/content/-Deep_learning/dataset/iris.csv'\n",
        "df = pd.read_csv(data_path, header = None)"
      ],
      "metadata": {
        "id": "upL5GI9mBmJX"
      },
      "execution_count": 89,
      "outputs": []
    },
    {
      "cell_type": "code",
      "source": [
        "# 필요 라이브러리 추출\n",
        "\n",
        "from sklearn.preprocessing import StandardScaler, OneHotEncoder\n",
        "from sklearn.model_selection import train_test_split\n",
        "from tensorflow.keras import models, layers, utils\n",
        "from sklearn.metrics import confusion_matrix, ConfusionMatrixDisplay\n",
        "\n",
        "# 데이터 전처리 과정\n",
        "def iris_preprocess(df, seed = 1):\n",
        "  # x,y 분할\n",
        "  x = df.values[:, :-1] # (전체샘플, 마지막 변수 전까지)\n",
        "  y = df.values[:, -1] # (전체샘플, 마지막 변수)\n",
        "\n",
        "  # 정규화 (x 데이터만 정규화)\n",
        "  ss = StandardScaler()\n",
        "  x = ss.fit_transform(x)\n",
        "\n",
        "  # 3개이상의 y분류는 원핫인코딩\n",
        "  oh = OneHotEncoder(sparse = False)\n",
        "  y = oh.fit_transform(np.expand_dims(y, 1)) # 인풋이 무조건 행렬 (150, ) -> (150, 1) \n",
        "  print(f'원핫 변환 순서: {oh.categories_}')\n",
        "  \n",
        "  # train-test 분할\n",
        "  x_train, x_test, y_train, y_test = train_test_split(x, y, test_size = 0.3,\n",
        "                                                      random_state = seed,\n",
        "                                                      stratify = y)\n",
        "  return x_train, x_test, y_train, y_test\n",
        "\n",
        "x_train, x_test, y_train, y_test = iris_preprocess(df)\n",
        "# print(f'데이터 형태: {x_train.shape}, {x_test.shape}, {y_train.shape}, {y_test.shape}')\n",
        "# print(f'첫번째 샘플 x: {x_train[0]} y: {y_train[0]}')\n",
        "\n",
        "# 모델 생성\n",
        "\n",
        "def build_model():\n",
        "  x = layers.Input(shape = (4,))\n",
        "  z = layers.Dense(20, activation = 'relu')(x)\n",
        "  z = layers.Dense(15, activation = 'relu')(z)\n",
        "  y = layers.Dense(3, activation = 'softmax')(z) \n",
        "  model = models.Model(x, y, name='iris_clasification')\n",
        "\n",
        "  return model\n",
        "\n",
        "# 모델 컴파일 \n",
        "\n",
        "model.compile(loss = 'categorical_crossentropy',\n",
        "              optimizer = 'adam',\n",
        "              metrics = ['accuracy'])\n",
        "\n",
        "# 학습 및 검증\n",
        "\n",
        "model.fit(x_train, y_train, epochs = 100, batch_size = 8)\n",
        "model.evaluate(x_test, y_test)\n",
        "\n",
        "# 예측\n",
        "# 원핫 인코딩 -> 라벨\n",
        "y_pred = model.predict(x_test)\n",
        "y_pred = np.argmax(y_pred, axis = 1)\n",
        "y_test = np.argmax(y_test, axis = 1)\n",
        "\n",
        "# 결과 시각화\n",
        "\n",
        "cm = confusion_matrix(y_test, y_pred)\n",
        "ConfusionMatrixDisplay(cm).plot(cmap = 'Blues')"
      ],
      "metadata": {
        "id": "v5WYSd9a1Cz4",
        "colab": {
          "base_uri": "https://localhost:8080/",
          "height": 1000
        },
        "outputId": "ec8fda66-418d-4ea9-a343-8f02322abb13"
      },
      "execution_count": 90,
      "outputs": [
        {
          "output_type": "stream",
          "name": "stdout",
          "text": [
            "원핫 변환 순서: [array(['Iris-setosa', 'Iris-versicolor', 'Iris-virginica'], dtype=object)]\n",
            "Epoch 1/100\n",
            "14/14 [==============================] - 0s 3ms/step - loss: 0.9182 - accuracy: 0.6286\n",
            "Epoch 2/100\n",
            "14/14 [==============================] - 0s 3ms/step - loss: 0.8797 - accuracy: 0.7905\n",
            "Epoch 3/100\n",
            "14/14 [==============================] - 0s 3ms/step - loss: 0.8415 - accuracy: 0.7810\n",
            "Epoch 4/100\n",
            "14/14 [==============================] - 0s 3ms/step - loss: 0.8054 - accuracy: 0.7714\n",
            "Epoch 5/100\n",
            "14/14 [==============================] - 0s 3ms/step - loss: 0.7704 - accuracy: 0.7333\n",
            "Epoch 6/100\n",
            "14/14 [==============================] - 0s 3ms/step - loss: 0.7359 - accuracy: 0.7143\n",
            "Epoch 7/100\n",
            "14/14 [==============================] - 0s 3ms/step - loss: 0.7026 - accuracy: 0.6476\n",
            "Epoch 8/100\n",
            "14/14 [==============================] - 0s 3ms/step - loss: 0.6715 - accuracy: 0.6476\n",
            "Epoch 9/100\n",
            "14/14 [==============================] - 0s 3ms/step - loss: 0.6427 - accuracy: 0.6476\n",
            "Epoch 10/100\n",
            "14/14 [==============================] - 0s 3ms/step - loss: 0.6164 - accuracy: 0.6571\n",
            "Epoch 11/100\n",
            "14/14 [==============================] - 0s 3ms/step - loss: 0.5904 - accuracy: 0.6571\n",
            "Epoch 12/100\n",
            "14/14 [==============================] - 0s 3ms/step - loss: 0.5675 - accuracy: 0.6571\n",
            "Epoch 13/100\n",
            "14/14 [==============================] - 0s 3ms/step - loss: 0.5450 - accuracy: 0.6476\n",
            "Epoch 14/100\n",
            "14/14 [==============================] - 0s 2ms/step - loss: 0.5244 - accuracy: 0.7905\n",
            "Epoch 15/100\n",
            "14/14 [==============================] - 0s 3ms/step - loss: 0.5011 - accuracy: 0.8571\n",
            "Epoch 16/100\n",
            "14/14 [==============================] - 0s 3ms/step - loss: 0.4796 - accuracy: 0.8571\n",
            "Epoch 17/100\n",
            "14/14 [==============================] - 0s 3ms/step - loss: 0.4598 - accuracy: 0.8667\n",
            "Epoch 18/100\n",
            "14/14 [==============================] - 0s 3ms/step - loss: 0.4399 - accuracy: 0.8667\n",
            "Epoch 19/100\n",
            "14/14 [==============================] - 0s 3ms/step - loss: 0.4197 - accuracy: 0.8476\n",
            "Epoch 20/100\n",
            "14/14 [==============================] - 0s 3ms/step - loss: 0.3983 - accuracy: 0.8476\n",
            "Epoch 21/100\n",
            "14/14 [==============================] - 0s 3ms/step - loss: 0.3818 - accuracy: 0.8571\n",
            "Epoch 22/100\n",
            "14/14 [==============================] - 0s 3ms/step - loss: 0.3654 - accuracy: 0.8476\n",
            "Epoch 23/100\n",
            "14/14 [==============================] - 0s 3ms/step - loss: 0.3504 - accuracy: 0.8476\n",
            "Epoch 24/100\n",
            "14/14 [==============================] - 0s 3ms/step - loss: 0.3386 - accuracy: 0.8476\n",
            "Epoch 25/100\n",
            "14/14 [==============================] - 0s 3ms/step - loss: 0.3261 - accuracy: 0.8476\n",
            "Epoch 26/100\n",
            "14/14 [==============================] - 0s 3ms/step - loss: 0.3158 - accuracy: 0.8667\n",
            "Epoch 27/100\n",
            "14/14 [==============================] - 0s 3ms/step - loss: 0.3076 - accuracy: 0.8857\n",
            "Epoch 28/100\n",
            "14/14 [==============================] - 0s 3ms/step - loss: 0.2983 - accuracy: 0.8762\n",
            "Epoch 29/100\n",
            "14/14 [==============================] - 0s 3ms/step - loss: 0.2899 - accuracy: 0.8571\n",
            "Epoch 30/100\n",
            "14/14 [==============================] - 0s 3ms/step - loss: 0.2816 - accuracy: 0.8667\n",
            "Epoch 31/100\n",
            "14/14 [==============================] - 0s 3ms/step - loss: 0.2749 - accuracy: 0.8667\n",
            "Epoch 32/100\n",
            "14/14 [==============================] - 0s 3ms/step - loss: 0.2700 - accuracy: 0.8762\n",
            "Epoch 33/100\n",
            "14/14 [==============================] - 0s 3ms/step - loss: 0.2635 - accuracy: 0.8762\n",
            "Epoch 34/100\n",
            "14/14 [==============================] - 0s 3ms/step - loss: 0.2578 - accuracy: 0.8857\n",
            "Epoch 35/100\n",
            "14/14 [==============================] - 0s 3ms/step - loss: 0.2525 - accuracy: 0.8857\n",
            "Epoch 36/100\n",
            "14/14 [==============================] - 0s 3ms/step - loss: 0.2472 - accuracy: 0.8857\n",
            "Epoch 37/100\n",
            "14/14 [==============================] - 0s 3ms/step - loss: 0.2440 - accuracy: 0.8762\n",
            "Epoch 38/100\n",
            "14/14 [==============================] - 0s 3ms/step - loss: 0.2390 - accuracy: 0.8762\n",
            "Epoch 39/100\n",
            "14/14 [==============================] - 0s 3ms/step - loss: 0.2334 - accuracy: 0.9048\n",
            "Epoch 40/100\n",
            "14/14 [==============================] - 0s 3ms/step - loss: 0.2309 - accuracy: 0.9238\n",
            "Epoch 41/100\n",
            "14/14 [==============================] - 0s 3ms/step - loss: 0.2271 - accuracy: 0.9143\n",
            "Epoch 42/100\n",
            "14/14 [==============================] - 0s 3ms/step - loss: 0.2227 - accuracy: 0.8857\n",
            "Epoch 43/100\n",
            "14/14 [==============================] - 0s 3ms/step - loss: 0.2197 - accuracy: 0.8857\n",
            "Epoch 44/100\n",
            "14/14 [==============================] - 0s 3ms/step - loss: 0.2159 - accuracy: 0.8857\n",
            "Epoch 45/100\n",
            "14/14 [==============================] - 0s 3ms/step - loss: 0.2121 - accuracy: 0.9048\n",
            "Epoch 46/100\n",
            "14/14 [==============================] - 0s 3ms/step - loss: 0.2069 - accuracy: 0.9048\n",
            "Epoch 47/100\n",
            "14/14 [==============================] - 0s 3ms/step - loss: 0.2032 - accuracy: 0.9238\n",
            "Epoch 48/100\n",
            "14/14 [==============================] - 0s 3ms/step - loss: 0.1985 - accuracy: 0.9238\n",
            "Epoch 49/100\n",
            "14/14 [==============================] - 0s 3ms/step - loss: 0.1927 - accuracy: 0.9333\n",
            "Epoch 50/100\n",
            "14/14 [==============================] - 0s 3ms/step - loss: 0.1879 - accuracy: 0.9429\n",
            "Epoch 51/100\n",
            "14/14 [==============================] - 0s 3ms/step - loss: 0.1850 - accuracy: 0.9429\n",
            "Epoch 52/100\n",
            "14/14 [==============================] - 0s 3ms/step - loss: 0.1819 - accuracy: 0.9429\n",
            "Epoch 53/100\n",
            "14/14 [==============================] - 0s 3ms/step - loss: 0.1777 - accuracy: 0.9429\n",
            "Epoch 54/100\n",
            "14/14 [==============================] - 0s 3ms/step - loss: 0.1744 - accuracy: 0.9429\n",
            "Epoch 55/100\n",
            "14/14 [==============================] - 0s 3ms/step - loss: 0.1714 - accuracy: 0.9524\n",
            "Epoch 56/100\n",
            "14/14 [==============================] - 0s 3ms/step - loss: 0.1678 - accuracy: 0.9524\n",
            "Epoch 57/100\n",
            "14/14 [==============================] - 0s 3ms/step - loss: 0.1640 - accuracy: 0.9524\n",
            "Epoch 58/100\n",
            "14/14 [==============================] - 0s 3ms/step - loss: 0.1611 - accuracy: 0.9524\n",
            "Epoch 59/100\n",
            "14/14 [==============================] - 0s 3ms/step - loss: 0.1582 - accuracy: 0.9524\n",
            "Epoch 60/100\n",
            "14/14 [==============================] - 0s 3ms/step - loss: 0.1565 - accuracy: 0.9429\n",
            "Epoch 61/100\n",
            "14/14 [==============================] - 0s 3ms/step - loss: 0.1501 - accuracy: 0.9619\n",
            "Epoch 62/100\n",
            "14/14 [==============================] - 0s 3ms/step - loss: 0.1497 - accuracy: 0.9619\n",
            "Epoch 63/100\n",
            "14/14 [==============================] - 0s 3ms/step - loss: 0.1461 - accuracy: 0.9619\n",
            "Epoch 64/100\n",
            "14/14 [==============================] - 0s 3ms/step - loss: 0.1440 - accuracy: 0.9619\n",
            "Epoch 65/100\n",
            "14/14 [==============================] - 0s 3ms/step - loss: 0.1407 - accuracy: 0.9714\n",
            "Epoch 66/100\n",
            "14/14 [==============================] - 0s 3ms/step - loss: 0.1388 - accuracy: 0.9714\n",
            "Epoch 67/100\n",
            "14/14 [==============================] - 0s 3ms/step - loss: 0.1369 - accuracy: 0.9714\n",
            "Epoch 68/100\n",
            "14/14 [==============================] - 0s 3ms/step - loss: 0.1336 - accuracy: 0.9714\n",
            "Epoch 69/100\n",
            "14/14 [==============================] - 0s 3ms/step - loss: 0.1315 - accuracy: 0.9714\n",
            "Epoch 70/100\n",
            "14/14 [==============================] - 0s 3ms/step - loss: 0.1295 - accuracy: 0.9714\n",
            "Epoch 71/100\n",
            "14/14 [==============================] - 0s 3ms/step - loss: 0.1267 - accuracy: 0.9714\n",
            "Epoch 72/100\n",
            "14/14 [==============================] - 0s 3ms/step - loss: 0.1257 - accuracy: 0.9714\n",
            "Epoch 73/100\n",
            "14/14 [==============================] - 0s 3ms/step - loss: 0.1236 - accuracy: 0.9714\n",
            "Epoch 74/100\n",
            "14/14 [==============================] - 0s 3ms/step - loss: 0.1195 - accuracy: 0.9714\n",
            "Epoch 75/100\n",
            "14/14 [==============================] - 0s 3ms/step - loss: 0.1176 - accuracy: 0.9714\n",
            "Epoch 76/100\n",
            "14/14 [==============================] - 0s 3ms/step - loss: 0.1158 - accuracy: 0.9714\n",
            "Epoch 77/100\n",
            "14/14 [==============================] - 0s 2ms/step - loss: 0.1134 - accuracy: 0.9714\n",
            "Epoch 78/100\n",
            "14/14 [==============================] - 0s 3ms/step - loss: 0.1120 - accuracy: 0.9714\n",
            "Epoch 79/100\n",
            "14/14 [==============================] - 0s 3ms/step - loss: 0.1115 - accuracy: 0.9524\n",
            "Epoch 80/100\n",
            "14/14 [==============================] - 0s 3ms/step - loss: 0.1106 - accuracy: 0.9619\n",
            "Epoch 81/100\n",
            "14/14 [==============================] - 0s 3ms/step - loss: 0.1047 - accuracy: 0.9619\n",
            "Epoch 82/100\n",
            "14/14 [==============================] - 0s 3ms/step - loss: 0.1019 - accuracy: 0.9619\n",
            "Epoch 83/100\n",
            "14/14 [==============================] - 0s 3ms/step - loss: 0.1002 - accuracy: 0.9619\n",
            "Epoch 84/100\n",
            "14/14 [==============================] - 0s 3ms/step - loss: 0.0984 - accuracy: 0.9619\n",
            "Epoch 85/100\n",
            "14/14 [==============================] - 0s 3ms/step - loss: 0.0996 - accuracy: 0.9524\n",
            "Epoch 86/100\n",
            "14/14 [==============================] - 0s 3ms/step - loss: 0.0955 - accuracy: 0.9714\n",
            "Epoch 87/100\n",
            "14/14 [==============================] - 0s 3ms/step - loss: 0.0931 - accuracy: 0.9619\n",
            "Epoch 88/100\n",
            "14/14 [==============================] - 0s 3ms/step - loss: 0.0922 - accuracy: 0.9619\n",
            "Epoch 89/100\n",
            "14/14 [==============================] - 0s 3ms/step - loss: 0.0910 - accuracy: 0.9619\n",
            "Epoch 90/100\n",
            "14/14 [==============================] - 0s 3ms/step - loss: 0.0909 - accuracy: 0.9619\n",
            "Epoch 91/100\n",
            "14/14 [==============================] - 0s 3ms/step - loss: 0.0886 - accuracy: 0.9619\n",
            "Epoch 92/100\n",
            "14/14 [==============================] - 0s 3ms/step - loss: 0.0895 - accuracy: 0.9619\n",
            "Epoch 93/100\n",
            "14/14 [==============================] - 0s 3ms/step - loss: 0.0882 - accuracy: 0.9619\n",
            "Epoch 94/100\n",
            "14/14 [==============================] - 0s 3ms/step - loss: 0.0864 - accuracy: 0.9619\n",
            "Epoch 95/100\n",
            "14/14 [==============================] - 0s 3ms/step - loss: 0.0852 - accuracy: 0.9619\n",
            "Epoch 96/100\n",
            "14/14 [==============================] - 0s 3ms/step - loss: 0.0854 - accuracy: 0.9619\n",
            "Epoch 97/100\n",
            "14/14 [==============================] - 0s 3ms/step - loss: 0.0873 - accuracy: 0.9714\n",
            "Epoch 98/100\n",
            "14/14 [==============================] - 0s 3ms/step - loss: 0.0859 - accuracy: 0.9714\n",
            "Epoch 99/100\n",
            "14/14 [==============================] - 0s 3ms/step - loss: 0.0849 - accuracy: 0.9619\n",
            "Epoch 100/100\n",
            "14/14 [==============================] - 0s 3ms/step - loss: 0.0823 - accuracy: 0.9619\n",
            "2/2 [==============================] - 0s 8ms/step - loss: 0.2354 - accuracy: 0.9333\n"
          ]
        },
        {
          "output_type": "execute_result",
          "data": {
            "text/plain": [
              "<sklearn.metrics._plot.confusion_matrix.ConfusionMatrixDisplay at 0x7eff7e381e90>"
            ]
          },
          "metadata": {},
          "execution_count": 90
        },
        {
          "output_type": "display_data",
          "data": {
            "text/plain": [
              "<Figure size 432x288 with 2 Axes>"
            ],
            "image/png": "[encoded data removed]"
          },
          "metadata": {
            "needs_background": "light"
          }
        }
      ]
    },
    {
      "cell_type": "markdown",
      "source": [
        "### | 과제 3. MNIST 숫자 데이터 분류\n",
        "\n",
        "```\n",
        "mnist = tf.keras.datasets.mnist\n",
        "(x_train, y_train), (x_test, y_test) = mnist.load_data()\n",
        "print(x_train.shape, y_train.shape, x_test.shape, y_test.shape)\n",
        "```"
      ],
      "metadata": {
        "id": "2K0mAdPzjOAf"
      }
    },
    {
      "cell_type": "code",
      "source": [
        "mnist = tf.keras.datasets.mnist\n",
        "(x_train, y_train), (x_test, y_test) = mnist.load_data()\n",
        "\n",
        "# 정규화 (x)\n",
        "x_train = x_train/255.0 # (0~1)\n",
        "x_test = x_test/255.0\n",
        "\n",
        "# 원핫 (y)\n",
        "oh = OneHotEncoder(sparse = False)\n",
        "y_train = oh.fit_transform(np.expand_dims(y_train, 1))\n",
        "y_test = oh.fit_transform(np.expand_dims(y_test, 1))\n",
        "\n",
        "print(x_train.shape, y_train.shape, x_test.shape, y_test.shape)"
      ],
      "metadata": {
        "id": "aMfhH4ojun0G",
        "colab": {
          "base_uri": "https://localhost:8080/"
        },
        "outputId": "ee1dd32f-424c-466e-ea17-22d75f5cfabb"
      },
      "execution_count": 92,
      "outputs": [
        {
          "output_type": "stream",
          "name": "stdout",
          "text": [
            "(60000, 28, 28) (60000, 10) (10000, 28, 28) (10000, 10)\n"
          ]
        }
      ]
    },
    {
      "cell_type": "markdown",
      "source": [
        "* 데이터 시각화"
      ],
      "metadata": {
        "id": "EOskN_eSMJNL"
      }
    },
    {
      "cell_type": "code",
      "source": [
        "for i in range(15):\n",
        "  plt.subplot(3,5,i+1)\n",
        "  plt.imshow(x_train[i], cmap ='gray')"
      ],
      "metadata": {
        "id": "oYaA4aLuv7F4",
        "colab": {
          "base_uri": "https://localhost:8080/",
          "height": 262
        },
        "outputId": "3109b343-6fff-4a1e-d96d-7d0f621186f3"
      },
      "execution_count": 93,
      "outputs": [
        {
          "output_type": "display_data",
          "data": {
            "text/plain": [
              "<Figure size 432x288 with 15 Axes>"
            ],
            "image/png": "[encoded data removed]"
          },
          "metadata": {
            "needs_background": "light"
          }
        }
      ]
    },
    {
      "cell_type": "markdown",
      "source": [
        "### | 모델\n",
        "\n",
        "\n",
        "<p align='center'>\n",
        "<img src=https://github.com/yebiny/SkillTreePython-DeepLearning/blob/main/imgs/ch0105-03.PNG?raw=true width=500>\n",
        "</p>\n"
      ],
      "metadata": {
        "id": "po1mICbWv48p"
      }
    },
    {
      "cell_type": "markdown",
      "source": [
        "#### **모델 생성**"
      ],
      "metadata": {
        "id": "C_gpuC1Ev48p"
      }
    },
    {
      "cell_type": "code",
      "source": [
        "from tensorflow.keras import models, layers, utils\n",
        "\n",
        "def build_mnistmodel():\n",
        "  x = layers.Input(shape = (28, 28))\n",
        "  z = layers.Flatten()(x)\n",
        "  # 중간층\n",
        "  z = layers.Dense(600, activation = 'relu')(z)\n",
        "  z = layers.Dense(400, activation = 'relu')(z)\n",
        "  \n",
        "  y = layers.Dense(10, activation = 'softmax')(z)\n",
        "\n",
        "  model = models.Model(x, y, name='mnist_classification')\n",
        "\n",
        "\n",
        "  return model"
      ],
      "metadata": {
        "id": "bDFZF-9Jv48q"
      },
      "execution_count": 94,
      "outputs": []
    },
    {
      "cell_type": "markdown",
      "source": [
        "#### **모델 시각화**\n",
        "\n",
        "* `model.summary()`\n",
        "* `utils.plot_model()`"
      ],
      "metadata": {
        "id": "nopDIQEiv48q"
      }
    },
    {
      "cell_type": "code",
      "source": [
        "model = build_mnistmodel()\n",
        "model.summary()\n",
        "utils.plot_model(model, show_shapes = True)"
      ],
      "metadata": {
        "id": "rXzVjMLpv48q",
        "colab": {
          "base_uri": "https://localhost:8080/",
          "height": 882
        },
        "outputId": "62f843f1-7e72-429b-e429-788ad67dbe17"
      },
      "execution_count": 95,
      "outputs": [
        {
          "output_type": "stream",
          "name": "stdout",
          "text": [
            "Model: \"mnist_classification\"\n",
            "_________________________________________________________________\n",
            " Layer (type)                Output Shape              Param #   \n",
            "=================================================================\n",
            " input_11 (InputLayer)       [(None, 28, 28)]          0         \n",
            "                                                                 \n",
            " flatten_5 (Flatten)         (None, 784)               0         \n",
            "                                                                 \n",
            " dense_30 (Dense)            (None, 600)               471000    \n",
            "                                                                 \n",
            " dense_31 (Dense)            (None, 400)               240400    \n",
            "                                                                 \n",
            " dense_32 (Dense)            (None, 10)                4010      \n",
            "                                                                 \n",
            "=================================================================\n",
            "Total params: 715,410\n",
            "Trainable params: 715,410\n",
            "Non-trainable params: 0\n",
            "_________________________________________________________________\n"
          ]
        },
        {
          "output_type": "execute_result",
          "data": {
            "text/plain": [
              "<IPython.core.display.Image object>"
            ],
            "image/png": "[encoded data removed]"
          },
          "metadata": {},
          "execution_count": 95
        }
      ]
    },
    {
      "cell_type": "markdown",
      "source": [
        "### | 학습"
      ],
      "metadata": {
        "id": "mwtIo0te0dvn"
      }
    },
    {
      "cell_type": "markdown",
      "source": [
        "#### **모델 컴파일**\n",
        "\n",
        "```\n",
        "model.compile(loss, optimizer, metrics) \n",
        "```\n",
        "* `loss` : 다중분류 문제\n",
        "    * categorical_crossentropy: 원핫 완료된 상태, \n",
        "    * sparse_categorical_crossentropy: 원핫 안된상태\n",
        "* `optimizer` : 'adam'\n",
        "* `metrics`: 'accuracy' \n"
      ],
      "metadata": {
        "id": "BEN3BQFF0dvt"
      }
    },
    {
      "cell_type": "code",
      "source": [
        "model.compile(loss = 'categorical_crossentropy',\n",
        "              optimizer = 'adam',\n",
        "              metrics = ['accuracy'])"
      ],
      "metadata": {
        "id": "RhuM6-_f0dvt"
      },
      "execution_count": 96,
      "outputs": []
    },
    {
      "cell_type": "markdown",
      "source": [
        "#### **학습**\n",
        "\n",
        "```\n",
        "model.fit(x_train, y_train, epochs, batch_size)\n",
        "```\n",
        "* `x_train` : 넘파이 혹은 텐서 형식의 인풋 데이터\n",
        "* `y_train` : 넘파이 혹은 텐서 형식의 아웃풋 데이터\n",
        "* `epochs` : 학습 횟수\n",
        "* `batch_size` : 배치 사이즈 ((업데이트 한번에 사용될 샘플 개수)"
      ],
      "metadata": {
        "id": "weF5ryop0dvt"
      }
    },
    {
      "cell_type": "code",
      "source": [
        "model.fit(x_train, y_train, epochs = 5, batch_size = 8)"
      ],
      "metadata": {
        "id": "URyV2ICw0dvt",
        "colab": {
          "base_uri": "https://localhost:8080/"
        },
        "outputId": "777eed71-00f5-4e7d-a889-75137b49241f"
      },
      "execution_count": 98,
      "outputs": [
        {
          "output_type": "stream",
          "name": "stdout",
          "text": [
            "Epoch 1/5\n",
            "7500/7500 [==============================] - 20s 3ms/step - loss: 0.1338 - accuracy: 0.9606\n",
            "Epoch 2/5\n",
            "7500/7500 [==============================] - 20s 3ms/step - loss: 0.0874 - accuracy: 0.9734\n",
            "Epoch 3/5\n",
            "7500/7500 [==============================] - 18s 2ms/step - loss: 0.0694 - accuracy: 0.9803\n",
            "Epoch 4/5\n",
            "7500/7500 [==============================] - 18s 2ms/step - loss: 0.0576 - accuracy: 0.9836\n",
            "Epoch 5/5\n",
            "7500/7500 [==============================] - 18s 2ms/step - loss: 0.0508 - accuracy: 0.9859\n"
          ]
        },
        {
          "output_type": "execute_result",
          "data": {
            "text/plain": [
              "<keras.callbacks.History at 0x7eff702a6c50>"
            ]
          },
          "metadata": {},
          "execution_count": 98
        }
      ]
    },
    {
      "cell_type": "markdown",
      "source": [
        "### | 검증 및 예측\n"
      ],
      "metadata": {
        "id": "4UIAL_HA0dvt"
      }
    },
    {
      "cell_type": "markdown",
      "source": [
        "#### **검증**\n",
        "\n",
        "```\n",
        "model.evaluate(x_test, y_test)\n",
        "```\n",
        "* `x_test` : 넘파이 혹은 텐서 형식의 인풋 테스트 데이터\n",
        "* `y_test` : 넘파이 혹은 텐서 형식의 아웃풋 테스트 데이터"
      ],
      "metadata": {
        "id": "JNcvTwyU0dvt"
      }
    },
    {
      "cell_type": "code",
      "source": [
        "model.evaluate(x_test, y_test)"
      ],
      "metadata": {
        "id": "blrfzkKN0dvu",
        "colab": {
          "base_uri": "https://localhost:8080/"
        },
        "outputId": "d7acd8d8-5d61-48c5-832b-c14e59f7de4d"
      },
      "execution_count": 78,
      "outputs": [
        {
          "output_type": "stream",
          "name": "stdout",
          "text": [
            "313/313 [==============================] - 1s 2ms/step - loss: 0.1911 - accuracy: 0.9730\n"
          ]
        },
        {
          "output_type": "execute_result",
          "data": {
            "text/plain": [
              "[0.1911337822675705, 0.9729999899864197]"
            ]
          },
          "metadata": {},
          "execution_count": 78
        }
      ]
    },
    {
      "cell_type": "markdown",
      "source": [
        "#### **예측**\n",
        "\n",
        "```\n",
        "model.predict(x_test)\n",
        "```\n",
        "* `x_test` : 넘파이 혹은 텐서 형식의 인풋 테스트 데이터\n",
        "* `y_test` : 넘파이 혹은 텐서 형식의 아웃풋 테스트 데이터"
      ],
      "metadata": {
        "id": "4IHDLt-D0dvu"
      }
    },
    {
      "cell_type": "code",
      "source": [
        "y_pred = model.predict(x_test)\n",
        "print(y_test.shape, y_pred.shape)\n",
        "print(y_test[0], y_pred[0])\n",
        "# 원핫 인코딩 -> 라벨\n",
        "y_pred = np.argmax(y_pred, axis = 1)\n",
        "y_test = np.argmax(y_test, axis = 1)\n",
        "print(y_test.shape, y_pred.shape)\n",
        "print(y_test[0], y_pred[0])"
      ],
      "metadata": {
        "id": "P2lPLl970dvu",
        "colab": {
          "base_uri": "https://localhost:8080/"
        },
        "outputId": "ef81f9e7-8242-436e-fc14-6bf6800cdba1"
      },
      "execution_count": 79,
      "outputs": [
        {
          "output_type": "stream",
          "name": "stdout",
          "text": [
            "(10000, 10) (10000, 10)\n",
            "[0. 0. 0. 0. 0. 0. 0. 1. 0. 0.] [4.3118102e-21 3.7501216e-16 1.4083269e-17 4.7474507e-11 8.0185994e-16\n",
            " 1.2291489e-22 1.1014657e-37 1.0000000e+00 5.2520845e-18 9.8521656e-11]\n",
            "(10000,) (10000,)\n",
            "7 7\n"
          ]
        }
      ]
    },
    {
      "cell_type": "markdown",
      "source": [
        "* 예측 시각화"
      ],
      "metadata": {
        "id": "xyDfuLj-0dvu"
      }
    },
    {
      "cell_type": "code",
      "source": [
        "cm = confusion_matrix(y_test, y_pred)\n",
        "ConfusionMatrixDisplay(cm).plot(cmap = 'Blues')"
      ],
      "metadata": {
        "id": "GrBlEHxm0dvu",
        "colab": {
          "base_uri": "https://localhost:8080/",
          "height": 297
        },
        "outputId": "59b76d66-6668-4a32-98b4-daae2e347f26"
      },
      "execution_count": 80,
      "outputs": [
        {
          "output_type": "execute_result",
          "data": {
            "text/plain": [
              "<sklearn.metrics._plot.confusion_matrix.ConfusionMatrixDisplay at 0x7eff739d2850>"
            ]
          },
          "metadata": {},
          "execution_count": 80
        },
        {
          "output_type": "display_data",
          "data": {
            "text/plain": [
              "<Figure size 432x288 with 2 Axes>"
            ],
            "image/png": "[encoded data removed]"
          },
          "metadata": {
            "needs_background": "light"
          }
        }
      ]
    },
    {
      "cell_type": "markdown",
      "source": [
        "* 모델 활용"
      ],
      "metadata": {
        "id": "4-APLR7G2Dep"
      }
    },
    {
      "cell_type": "code",
      "source": [
        "mnist = tf.keras.datasets.mnist\n",
        "(x_train, y_train), (x_test, y_test) = mnist.load_data()\n",
        "\n",
        "# 정규화 (x)\n",
        "x_train = x_train/255.0 # (0~1)\n",
        "x_test = x_test/255.0\n",
        "\n",
        "# 원핫 (y)\n",
        "oh = OneHotEncoder(sparse = False)\n",
        "y_train = oh.fit_transform(np.expand_dims(y_train, 1))\n",
        "y_test = oh.fit_transform(np.expand_dims(y_test, 1))\n",
        "\n",
        "print(x_train.shape, y_train.shape, x_test.shape, y_test.shape)\n",
        "\n",
        "from tensorflow.keras import models, layers, utils\n",
        "\n",
        "\n",
        "# 모델 생성\n",
        "def build_mnistmodel():\n",
        "  x = layers.Input(shape = (28, 28))\n",
        "  z = layers.Flatten()(x)\n",
        "  # 중간층\n",
        "  z = layers.Dense(600, activation = 'relu')(z)\n",
        "  z = layers.Dense(400, activation = 'relu')(z)\n",
        "  \n",
        "  y = layers.Dense(10, activation = 'softmax')(z)\n",
        "\n",
        "  model = models.Model(x, y, name='mnist_classification')\n",
        "\n",
        "\n",
        "  return model\n",
        "\n",
        "# 모델 시각화\n",
        "model = build_mnistmodel()\n",
        "model.summary()\n",
        "utils.plot_model(model, show_shapes = True)\n",
        "\n",
        "# 모델 컴파일\n",
        "model.compile(loss = 'categorical_crossentropy',\n",
        "              optimizer = 'adam',\n",
        "              metrics = ['accuracy'])\n",
        "\n",
        "# 모델 학습\n",
        "model.fit(x_train, y_train, epochs = 5, batch_size = 8)\n",
        "\n",
        "# 모델 검증\n",
        "model.evaluate(x_test, y_test)\n",
        "\n",
        "# 예측\n",
        "# 원핫 인코딩 -> 라벨\n",
        "y_pred = model.predict(x_test)\n",
        "y_pred = np.argmax(y_pred, axis = 1)\n",
        "y_test = np.argmax(y_test, axis = 1)\n",
        "\n",
        "# 결과 시각화\n",
        "cm = confusion_matrix(y_test, y_pred)\n",
        "ConfusionMatrixDisplay(cm).plot(cmap = 'Blues')"
      ],
      "metadata": {
        "id": "3e_9LSrE0wbl",
        "colab": {
          "base_uri": "https://localhost:8080/",
          "height": 867
        },
        "outputId": "962f63c2-b8ad-4196-8b73-f8555e95fc9c"
      },
      "execution_count": 99,
      "outputs": [
        {
          "output_type": "stream",
          "name": "stdout",
          "text": [
            "(60000, 28, 28) (60000, 10) (10000, 28, 28) (10000, 10)\n",
            "Model: \"mnist_classification\"\n",
            "_________________________________________________________________\n",
            " Layer (type)                Output Shape              Param #   \n",
            "=================================================================\n",
            " input_12 (InputLayer)       [(None, 28, 28)]          0         \n",
            "                                                                 \n",
            " flatten_6 (Flatten)         (None, 784)               0         \n",
            "                                                                 \n",
            " dense_33 (Dense)            (None, 600)               471000    \n",
            "                                                                 \n",
            " dense_34 (Dense)            (None, 400)               240400    \n",
            "                                                                 \n",
            " dense_35 (Dense)            (None, 10)                4010      \n",
            "                                                                 \n",
            "=================================================================\n",
            "Total params: 715,410\n",
            "Trainable params: 715,410\n",
            "Non-trainable params: 0\n",
            "_________________________________________________________________\n",
            "Epoch 1/5\n",
            "7500/7500 [==============================] - 18s 2ms/step - loss: 0.1897 - accuracy: 0.9431\n",
            "Epoch 2/5\n",
            "7500/7500 [==============================] - 18s 2ms/step - loss: 0.0951 - accuracy: 0.9721\n",
            "Epoch 3/5\n",
            "7500/7500 [==============================] - 18s 2ms/step - loss: 0.0732 - accuracy: 0.9777\n",
            "Epoch 4/5\n",
            "7500/7500 [==============================] - 18s 2ms/step - loss: 0.0598 - accuracy: 0.9827\n",
            "Epoch 5/5\n",
            "7500/7500 [==============================] - 18s 2ms/step - loss: 0.0523 - accuracy: 0.9848\n",
            "313/313 [==============================] - 1s 2ms/step - loss: 0.1157 - accuracy: 0.9748\n"
          ]
        },
        {
          "output_type": "execute_result",
          "data": {
            "text/plain": [
              "<sklearn.metrics._plot.confusion_matrix.ConfusionMatrixDisplay at 0x7eff701103d0>"
            ]
          },
          "metadata": {},
          "execution_count": 99
        },
        {
          "output_type": "display_data",
          "data": {
            "text/plain": [
              "<Figure size 432x288 with 2 Axes>"
            ],
            "image/png": "[encoded data removed]"
          },
          "metadata": {
            "needs_background": "light"
          }
        }
      ]
    }
  ]
}